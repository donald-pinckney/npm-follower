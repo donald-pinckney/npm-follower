{
 "cells": [
  {
   "cell_type": "code",
   "execution_count": 2,
   "metadata": {
    "vscode": {
     "languageId": "r"
    }
   },
   "outputs": [
    {
     "name": "stderr",
     "output_type": "stream",
     "text": [
      "── \u001b[1mAttaching packages\u001b[22m ─────────────────────────────────────── tidyverse 1.3.2 ──\n",
      "\u001b[32m✔\u001b[39m \u001b[34mtibble \u001b[39m 3.1.8      \u001b[32m✔\u001b[39m \u001b[34mdplyr  \u001b[39m 1.0.10\n",
      "\u001b[32m✔\u001b[39m \u001b[34mtidyr  \u001b[39m 1.2.1      \u001b[32m✔\u001b[39m \u001b[34mstringr\u001b[39m 1.5.0 \n",
      "\u001b[32m✔\u001b[39m \u001b[34mreadr  \u001b[39m 2.1.3      \u001b[32m✔\u001b[39m \u001b[34mforcats\u001b[39m 0.5.2 \n",
      "\u001b[32m✔\u001b[39m \u001b[34mpurrr  \u001b[39m 1.0.0      \n",
      "── \u001b[1mConflicts\u001b[22m ────────────────────────────────────────── tidyverse_conflicts() ──\n",
      "\u001b[31m✖\u001b[39m \u001b[34mdplyr\u001b[39m::\u001b[32mfilter()\u001b[39m masks \u001b[34mstats\u001b[39m::filter()\n",
      "\u001b[31m✖\u001b[39m \u001b[34mdplyr\u001b[39m::\u001b[32mlag()\u001b[39m    masks \u001b[34mstats\u001b[39m::lag()\n",
      "Loading required package: lattice\n",
      "\n",
      "\n",
      "Attaching package: ‘caret’\n",
      "\n",
      "\n",
      "The following object is masked from ‘package:purrr’:\n",
      "\n",
      "    lift\n",
      "\n",
      "\n",
      "\n",
      "Attaching package: ‘scales’\n",
      "\n",
      "\n",
      "The following object is masked from ‘package:purrr’:\n",
      "\n",
      "    discard\n",
      "\n",
      "\n",
      "The following object is masked from ‘package:readr’:\n",
      "\n",
      "    col_factor\n",
      "\n",
      "\n"
     ]
    }
   ],
   "source": [
    "library(DBI)\n",
    "library(ggplot2)\n",
    "library(tidyverse)\n",
    "library(caret)\n",
    "library(scales)\n",
    "library(ggsankey)\n",
    "library(ggalluvial)"
   ]
  },
  {
   "cell_type": "code",
   "execution_count": 74,
   "metadata": {
    "vscode": {
     "languageId": "r"
    }
   },
   "outputs": [],
   "source": [
    "mytheme <- function() {\n",
    "  return(theme_bw() +\n",
    "           theme(\n",
    "             # NOTE: UNCOMMENT WHEN RENDING PLOTS FOR THE PAPER\n",
    "             # (can't get the CM fonts to work in artifact VM...)\n",
    "             text = element_text(family = \"Times\", size=10),\n",
    "              panel.grid.major = element_blank(),\n",
    "             # panel.grid.minor = element_blank(),\n",
    "             # panel.grid.major = element_line(colour=\"gray\", size=0.1),\n",
    "             # panel.grid.minor =\n",
    "             #  element_line(colour=\"gray\", size=0.1, linetype='dotted'),\n",
    "             axis.ticks = element_line(size=0.05),\n",
    "             axis.ticks.length=unit(\"-0.05\", \"in\"),\n",
    "             axis.text.y = element_text(margin = margin(r = 5)),\n",
    "             axis.text.x = element_text(hjust=1),\n",
    "             legend.key = element_rect(colour=NA),\n",
    "             legend.spacing = unit(0.001, \"in\"),\n",
    "             legend.key.size = unit(0.2, \"in\"),\n",
    "             legend.title = element_blank(),\n",
    "             legend.position = c(0.75, .7),\n",
    "             legend.background = element_blank()))\n",
    "}\n",
    "\n",
    "mysave <- function(filename) {\n",
    "  ggsave(filename, width=4, height=3, units=c(\"in\"))\n",
    "  # embed_font(path)\n",
    "}"
   ]
  },
  {
   "cell_type": "code",
   "execution_count": 3,
   "metadata": {
    "vscode": {
     "languageId": "r"
    }
   },
   "outputs": [],
   "source": [
    "con <- dbConnect(\n",
    "    RPostgres::Postgres(),\n",
    "    dbname = 'npm_data', \n",
    "    user = 'data_analyzer',\n",
    ")"
   ]
  },
  {
   "cell_type": "code",
   "execution_count": 61,
   "metadata": {
    "vscode": {
     "languageId": "r"
    }
   },
   "outputs": [],
   "source": [
    "# This takes about 40 seconds to load (when running on the VM!), and takes about 4GB of memory\n",
    "df <- dbGetQuery(con, \"\n",
    "    select \n",
    "        instant_update, \n",
    "        update_days, \n",
    "        downstream_updated_req, \n",
    "        is_intro, \n",
    "        is_patch, \n",
    "        is_neutral, \n",
    "        downstream_package_id, \n",
    "        result_category,\n",
    "        ty as update_type,\n",
    "        update_from_id\n",
    "    from analysis.old_historic_solver_job_flow_info f\n",
    "    inner join analysis.all_updates u on u.from_id = f.update_from_id and u.to_id = f.update_to_id\n",
    "\")"
   ]
  },
  {
   "cell_type": "code",
   "execution_count": 62,
   "metadata": {
    "vscode": {
     "languageId": "r"
    }
   },
   "outputs": [
    {
     "data": {
      "text/html": [
       "<table class=\"dataframe\">\n",
       "<caption>A data.frame: 6 × 10</caption>\n",
       "<thead>\n",
       "\t<tr><th></th><th scope=col>instant_update</th><th scope=col>update_days</th><th scope=col>downstream_updated_req</th><th scope=col>is_intro</th><th scope=col>is_patch</th><th scope=col>is_neutral</th><th scope=col>downstream_package_id</th><th scope=col>result_category</th><th scope=col>update_type</th><th scope=col>update_from_id</th></tr>\n",
       "\t<tr><th></th><th scope=col>&lt;lgl&gt;</th><th scope=col>&lt;int&gt;</th><th scope=col>&lt;lgl&gt;</th><th scope=col>&lt;lgl&gt;</th><th scope=col>&lt;lgl&gt;</th><th scope=col>&lt;lgl&gt;</th><th scope=col>&lt;int64&gt;</th><th scope=col>&lt;chr&gt;</th><th scope=col>&lt;chr&gt;</th><th scope=col>&lt;int64&gt;</th></tr>\n",
       "</thead>\n",
       "<tbody>\n",
       "\t<tr><th scope=row>1</th><td>TRUE</td><td>0</td><td>FALSE</td><td>FALSE</td><td>FALSE</td><td>TRUE</td><td>2146078</td><td>Ok</td><td>bug  </td><td>13028548</td></tr>\n",
       "\t<tr><th scope=row>2</th><td>TRUE</td><td>0</td><td>FALSE</td><td>FALSE</td><td>FALSE</td><td>TRUE</td><td>2267449</td><td>Ok</td><td>bug  </td><td>14647924</td></tr>\n",
       "\t<tr><th scope=row>3</th><td>TRUE</td><td>0</td><td>FALSE</td><td>FALSE</td><td>FALSE</td><td>TRUE</td><td>2267468</td><td>Ok</td><td>bug  </td><td>14647924</td></tr>\n",
       "\t<tr><th scope=row>4</th><td>TRUE</td><td>0</td><td>FALSE</td><td>FALSE</td><td>FALSE</td><td>TRUE</td><td>2267466</td><td>Ok</td><td>bug  </td><td>14647924</td></tr>\n",
       "\t<tr><th scope=row>5</th><td>TRUE</td><td>0</td><td>FALSE</td><td>FALSE</td><td>FALSE</td><td>TRUE</td><td>2267475</td><td>Ok</td><td>bug  </td><td>14647924</td></tr>\n",
       "\t<tr><th scope=row>6</th><td>TRUE</td><td>0</td><td>FALSE</td><td>FALSE</td><td>FALSE</td><td>TRUE</td><td>2267468</td><td>Ok</td><td>minor</td><td>14647922</td></tr>\n",
       "</tbody>\n",
       "</table>\n"
      ],
      "text/latex": [
       "A data.frame: 6 × 10\n",
       "\\begin{tabular}{r|llllllllll}\n",
       "  & instant\\_update & update\\_days & downstream\\_updated\\_req & is\\_intro & is\\_patch & is\\_neutral & downstream\\_package\\_id & result\\_category & update\\_type & update\\_from\\_id\\\\\n",
       "  & <lgl> & <int> & <lgl> & <lgl> & <lgl> & <lgl> & <int64> & <chr> & <chr> & <int64>\\\\\n",
       "\\hline\n",
       "\t1 & TRUE & 0 & FALSE & FALSE & FALSE & TRUE & 2146078 & Ok & bug   & 13028548\\\\\n",
       "\t2 & TRUE & 0 & FALSE & FALSE & FALSE & TRUE & 2267449 & Ok & bug   & 14647924\\\\\n",
       "\t3 & TRUE & 0 & FALSE & FALSE & FALSE & TRUE & 2267468 & Ok & bug   & 14647924\\\\\n",
       "\t4 & TRUE & 0 & FALSE & FALSE & FALSE & TRUE & 2267466 & Ok & bug   & 14647924\\\\\n",
       "\t5 & TRUE & 0 & FALSE & FALSE & FALSE & TRUE & 2267475 & Ok & bug   & 14647924\\\\\n",
       "\t6 & TRUE & 0 & FALSE & FALSE & FALSE & TRUE & 2267468 & Ok & minor & 14647922\\\\\n",
       "\\end{tabular}\n"
      ],
      "text/markdown": [
       "\n",
       "A data.frame: 6 × 10\n",
       "\n",
       "| <!--/--> | instant_update &lt;lgl&gt; | update_days &lt;int&gt; | downstream_updated_req &lt;lgl&gt; | is_intro &lt;lgl&gt; | is_patch &lt;lgl&gt; | is_neutral &lt;lgl&gt; | downstream_package_id &lt;int64&gt; | result_category &lt;chr&gt; | update_type &lt;chr&gt; | update_from_id &lt;int64&gt; |\n",
       "|---|---|---|---|---|---|---|---|---|---|---|\n",
       "| 1 | TRUE | 0 | FALSE | FALSE | FALSE | TRUE | 2146078 | Ok | bug   | 13028548 |\n",
       "| 2 | TRUE | 0 | FALSE | FALSE | FALSE | TRUE | 2267449 | Ok | bug   | 14647924 |\n",
       "| 3 | TRUE | 0 | FALSE | FALSE | FALSE | TRUE | 2267468 | Ok | bug   | 14647924 |\n",
       "| 4 | TRUE | 0 | FALSE | FALSE | FALSE | TRUE | 2267466 | Ok | bug   | 14647924 |\n",
       "| 5 | TRUE | 0 | FALSE | FALSE | FALSE | TRUE | 2267475 | Ok | bug   | 14647924 |\n",
       "| 6 | TRUE | 0 | FALSE | FALSE | FALSE | TRUE | 2267468 | Ok | minor | 14647922 |\n",
       "\n"
      ],
      "text/plain": [
       "  instant_update update_days downstream_updated_req is_intro is_patch\n",
       "1 TRUE           0           FALSE                  FALSE    FALSE   \n",
       "2 TRUE           0           FALSE                  FALSE    FALSE   \n",
       "3 TRUE           0           FALSE                  FALSE    FALSE   \n",
       "4 TRUE           0           FALSE                  FALSE    FALSE   \n",
       "5 TRUE           0           FALSE                  FALSE    FALSE   \n",
       "6 TRUE           0           FALSE                  FALSE    FALSE   \n",
       "  is_neutral downstream_package_id result_category update_type update_from_id\n",
       "1 TRUE       2146078               Ok              bug         13028548      \n",
       "2 TRUE       2267449               Ok              bug         14647924      \n",
       "3 TRUE       2267468               Ok              bug         14647924      \n",
       "4 TRUE       2267466               Ok              bug         14647924      \n",
       "5 TRUE       2267475               Ok              bug         14647924      \n",
       "6 TRUE       2267468               Ok              minor       14647922      "
      ]
     },
     "metadata": {},
     "output_type": "display_data"
    }
   ],
   "source": [
    "head(df)"
   ]
  },
  {
   "cell_type": "code",
   "execution_count": 66,
   "metadata": {
    "vscode": {
     "languageId": "r"
    }
   },
   "outputs": [],
   "source": [
    "clean_df <- df %>% mutate(\n",
    "    security_effect = ifelse(is_intro, 'introduces', ifelse(is_patch, 'patches', 'neutral')),\n",
    "    developer_intervention = ifelse(downstream_updated_req, 'intervention', 'no intervention'),\n",
    "    resolution = ifelse(result_category == 'Ok' & instant_update, 'instant update', ifelse(result_category == 'Ok', 'delayed update', ifelse(instant_update, 'WEIRD', 'deleted dependency')))\n",
    ") %>% \n",
    "filter(resolution != \"WEIRD\") %>% # A small number of updates instantly have deleted dependencies. These are anomalies caused by circular dependencies. We ignore them.\n",
    "filter(!(resolution == \"instant update\" & developer_intervention == \"intervention\")) %>% # A small number of updates are themselves the updates, due to circular dependencies. We ignore them.\n",
    "select(security_effect, update_type, developer_intervention, resolution, update_days, update_from_id)\n",
    "\n",
    "clean_df$update_type <- factor(as.character(clean_df$update_type), levels=c(\"bug\", \"minor\", \"major\"))\n",
    "clean_df$security_effect <- factor(clean_df$security_effect, levels=c(\"neutral\", \"patches\", \"introduces\"))\n",
    "clean_df$developer_intervention <- factor(clean_df$developer_intervention, levels=c(\"no intervention\", \"intervention\"))\n",
    "clean_df$resolution <- factor(clean_df$resolution, levels=c(\"instant update\", \"delayed update\", \"deleted dependency\"))"
   ]
  },
  {
   "cell_type": "code",
   "execution_count": 70,
   "metadata": {
    "vscode": {
     "languageId": "r"
    }
   },
   "outputs": [],
   "source": [
    "clean_df <- clean_df %>% select(-update_from_id)"
   ]
  },
  {
   "cell_type": "code",
   "execution_count": 7,
   "metadata": {
    "vscode": {
     "languageId": "r"
    }
   },
   "outputs": [
    {
     "name": "stderr",
     "output_type": "stream",
     "text": [
      "\u001b[1m\u001b[22m`summarise()` has grouped output by 'developer_intervention'. You can override\n",
      "using the `.groups` argument.\n"
     ]
    },
    {
     "data": {
      "text/html": [
       "<table class=\"dataframe\">\n",
       "<caption>A grouped_df: 5 × 3</caption>\n",
       "<thead>\n",
       "\t<tr><th scope=col>developer_intervention</th><th scope=col>resolution</th><th scope=col>count</th></tr>\n",
       "\t<tr><th scope=col>&lt;fct&gt;</th><th scope=col>&lt;fct&gt;</th><th scope=col>&lt;int&gt;</th></tr>\n",
       "</thead>\n",
       "<tbody>\n",
       "\t<tr><td>no intervention</td><td>instant update    </td><td>90262</td></tr>\n",
       "\t<tr><td>no intervention</td><td>delayed update    </td><td>  606</td></tr>\n",
       "\t<tr><td>no intervention</td><td>deleted dependency</td><td>   59</td></tr>\n",
       "\t<tr><td>intervention   </td><td>delayed update    </td><td> 9030</td></tr>\n",
       "\t<tr><td>intervention   </td><td>deleted dependency</td><td>  232</td></tr>\n",
       "</tbody>\n",
       "</table>\n"
      ],
      "text/latex": [
       "A grouped\\_df: 5 × 3\n",
       "\\begin{tabular}{lll}\n",
       " developer\\_intervention & resolution & count\\\\\n",
       " <fct> & <fct> & <int>\\\\\n",
       "\\hline\n",
       "\t no intervention & instant update     & 90262\\\\\n",
       "\t no intervention & delayed update     &   606\\\\\n",
       "\t no intervention & deleted dependency &    59\\\\\n",
       "\t intervention    & delayed update     &  9030\\\\\n",
       "\t intervention    & deleted dependency &   232\\\\\n",
       "\\end{tabular}\n"
      ],
      "text/markdown": [
       "\n",
       "A grouped_df: 5 × 3\n",
       "\n",
       "| developer_intervention &lt;fct&gt; | resolution &lt;fct&gt; | count &lt;int&gt; |\n",
       "|---|---|---|\n",
       "| no intervention | instant update     | 90262 |\n",
       "| no intervention | delayed update     |   606 |\n",
       "| no intervention | deleted dependency |    59 |\n",
       "| intervention    | delayed update     |  9030 |\n",
       "| intervention    | deleted dependency |   232 |\n",
       "\n"
      ],
      "text/plain": [
       "  developer_intervention resolution         count\n",
       "1 no intervention        instant update     90262\n",
       "2 no intervention        delayed update       606\n",
       "3 no intervention        deleted dependency    59\n",
       "4 intervention           delayed update      9030\n",
       "5 intervention           deleted dependency   232"
      ]
     },
     "metadata": {},
     "output_type": "display_data"
    }
   ],
   "source": [
    "clean_df %>% group_by(developer_intervention, resolution) %>% summarise(count = n())"
   ]
  },
  {
   "cell_type": "code",
   "execution_count": 8,
   "metadata": {
    "vscode": {
     "languageId": "r"
    }
   },
   "outputs": [],
   "source": [
    "sec_percs <- clean_df %>% group_by(security_effect) %>% \n",
    "    summarise(count = n()) %>%\n",
    "    mutate(per=paste0(round(count/sum(count)*100, 2), \"%\")) %>% \n",
    "    ungroup()\n",
    "    \n",
    "introduces_perc <- sec_percs %>% filter(security_effect == \"introduces\") %>% pull(per)\n",
    "patches_perc <- sec_percs %>% filter(security_effect == \"patches\") %>% pull(per)\n",
    "neutral_perc <- sec_percs %>% filter(security_effect == \"neutral\") %>% pull(per)\n"
   ]
  },
  {
   "cell_type": "code",
   "execution_count": 9,
   "metadata": {
    "vscode": {
     "languageId": "r"
    }
   },
   "outputs": [
    {
     "name": "stderr",
     "output_type": "stream",
     "text": [
      "Warning message:\n",
      "“attributes are not identical across measure variables;\n",
      "they will be dropped”\n"
     ]
    }
   ],
   "source": [
    "long_df <- clean_df %>% mutate(sec_effect2 = security_effect) %>% make_long(security_effect, update_type, developer_intervention, resolution, value=sec_effect2)"
   ]
  },
  {
   "cell_type": "code",
   "execution_count": 10,
   "metadata": {
    "vscode": {
     "languageId": "r"
    }
   },
   "outputs": [],
   "source": [
    "long_df <- long_df %>% mutate(\n",
    "    weight=ifelse(value == \"introduces\", 200, ifelse(value == \"patches\", 10, 1)),\n",
    "    sec_effect2 = value\n",
    ") %>% select(-value)"
   ]
  },
  {
   "cell_type": "code",
   "execution_count": 11,
   "metadata": {
    "vscode": {
     "languageId": "r"
    }
   },
   "outputs": [],
   "source": [
    "node_order <- c(\"neutral\", \"patches\", \"introduces\", \"bug\", \"minor\", \"major\", \"no intervention\", \"intervention\", \"instant update\", \"delayed update\", \"deleted dependency\")\n",
    "long_df$node <- factor(long_df$node, levels=node_order)\n",
    "long_df$next_node <- factor(long_df$next_node, levels=node_order)\n",
    "long_df$sec_effect2 <- factor(long_df$sec_effect2, levels=c(\"neutral\", \"patches\", \"introduces\"))\n"
   ]
  },
  {
   "cell_type": "code",
   "execution_count": 12,
   "metadata": {
    "vscode": {
     "languageId": "r"
    }
   },
   "outputs": [],
   "source": [
    "long_df$x <- recode_factor(long_df$x, security_effect = \"Security Effect\", update_type = \"Update Type\", developer_intervention = \"Developer Intervention\", resolution = \"Resolution\")\n",
    "long_df$next_x <- recode_factor(long_df$next_x, security_effect = \"Security Effect\", update_type = \"Update Type\", developer_intervention = \"Developer Intervention\", resolution = \"Resolution\")"
   ]
  },
  {
   "cell_type": "code",
   "execution_count": 13,
   "metadata": {
    "vscode": {
     "languageId": "r"
    }
   },
   "outputs": [
    {
     "data": {
      "text/html": [
       "<style>\n",
       ".list-inline {list-style: none; margin:0; padding: 0}\n",
       ".list-inline>li {display: inline-block}\n",
       ".list-inline>li:not(:last-child)::after {content: \"\\00b7\"; padding: 0 .5ex}\n",
       "</style>\n",
       "<ol class=list-inline><li>'Security Effect'</li><li>'Update Type'</li><li>'Developer Intervention'</li><li>'Resolution'</li></ol>\n"
      ],
      "text/latex": [
       "\\begin{enumerate*}\n",
       "\\item 'Security Effect'\n",
       "\\item 'Update Type'\n",
       "\\item 'Developer Intervention'\n",
       "\\item 'Resolution'\n",
       "\\end{enumerate*}\n"
      ],
      "text/markdown": [
       "1. 'Security Effect'\n",
       "2. 'Update Type'\n",
       "3. 'Developer Intervention'\n",
       "4. 'Resolution'\n",
       "\n",
       "\n"
      ],
      "text/plain": [
       "[1] \"Security Effect\"        \"Update Type\"            \"Developer Intervention\"\n",
       "[4] \"Resolution\"            "
      ]
     },
     "metadata": {},
     "output_type": "display_data"
    }
   ],
   "source": [
    "levels(long_df$x)"
   ]
  },
  {
   "cell_type": "code",
   "execution_count": 14,
   "metadata": {
    "vscode": {
     "languageId": "r"
    }
   },
   "outputs": [
    {
     "data": {
      "text/html": [
       "<table class=\"dataframe\">\n",
       "<caption>A tibble: 6 × 6</caption>\n",
       "<thead>\n",
       "\t<tr><th scope=col>x</th><th scope=col>node</th><th scope=col>next_x</th><th scope=col>next_node</th><th scope=col>weight</th><th scope=col>sec_effect2</th></tr>\n",
       "\t<tr><th scope=col>&lt;fct&gt;</th><th scope=col>&lt;fct&gt;</th><th scope=col>&lt;fct&gt;</th><th scope=col>&lt;fct&gt;</th><th scope=col>&lt;dbl&gt;</th><th scope=col>&lt;fct&gt;</th></tr>\n",
       "</thead>\n",
       "<tbody>\n",
       "\t<tr><td>Security Effect       </td><td>neutral        </td><td>Update Type           </td><td>bug            </td><td>1</td><td>neutral</td></tr>\n",
       "\t<tr><td>Update Type           </td><td>bug            </td><td>Developer Intervention</td><td>no intervention</td><td>1</td><td>neutral</td></tr>\n",
       "\t<tr><td>Developer Intervention</td><td>no intervention</td><td>Resolution            </td><td>instant update </td><td>1</td><td>neutral</td></tr>\n",
       "\t<tr><td>Resolution            </td><td>instant update </td><td>NA                    </td><td>NA             </td><td>1</td><td>neutral</td></tr>\n",
       "\t<tr><td>Security Effect       </td><td>neutral        </td><td>Update Type           </td><td>bug            </td><td>1</td><td>neutral</td></tr>\n",
       "\t<tr><td>Update Type           </td><td>bug            </td><td>Developer Intervention</td><td>no intervention</td><td>1</td><td>neutral</td></tr>\n",
       "</tbody>\n",
       "</table>\n"
      ],
      "text/latex": [
       "A tibble: 6 × 6\n",
       "\\begin{tabular}{llllll}\n",
       " x & node & next\\_x & next\\_node & weight & sec\\_effect2\\\\\n",
       " <fct> & <fct> & <fct> & <fct> & <dbl> & <fct>\\\\\n",
       "\\hline\n",
       "\t Security Effect        & neutral         & Update Type            & bug             & 1 & neutral\\\\\n",
       "\t Update Type            & bug             & Developer Intervention & no intervention & 1 & neutral\\\\\n",
       "\t Developer Intervention & no intervention & Resolution             & instant update  & 1 & neutral\\\\\n",
       "\t Resolution             & instant update  & NA                     & NA              & 1 & neutral\\\\\n",
       "\t Security Effect        & neutral         & Update Type            & bug             & 1 & neutral\\\\\n",
       "\t Update Type            & bug             & Developer Intervention & no intervention & 1 & neutral\\\\\n",
       "\\end{tabular}\n"
      ],
      "text/markdown": [
       "\n",
       "A tibble: 6 × 6\n",
       "\n",
       "| x &lt;fct&gt; | node &lt;fct&gt; | next_x &lt;fct&gt; | next_node &lt;fct&gt; | weight &lt;dbl&gt; | sec_effect2 &lt;fct&gt; |\n",
       "|---|---|---|---|---|---|\n",
       "| Security Effect        | neutral         | Update Type            | bug             | 1 | neutral |\n",
       "| Update Type            | bug             | Developer Intervention | no intervention | 1 | neutral |\n",
       "| Developer Intervention | no intervention | Resolution             | instant update  | 1 | neutral |\n",
       "| Resolution             | instant update  | NA                     | NA              | 1 | neutral |\n",
       "| Security Effect        | neutral         | Update Type            | bug             | 1 | neutral |\n",
       "| Update Type            | bug             | Developer Intervention | no intervention | 1 | neutral |\n",
       "\n"
      ],
      "text/plain": [
       "  x                      node            next_x                 next_node      \n",
       "1 Security Effect        neutral         Update Type            bug            \n",
       "2 Update Type            bug             Developer Intervention no intervention\n",
       "3 Developer Intervention no intervention Resolution             instant update \n",
       "4 Resolution             instant update  NA                     NA             \n",
       "5 Security Effect        neutral         Update Type            bug            \n",
       "6 Update Type            bug             Developer Intervention no intervention\n",
       "  weight sec_effect2\n",
       "1 1      neutral    \n",
       "2 1      neutral    \n",
       "3 1      neutral    \n",
       "4 1      neutral    \n",
       "5 1      neutral    \n",
       "6 1      neutral    "
      ]
     },
     "metadata": {},
     "output_type": "display_data"
    }
   ],
   "source": [
    "head(long_df)"
   ]
  },
  {
   "cell_type": "code",
   "execution_count": 84,
   "metadata": {
    "vscode": {
     "languageId": "r"
    }
   },
   "outputs": [
    {
     "data": {
      "image/png": "[encoded data removed]",
      "text/plain": [
       "plot without title"
      ]
     },
     "metadata": {
      "image/png": {
       "height": 420,
       "width": 420
      }
     },
     "output_type": "display_data"
    }
   ],
   "source": [
    "long_df %>% mutate(\n",
    "    extra_lab = ifelse(node == \"introduces\", paste0(\"\\n(\", introduces_perc, \")\"), ifelse(node == \"patches\", paste0(\"\\n(\", patches_perc, \")\"), ifelse(node == \"neutral\", paste0(\"\\n(\", neutral_perc, \")\"), \"\")))\n",
    ") %>% ggplot( \n",
    "    aes(x = x, \n",
    "        next_x = next_x, \n",
    "        node = node, \n",
    "        next_node = next_node,\n",
    "        fill = factor(node),\n",
    "        value = weight,\n",
    "        label = paste0(node, extra_lab))) +\n",
    "    geom_sankey(flow.alpha = 0.8, node.color = 1) +\n",
    "    geom_sankey_label(size = 3.5, color = 1, fill = \"white\") +\n",
    "    # geom_text()\n",
    "    scale_fill_viridis_d() +\n",
    "    theme_sankey(base_size = 16) +\n",
    "    labs(x = NULL) + \n",
    "    theme(\n",
    "        legend.position = \"none\",\n",
    "        text = element_text(family = \"Times\", size=16),\n",
    "    )\n",
    "\n",
    "ggsave(\"plots/rq3/flow_analysis.pdf\", width=8, height=6, units=c(\"in\"))\n"
   ]
  },
  {
   "cell_type": "code",
   "execution_count": 27,
   "metadata": {
    "vscode": {
     "languageId": "r"
    }
   },
   "outputs": [
    {
     "name": "stderr",
     "output_type": "stream",
     "text": [
      "\u001b[1m\u001b[22m`summarise()` has grouped output by 'developer_intervention'. You can override\n",
      "using the `.groups` argument.\n"
     ]
    },
    {
     "data": {
      "text/html": [
       "<table class=\"dataframe\">\n",
       "<caption>A tibble: 5 × 4</caption>\n",
       "<thead>\n",
       "\t<tr><th scope=col>developer_intervention</th><th scope=col>resolution</th><th scope=col>count</th><th scope=col>perc</th></tr>\n",
       "\t<tr><th scope=col>&lt;fct&gt;</th><th scope=col>&lt;fct&gt;</th><th scope=col>&lt;int&gt;</th><th scope=col>&lt;dbl&gt;</th></tr>\n",
       "</thead>\n",
       "<tbody>\n",
       "\t<tr><td>no intervention</td><td>instant update    </td><td>90262</td><td>90.0917266</td></tr>\n",
       "\t<tr><td>no intervention</td><td>delayed update    </td><td>  606</td><td> 0.6048568</td></tr>\n",
       "\t<tr><td>no intervention</td><td>deleted dependency</td><td>   59</td><td> 0.0588887</td></tr>\n",
       "\t<tr><td>intervention   </td><td>delayed update    </td><td> 9030</td><td> 9.0129655</td></tr>\n",
       "\t<tr><td>intervention   </td><td>deleted dependency</td><td>  232</td><td> 0.2315623</td></tr>\n",
       "</tbody>\n",
       "</table>\n"
      ],
      "text/latex": [
       "A tibble: 5 × 4\n",
       "\\begin{tabular}{llll}\n",
       " developer\\_intervention & resolution & count & perc\\\\\n",
       " <fct> & <fct> & <int> & <dbl>\\\\\n",
       "\\hline\n",
       "\t no intervention & instant update     & 90262 & 90.0917266\\\\\n",
       "\t no intervention & delayed update     &   606 &  0.6048568\\\\\n",
       "\t no intervention & deleted dependency &    59 &  0.0588887\\\\\n",
       "\t intervention    & delayed update     &  9030 &  9.0129655\\\\\n",
       "\t intervention    & deleted dependency &   232 &  0.2315623\\\\\n",
       "\\end{tabular}\n"
      ],
      "text/markdown": [
       "\n",
       "A tibble: 5 × 4\n",
       "\n",
       "| developer_intervention &lt;fct&gt; | resolution &lt;fct&gt; | count &lt;int&gt; | perc &lt;dbl&gt; |\n",
       "|---|---|---|---|\n",
       "| no intervention | instant update     | 90262 | 90.0917266 |\n",
       "| no intervention | delayed update     |   606 |  0.6048568 |\n",
       "| no intervention | deleted dependency |    59 |  0.0588887 |\n",
       "| intervention    | delayed update     |  9030 |  9.0129655 |\n",
       "| intervention    | deleted dependency |   232 |  0.2315623 |\n",
       "\n"
      ],
      "text/plain": [
       "  developer_intervention resolution         count perc      \n",
       "1 no intervention        instant update     90262 90.0917266\n",
       "2 no intervention        delayed update       606  0.6048568\n",
       "3 no intervention        deleted dependency    59  0.0588887\n",
       "4 intervention           delayed update      9030  9.0129655\n",
       "5 intervention           deleted dependency   232  0.2315623"
      ]
     },
     "metadata": {},
     "output_type": "display_data"
    }
   ],
   "source": [
    "clean_df %>% group_by(developer_intervention, resolution) %>% summarise(count = n()) %>% ungroup() %>% mutate(\n",
    "    perc = 100 * count/sum(count)\n",
    ")"
   ]
  },
  {
   "cell_type": "code",
   "execution_count": 29,
   "metadata": {
    "vscode": {
     "languageId": "r"
    }
   },
   "outputs": [
    {
     "data": {
      "text/html": [
       "<table class=\"dataframe\">\n",
       "<caption>A tibble: 3 × 3</caption>\n",
       "<thead>\n",
       "\t<tr><th scope=col>update_type</th><th scope=col>count</th><th scope=col>perc</th></tr>\n",
       "\t<tr><th scope=col>&lt;fct&gt;</th><th scope=col>&lt;int&gt;</th><th scope=col>&lt;dbl&gt;</th></tr>\n",
       "</thead>\n",
       "<tbody>\n",
       "\t<tr><td>bug  </td><td>2855</td><td>31.61683</td></tr>\n",
       "\t<tr><td>minor</td><td>3637</td><td>40.27685</td></tr>\n",
       "\t<tr><td>major</td><td>2538</td><td>28.10631</td></tr>\n",
       "</tbody>\n",
       "</table>\n"
      ],
      "text/latex": [
       "A tibble: 3 × 3\n",
       "\\begin{tabular}{lll}\n",
       " update\\_type & count & perc\\\\\n",
       " <fct> & <int> & <dbl>\\\\\n",
       "\\hline\n",
       "\t bug   & 2855 & 31.61683\\\\\n",
       "\t minor & 3637 & 40.27685\\\\\n",
       "\t major & 2538 & 28.10631\\\\\n",
       "\\end{tabular}\n"
      ],
      "text/markdown": [
       "\n",
       "A tibble: 3 × 3\n",
       "\n",
       "| update_type &lt;fct&gt; | count &lt;int&gt; | perc &lt;dbl&gt; |\n",
       "|---|---|---|\n",
       "| bug   | 2855 | 31.61683 |\n",
       "| minor | 3637 | 40.27685 |\n",
       "| major | 2538 | 28.10631 |\n",
       "\n"
      ],
      "text/plain": [
       "  update_type count perc    \n",
       "1 bug         2855  31.61683\n",
       "2 minor       3637  40.27685\n",
       "3 major       2538  28.10631"
      ]
     },
     "metadata": {},
     "output_type": "display_data"
    }
   ],
   "source": [
    "clean_df %>% filter(resolution == \"delayed update\" & developer_intervention == \"intervention\") %>% group_by(update_type) %>% summarise(count = n()) %>% ungroup() %>% mutate(\n",
    "    perc = 100 * count/sum(count)\n",
    ")"
   ]
  },
  {
   "cell_type": "code",
   "execution_count": 26,
   "metadata": {
    "vscode": {
     "languageId": "r"
    }
   },
   "outputs": [
    {
     "name": "stderr",
     "output_type": "stream",
     "text": [
      "\u001b[1m\u001b[22m`summarise()` has grouped output by 'developer_intervention'. You can override\n",
      "using the `.groups` argument.\n"
     ]
    },
    {
     "data": {
      "text/html": [
       "<table class=\"dataframe\">\n",
       "<caption>A tibble: 5 × 4</caption>\n",
       "<thead>\n",
       "\t<tr><th scope=col>developer_intervention</th><th scope=col>resolution</th><th scope=col>count</th><th scope=col>perc</th></tr>\n",
       "\t<tr><th scope=col>&lt;fct&gt;</th><th scope=col>&lt;fct&gt;</th><th scope=col>&lt;int&gt;</th><th scope=col>&lt;dbl&gt;</th></tr>\n",
       "</thead>\n",
       "<tbody>\n",
       "\t<tr><td>no intervention</td><td>instant update    </td><td>63065</td><td>95.42146434</td></tr>\n",
       "\t<tr><td>no intervention</td><td>delayed update    </td><td>  112</td><td> 0.16946332</td></tr>\n",
       "\t<tr><td>no intervention</td><td>deleted dependency</td><td>    9</td><td> 0.01361759</td></tr>\n",
       "\t<tr><td>intervention   </td><td>delayed update    </td><td> 2855</td><td> 4.31980149</td></tr>\n",
       "\t<tr><td>intervention   </td><td>deleted dependency</td><td>   50</td><td> 0.07565327</td></tr>\n",
       "</tbody>\n",
       "</table>\n"
      ],
      "text/latex": [
       "A tibble: 5 × 4\n",
       "\\begin{tabular}{llll}\n",
       " developer\\_intervention & resolution & count & perc\\\\\n",
       " <fct> & <fct> & <int> & <dbl>\\\\\n",
       "\\hline\n",
       "\t no intervention & instant update     & 63065 & 95.42146434\\\\\n",
       "\t no intervention & delayed update     &   112 &  0.16946332\\\\\n",
       "\t no intervention & deleted dependency &     9 &  0.01361759\\\\\n",
       "\t intervention    & delayed update     &  2855 &  4.31980149\\\\\n",
       "\t intervention    & deleted dependency &    50 &  0.07565327\\\\\n",
       "\\end{tabular}\n"
      ],
      "text/markdown": [
       "\n",
       "A tibble: 5 × 4\n",
       "\n",
       "| developer_intervention &lt;fct&gt; | resolution &lt;fct&gt; | count &lt;int&gt; | perc &lt;dbl&gt; |\n",
       "|---|---|---|---|\n",
       "| no intervention | instant update     | 63065 | 95.42146434 |\n",
       "| no intervention | delayed update     |   112 |  0.16946332 |\n",
       "| no intervention | deleted dependency |     9 |  0.01361759 |\n",
       "| intervention    | delayed update     |  2855 |  4.31980149 |\n",
       "| intervention    | deleted dependency |    50 |  0.07565327 |\n",
       "\n"
      ],
      "text/plain": [
       "  developer_intervention resolution         count perc       \n",
       "1 no intervention        instant update     63065 95.42146434\n",
       "2 no intervention        delayed update       112  0.16946332\n",
       "3 no intervention        deleted dependency     9  0.01361759\n",
       "4 intervention           delayed update      2855  4.31980149\n",
       "5 intervention           deleted dependency    50  0.07565327"
      ]
     },
     "metadata": {},
     "output_type": "display_data"
    }
   ],
   "source": [
    "clean_df %>% filter(update_type == \"bug\") %>% group_by(developer_intervention, resolution) %>% summarise(count = n()) %>% ungroup() %>% mutate(\n",
    "    perc = 100 * count/sum(count)\n",
    ")"
   ]
  },
  {
   "cell_type": "code",
   "execution_count": 30,
   "metadata": {
    "vscode": {
     "languageId": "r"
    }
   },
   "outputs": [
    {
     "data": {
      "text/html": [
       "<table class=\"dataframe\">\n",
       "<caption>A tibble: 3 × 3</caption>\n",
       "<thead>\n",
       "\t<tr><th scope=col>resolution</th><th scope=col>count</th><th scope=col>perc</th></tr>\n",
       "\t<tr><th scope=col>&lt;fct&gt;</th><th scope=col>&lt;int&gt;</th><th scope=col>&lt;dbl&gt;</th></tr>\n",
       "</thead>\n",
       "<tbody>\n",
       "\t<tr><td>instant update    </td><td>90262</td><td>90.091727</td></tr>\n",
       "\t<tr><td>delayed update    </td><td> 9636</td><td> 9.617822</td></tr>\n",
       "\t<tr><td>deleted dependency</td><td>  291</td><td> 0.290451</td></tr>\n",
       "</tbody>\n",
       "</table>\n"
      ],
      "text/latex": [
       "A tibble: 3 × 3\n",
       "\\begin{tabular}{lll}\n",
       " resolution & count & perc\\\\\n",
       " <fct> & <int> & <dbl>\\\\\n",
       "\\hline\n",
       "\t instant update     & 90262 & 90.091727\\\\\n",
       "\t delayed update     &  9636 &  9.617822\\\\\n",
       "\t deleted dependency &   291 &  0.290451\\\\\n",
       "\\end{tabular}\n"
      ],
      "text/markdown": [
       "\n",
       "A tibble: 3 × 3\n",
       "\n",
       "| resolution &lt;fct&gt; | count &lt;int&gt; | perc &lt;dbl&gt; |\n",
       "|---|---|---|\n",
       "| instant update     | 90262 | 90.091727 |\n",
       "| delayed update     |  9636 |  9.617822 |\n",
       "| deleted dependency |   291 |  0.290451 |\n",
       "\n"
      ],
      "text/plain": [
       "  resolution         count perc     \n",
       "1 instant update     90262 90.091727\n",
       "2 delayed update      9636  9.617822\n",
       "3 deleted dependency   291  0.290451"
      ]
     },
     "metadata": {},
     "output_type": "display_data"
    }
   ],
   "source": [
    "clean_df %>% group_by(resolution) %>% summarise(count = n()) %>% ungroup() %>% mutate(\n",
    "    perc = 100 * count/sum(count)\n",
    ")"
   ]
  },
  {
   "cell_type": "code",
   "execution_count": 86,
   "metadata": {
    "vscode": {
     "languageId": "r"
    }
   },
   "outputs": [
    {
     "data": {
      "image/png": "[encoded data removed]",
      "text/plain": [
       "plot without title"
      ]
     },
     "metadata": {
      "image/png": {
       "height": 420,
       "width": 420
      }
     },
     "output_type": "display_data"
    }
   ],
   "source": [
    "clean_df %>% \n",
    "    filter(resolution == \"delayed update\") %>%\n",
    "        ggplot(aes(x = update_days)) + \n",
    "        stat_ecdf() +\n",
    "        scale_y_continuous(labels = scales::percent) + \n",
    "        labs(x = \"Days for downstream to receive update\", y = \"Cumulative percentage of flows\") + \n",
    "        mytheme()\n",
    "\n",
    "mysave(\"plots/rq3/delayed_update_days.pdf\")"
   ]
  },
  {
   "cell_type": "code",
   "execution_count": null,
   "metadata": {
    "vscode": {
     "languageId": "r"
    }
   },
   "outputs": [],
   "source": []
  }
 ],
 "metadata": {
  "kernelspec": {
   "display_name": "R",
   "language": "R",
   "name": "ir"
  },
  "language_info": {
   "codemirror_mode": "r",
   "file_extension": ".r",
   "mimetype": "text/x-r-source",
   "name": "R",
   "pygments_lexer": "r",
   "version": "3.6.3"
  },
  "orig_nbformat": 4,
  "vscode": {
   "interpreter": {
    "hash": "31f2aee4e71d21fbe5cf8b01ff0e069b9275f58929596ceb00d14d90e3e16cd6"
   }
  }
 },
 "nbformat": 4,
 "nbformat_minor": 2
}
