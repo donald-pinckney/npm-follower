{
 "cells": [
  {
   "cell_type": "code",
   "execution_count": 1,
   "metadata": {
    "vscode": {
     "languageId": "r"
    }
   },
   "outputs": [
    {
     "name": "stderr",
     "output_type": "stream",
     "text": [
      "── \u001b[1mAttaching packages\u001b[22m ─────────────────────────────────────── tidyverse 1.3.2 ──\n",
      "\u001b[32m✔\u001b[39m \u001b[34mtibble \u001b[39m 3.1.8      \u001b[32m✔\u001b[39m \u001b[34mdplyr  \u001b[39m 1.0.10\n",
      "\u001b[32m✔\u001b[39m \u001b[34mtidyr  \u001b[39m 1.2.1      \u001b[32m✔\u001b[39m \u001b[34mstringr\u001b[39m 1.5.0 \n",
      "\u001b[32m✔\u001b[39m \u001b[34mreadr  \u001b[39m 2.1.3      \u001b[32m✔\u001b[39m \u001b[34mforcats\u001b[39m 0.5.2 \n",
      "\u001b[32m✔\u001b[39m \u001b[34mpurrr  \u001b[39m 1.0.0      \n",
      "── \u001b[1mConflicts\u001b[22m ────────────────────────────────────────── tidyverse_conflicts() ──\n",
      "\u001b[31m✖\u001b[39m \u001b[34mdplyr\u001b[39m::\u001b[32mfilter()\u001b[39m masks \u001b[34mstats\u001b[39m::filter()\n",
      "\u001b[31m✖\u001b[39m \u001b[34mdplyr\u001b[39m::\u001b[32mlag()\u001b[39m    masks \u001b[34mstats\u001b[39m::lag()\n",
      "Loading required package: lattice\n",
      "\n",
      "\n",
      "Attaching package: ‘caret’\n",
      "\n",
      "\n",
      "The following object is masked from ‘package:purrr’:\n",
      "\n",
      "    lift\n",
      "\n",
      "\n",
      "\n",
      "Attaching package: ‘scales’\n",
      "\n",
      "\n",
      "The following object is masked from ‘package:purrr’:\n",
      "\n",
      "    discard\n",
      "\n",
      "\n",
      "The following object is masked from ‘package:readr’:\n",
      "\n",
      "    col_factor\n",
      "\n",
      "\n"
     ]
    }
   ],
   "source": [
    "library(DBI)\n",
    "library(ggplot2)\n",
    "library(tidyverse)\n",
    "library(caret)\n",
    "library(scales)"
   ]
  },
  {
   "cell_type": "code",
   "execution_count": 2,
   "metadata": {
    "vscode": {
     "languageId": "r"
    }
   },
   "outputs": [],
   "source": [
    "mytheme <- function() {\n",
    "  return(theme_bw() +\n",
    "           theme(\n",
    "             # NOTE: UNCOMMENT WHEN RENDING PLOTS FOR THE PAPER\n",
    "             # (can't get the CM fonts to work in artifact VM...)\n",
    "             text = element_text(family = \"Times\", size=10),\n",
    "              panel.grid.major = element_blank(),\n",
    "             # panel.grid.minor = element_blank(),\n",
    "             # panel.grid.major = element_line(colour=\"gray\", size=0.1),\n",
    "             # panel.grid.minor =\n",
    "             #  element_line(colour=\"gray\", size=0.1, linetype='dotted'),\n",
    "             axis.ticks = element_line(size=0.05),\n",
    "             axis.ticks.length=unit(\"-0.05\", \"in\"),\n",
    "             axis.text.y = element_text(margin = margin(r = 5)),\n",
    "             axis.text.x = element_text(hjust=1),\n",
    "             legend.key = element_rect(colour=NA),\n",
    "             legend.spacing = unit(0.001, \"in\"),\n",
    "             legend.key.size = unit(0.2, \"in\"),\n",
    "             legend.title = element_blank(),\n",
    "             legend.position = c(0.75, .7),\n",
    "             legend.background = element_blank()))\n",
    "}\n",
    "\n",
    "mysave <- function(filename) {\n",
    "  ggsave(filename, width=6, height=4.5, units=c(\"in\"))\n",
    "  # embed_font(path)\n",
    "}"
   ]
  },
  {
   "cell_type": "code",
   "execution_count": 3,
   "metadata": {
    "vscode": {
     "languageId": "r"
    }
   },
   "outputs": [],
   "source": [
    "con <- dbConnect(\n",
    "    RPostgres::Postgres(),\n",
    "    dbname = 'npm_data', \n",
    "    user = 'data_analyzer',\n",
    ")"
   ]
  },
  {
   "cell_type": "code",
   "execution_count": 4,
   "metadata": {
    "vscode": {
     "languageId": "r"
    }
   },
   "outputs": [],
   "source": [
    "# This takes about 40 seconds to load (when running on the VM!), and takes about 4GB of memory\n",
    "df_full <- dbGetQuery(con, \"\n",
    "    select update_from_id, update_to_id, downstream_package_id, (unnest(oldnesses)).* from historic_solver_job_results_oldnesses\n",
    "    where array_length(oldnesses, 1) is not null\n",
    "\")"
   ]
  },
  {
   "cell_type": "code",
   "execution_count": 5,
   "metadata": {
    "vscode": {
     "languageId": "r"
    }
   },
   "outputs": [],
   "source": [
    "df_sub <- df_full[sample(nrow(df_full), 10000),] "
   ]
  },
  {
   "cell_type": "code",
   "execution_count": 6,
   "metadata": {
    "vscode": {
     "languageId": "r"
    }
   },
   "outputs": [],
   "source": [
    "df <- df_full"
   ]
  },
  {
   "cell_type": "code",
   "execution_count": 7,
   "metadata": {
    "vscode": {
     "languageId": "r"
    }
   },
   "outputs": [],
   "source": [
    "downstream_oldness_stats <- df %>% \n",
    "    group_by(downstream_package_id) %>% \n",
    "    summarise(\n",
    "        n = n(),\n",
    "        mean_old_secs = mean(as.numeric(old_secs)),\n",
    "        num_old = sum(old_secs > 10),\n",
    "        perc_old = num_old / n\n",
    "    ) %>% arrange(desc(n))"
   ]
  },
  {
   "cell_type": "code",
   "execution_count": 8,
   "metadata": {
    "vscode": {
     "languageId": "r"
    }
   },
   "outputs": [
    {
     "data": {
      "text/html": [
       "<table class=\"dataframe\">\n",
       "<caption>A tibble: 6 × 5</caption>\n",
       "<thead>\n",
       "\t<tr><th scope=col>downstream_package_id</th><th scope=col>n</th><th scope=col>mean_old_secs</th><th scope=col>num_old</th><th scope=col>perc_old</th></tr>\n",
       "\t<tr><th scope=col>&lt;int64&gt;</th><th scope=col>&lt;int&gt;</th><th scope=col>&lt;dbl&gt;</th><th scope=col>&lt;int&gt;</th><th scope=col>&lt;dbl&gt;</th></tr>\n",
       "</thead>\n",
       "<tbody>\n",
       "\t<tr><td>2004852</td><td>1641</td><td>63376267</td><td>855</td><td>0.5210238</td></tr>\n",
       "\t<tr><td> 665858</td><td>1630</td><td>29832832</td><td>726</td><td>0.4453988</td></tr>\n",
       "\t<tr><td>1636980</td><td>1627</td><td>15616493</td><td>500</td><td>0.3073141</td></tr>\n",
       "\t<tr><td>1225879</td><td>1612</td><td>15587975</td><td>525</td><td>0.3256824</td></tr>\n",
       "\t<tr><td>1774393</td><td>1595</td><td>28620212</td><td>653</td><td>0.4094044</td></tr>\n",
       "\t<tr><td>2213981</td><td>1587</td><td>18785063</td><td>557</td><td>0.3509767</td></tr>\n",
       "</tbody>\n",
       "</table>\n"
      ],
      "text/latex": [
       "A tibble: 6 × 5\n",
       "\\begin{tabular}{lllll}\n",
       " downstream\\_package\\_id & n & mean\\_old\\_secs & num\\_old & perc\\_old\\\\\n",
       " <int64> & <int> & <dbl> & <int> & <dbl>\\\\\n",
       "\\hline\n",
       "\t 2004852 & 1641 & 63376267 & 855 & 0.5210238\\\\\n",
       "\t  665858 & 1630 & 29832832 & 726 & 0.4453988\\\\\n",
       "\t 1636980 & 1627 & 15616493 & 500 & 0.3073141\\\\\n",
       "\t 1225879 & 1612 & 15587975 & 525 & 0.3256824\\\\\n",
       "\t 1774393 & 1595 & 28620212 & 653 & 0.4094044\\\\\n",
       "\t 2213981 & 1587 & 18785063 & 557 & 0.3509767\\\\\n",
       "\\end{tabular}\n"
      ],
      "text/markdown": [
       "\n",
       "A tibble: 6 × 5\n",
       "\n",
       "| downstream_package_id &lt;int64&gt; | n &lt;int&gt; | mean_old_secs &lt;dbl&gt; | num_old &lt;int&gt; | perc_old &lt;dbl&gt; |\n",
       "|---|---|---|---|---|\n",
       "| 2004852 | 1641 | 63376267 | 855 | 0.5210238 |\n",
       "|  665858 | 1630 | 29832832 | 726 | 0.4453988 |\n",
       "| 1636980 | 1627 | 15616493 | 500 | 0.3073141 |\n",
       "| 1225879 | 1612 | 15587975 | 525 | 0.3256824 |\n",
       "| 1774393 | 1595 | 28620212 | 653 | 0.4094044 |\n",
       "| 2213981 | 1587 | 18785063 | 557 | 0.3509767 |\n",
       "\n"
      ],
      "text/plain": [
       "  downstream_package_id n    mean_old_secs num_old perc_old \n",
       "1 2004852               1641 63376267      855     0.5210238\n",
       "2  665858               1630 29832832      726     0.4453988\n",
       "3 1636980               1627 15616493      500     0.3073141\n",
       "4 1225879               1612 15587975      525     0.3256824\n",
       "5 1774393               1595 28620212      653     0.4094044\n",
       "6 2213981               1587 18785063      557     0.3509767"
      ]
     },
     "metadata": {},
     "output_type": "display_data"
    }
   ],
   "source": [
    "head(downstream_oldness_stats)"
   ]
  },
  {
   "cell_type": "code",
   "execution_count": 9,
   "metadata": {
    "vscode": {
     "languageId": "r"
    }
   },
   "outputs": [
    {
     "name": "stderr",
     "output_type": "stream",
     "text": [
      "Warning message:\n",
      "“\u001b[1m\u001b[22mThe `size` argument of `element_line()` is deprecated as of ggplot2 3.4.0.\n",
      "\u001b[36mℹ\u001b[39m Please use the `linewidth` argument instead.”\n",
      "\u001b[1m\u001b[22m`stat_bin()` using `bins = 30`. Pick better value with `binwidth`.\n",
      "\u001b[1m\u001b[22m`stat_bin()` using `bins = 30`. Pick better value with `binwidth`.\n"
     ]
    },
    {
     "data": {
      "image/png": "[encoded data removed]",
      "text/plain": [
       "plot without title"
      ]
     },
     "metadata": {
      "image/png": {
       "height": 420,
       "width": 420
      }
     },
     "output_type": "display_data"
    }
   ],
   "source": [
    "\n",
    "ggplot(data=downstream_oldness_stats, aes(x=perc_old)) + \n",
    "    geom_histogram() +\n",
    "    scale_x_continuous(labels = scales::percent) +\n",
    "    xlab(\"Percent of out-of-date installed dependencies\") +\n",
    "    ylab(\"Number of packages\") +\n",
    "    mytheme()\n",
    "\n",
    "mysave(\"plots/rq3/perc_old_hist.pdf\")"
   ]
  },
  {
   "cell_type": "code",
   "execution_count": 10,
   "metadata": {
    "vscode": {
     "languageId": "r"
    }
   },
   "outputs": [
    {
     "data": {
      "image/png": "[encoded data removed]",
      "text/plain": [
       "plot without title"
      ]
     },
     "metadata": {
      "image/png": {
       "height": 420,
       "width": 420
      }
     },
     "output_type": "display_data"
    }
   ],
   "source": [
    "ggplot(data=downstream_oldness_stats, aes(x=perc_old)) + \n",
    "    stat_ecdf() +\n",
    "    scale_x_continuous(labels = scales::percent) +\n",
    "    scale_y_continuous(labels = scales::percent) +\n",
    "    xlab(\"Percent of out-of-date installed dependencies\") +\n",
    "    ylab(\"Cumulative percent of packages\") +\n",
    "    mytheme()\n",
    "\n",
    "mysave(\"plots/rq3/perc_old_ecdf.pdf\")"
   ]
  },
  {
   "cell_type": "code",
   "execution_count": 11,
   "metadata": {
    "vscode": {
     "languageId": "r"
    }
   },
   "outputs": [
    {
     "data": {
      "text/html": [
       "62.9434177998499"
      ],
      "text/latex": [
       "62.9434177998499"
      ],
      "text/markdown": [
       "62.9434177998499"
      ],
      "text/plain": [
       "[1] 62.94342"
      ]
     },
     "metadata": {},
     "output_type": "display_data"
    }
   ],
   "source": [
    "100 * (downstream_oldness_stats %>% filter(perc_old >= 0.25) %>% nrow()) / nrow(downstream_oldness_stats)"
   ]
  },
  {
   "cell_type": "code",
   "execution_count": 12,
   "metadata": {
    "vscode": {
     "languageId": "r"
    }
   },
   "outputs": [
    {
     "data": {
      "text/html": [
       "17.0783192136981"
      ],
      "text/latex": [
       "17.0783192136981"
      ],
      "text/markdown": [
       "17.0783192136981"
      ],
      "text/plain": [
       "[1] 17.07832"
      ]
     },
     "metadata": {},
     "output_type": "display_data"
    }
   ],
   "source": [
    "100 * (downstream_oldness_stats %>% filter(perc_old <= 0) %>% nrow()) / nrow(downstream_oldness_stats)"
   ]
  },
  {
   "cell_type": "code",
   "execution_count": 13,
   "metadata": {
    "vscode": {
     "languageId": "r"
    }
   },
   "outputs": [
    {
     "data": {
      "text/html": [
       "<table class=\"dataframe\">\n",
       "<caption>A tibble: 1 × 1</caption>\n",
       "<thead>\n",
       "\t<tr><th scope=col>mean(n)</th></tr>\n",
       "\t<tr><th scope=col>&lt;dbl&gt;</th></tr>\n",
       "</thead>\n",
       "<tbody>\n",
       "\t<tr><td>167.8675</td></tr>\n",
       "</tbody>\n",
       "</table>\n"
      ],
      "text/latex": [
       "A tibble: 1 × 1\n",
       "\\begin{tabular}{l}\n",
       " mean(n)\\\\\n",
       " <dbl>\\\\\n",
       "\\hline\n",
       "\t 167.8675\\\\\n",
       "\\end{tabular}\n"
      ],
      "text/markdown": [
       "\n",
       "A tibble: 1 × 1\n",
       "\n",
       "| mean(n) &lt;dbl&gt; |\n",
       "|---|\n",
       "| 167.8675 |\n",
       "\n"
      ],
      "text/plain": [
       "  mean(n) \n",
       "1 167.8675"
      ]
     },
     "metadata": {},
     "output_type": "display_data"
    }
   ],
   "source": [
    "downstream_oldness_stats %>% summarise(mean(n))"
   ]
  },
  {
   "cell_type": "code",
   "execution_count": 14,
   "metadata": {
    "vscode": {
     "languageId": "r"
    }
   },
   "outputs": [
    {
     "data": {
      "text/html": [
       "<table class=\"dataframe\">\n",
       "<caption>A tibble: 1 × 1</caption>\n",
       "<thead>\n",
       "\t<tr><th scope=col>mean(n)</th></tr>\n",
       "\t<tr><th scope=col>&lt;dbl&gt;</th></tr>\n",
       "</thead>\n",
       "<tbody>\n",
       "\t<tr><td>3.169711</td></tr>\n",
       "</tbody>\n",
       "</table>\n"
      ],
      "text/latex": [
       "A tibble: 1 × 1\n",
       "\\begin{tabular}{l}\n",
       " mean(n)\\\\\n",
       " <dbl>\\\\\n",
       "\\hline\n",
       "\t 3.169711\\\\\n",
       "\\end{tabular}\n"
      ],
      "text/markdown": [
       "\n",
       "A tibble: 1 × 1\n",
       "\n",
       "| mean(n) &lt;dbl&gt; |\n",
       "|---|\n",
       "| 3.169711 |\n",
       "\n"
      ],
      "text/plain": [
       "  mean(n) \n",
       "1 3.169711"
      ]
     },
     "metadata": {},
     "output_type": "display_data"
    }
   ],
   "source": [
    "downstream_oldness_stats %>% filter(perc_old <= 0) %>% summarise(mean(n))"
   ]
  },
  {
   "cell_type": "code",
   "execution_count": 15,
   "metadata": {
    "vscode": {
     "languageId": "r"
    }
   },
   "outputs": [
    {
     "data": {
      "text/html": [
       "<table class=\"dataframe\">\n",
       "<caption>A tibble: 1 × 1</caption>\n",
       "<thead>\n",
       "\t<tr><th scope=col>mean(n)</th></tr>\n",
       "\t<tr><th scope=col>&lt;dbl&gt;</th></tr>\n",
       "</thead>\n",
       "<tbody>\n",
       "\t<tr><td>201.7882</td></tr>\n",
       "</tbody>\n",
       "</table>\n"
      ],
      "text/latex": [
       "A tibble: 1 × 1\n",
       "\\begin{tabular}{l}\n",
       " mean(n)\\\\\n",
       " <dbl>\\\\\n",
       "\\hline\n",
       "\t 201.7882\\\\\n",
       "\\end{tabular}\n"
      ],
      "text/markdown": [
       "\n",
       "A tibble: 1 × 1\n",
       "\n",
       "| mean(n) &lt;dbl&gt; |\n",
       "|---|\n",
       "| 201.7882 |\n",
       "\n"
      ],
      "text/plain": [
       "  mean(n) \n",
       "1 201.7882"
      ]
     },
     "metadata": {},
     "output_type": "display_data"
    }
   ],
   "source": [
    "downstream_oldness_stats %>% filter(perc_old > 0) %>% summarise(mean(n))"
   ]
  },
  {
   "cell_type": "code",
   "execution_count": 16,
   "metadata": {
    "vscode": {
     "languageId": "r"
    }
   },
   "outputs": [
    {
     "data": {
      "text/html": [
       "<table class=\"dataframe\">\n",
       "<caption>A data.frame: 1 × 1</caption>\n",
       "<thead>\n",
       "\t<tr><th scope=col>mean(as.numeric(mean_old_secs))</th></tr>\n",
       "\t<tr><th scope=col>&lt;dbl&gt;</th></tr>\n",
       "</thead>\n",
       "<tbody>\n",
       "\t<tr><td>177.2345</td></tr>\n",
       "</tbody>\n",
       "</table>\n"
      ],
      "text/latex": [
       "A data.frame: 1 × 1\n",
       "\\begin{tabular}{l}\n",
       " mean(as.numeric(mean\\_old\\_secs))\\\\\n",
       " <dbl>\\\\\n",
       "\\hline\n",
       "\t 177.2345\\\\\n",
       "\\end{tabular}\n"
      ],
      "text/markdown": [
       "\n",
       "A data.frame: 1 × 1\n",
       "\n",
       "| mean(as.numeric(mean_old_secs)) &lt;dbl&gt; |\n",
       "|---|\n",
       "| 177.2345 |\n",
       "\n"
      ],
      "text/plain": [
       "  mean(as.numeric(mean_old_secs))\n",
       "1 177.2345                       "
      ]
     },
     "metadata": {},
     "output_type": "display_data"
    }
   ],
   "source": [
    "downstream_oldness_stats %>% \n",
    "summarise(mean(as.numeric(mean_old_secs))) / (60 * 60 * 24)"
   ]
  },
  {
   "cell_type": "code",
   "execution_count": 17,
   "metadata": {
    "vscode": {
     "languageId": "r"
    }
   },
   "outputs": [
    {
     "data": {
      "text/html": [
       "<table class=\"dataframe\">\n",
       "<caption>A data.frame: 1 × 1</caption>\n",
       "<thead>\n",
       "\t<tr><th scope=col>mean(as.numeric(mean_old_secs))</th></tr>\n",
       "\t<tr><th scope=col>&lt;dbl&gt;</th></tr>\n",
       "</thead>\n",
       "<tbody>\n",
       "\t<tr><td>213.7396</td></tr>\n",
       "</tbody>\n",
       "</table>\n"
      ],
      "text/latex": [
       "A data.frame: 1 × 1\n",
       "\\begin{tabular}{l}\n",
       " mean(as.numeric(mean\\_old\\_secs))\\\\\n",
       " <dbl>\\\\\n",
       "\\hline\n",
       "\t 213.7396\\\\\n",
       "\\end{tabular}\n"
      ],
      "text/markdown": [
       "\n",
       "A data.frame: 1 × 1\n",
       "\n",
       "| mean(as.numeric(mean_old_secs)) &lt;dbl&gt; |\n",
       "|---|\n",
       "| 213.7396 |\n",
       "\n"
      ],
      "text/plain": [
       "  mean(as.numeric(mean_old_secs))\n",
       "1 213.7396                       "
      ]
     },
     "metadata": {},
     "output_type": "display_data"
    }
   ],
   "source": [
    "downstream_oldness_stats %>% \n",
    "filter(perc_old > 0) %>% \n",
    "summarise(mean(as.numeric(mean_old_secs))) / (60 * 60 * 24)"
   ]
  },
  {
   "cell_type": "code",
   "execution_count": 18,
   "metadata": {
    "vscode": {
     "languageId": "r"
    }
   },
   "outputs": [
    {
     "data": {
      "text/html": [
       "<table class=\"dataframe\">\n",
       "<caption>A data.frame: 9 × 1</caption>\n",
       "<thead>\n",
       "\t<tr><th></th><th scope=col>quantile((downstream_oldness_stats %&gt;% filter(perc_old &gt; 0))$mean_old_secs/60/60/24, c(0.01, 0.05, 0.1, 0.25, 0.5, 0.75, 0.9, 0.95, 0.99))</th></tr>\n",
       "\t<tr><th></th><th scope=col>&lt;dbl&gt;</th></tr>\n",
       "</thead>\n",
       "<tbody>\n",
       "\t<tr><th scope=row>1%</th><td>  1.789896</td></tr>\n",
       "\t<tr><th scope=row>5%</th><td> 23.744911</td></tr>\n",
       "\t<tr><th scope=row>10%</th><td> 49.305795</td></tr>\n",
       "\t<tr><th scope=row>25%</th><td>103.189465</td></tr>\n",
       "\t<tr><th scope=row>50%</th><td>173.866415</td></tr>\n",
       "\t<tr><th scope=row>75%</th><td>274.277324</td></tr>\n",
       "\t<tr><th scope=row>90%</th><td>415.138948</td></tr>\n",
       "\t<tr><th scope=row>95%</th><td>527.382242</td></tr>\n",
       "\t<tr><th scope=row>99%</th><td>835.332552</td></tr>\n",
       "</tbody>\n",
       "</table>\n"
      ],
      "text/latex": [
       "A data.frame: 9 × 1\n",
       "\\begin{tabular}{r|l}\n",
       "  & quantile((downstream\\_oldness\\_stats \\%>\\% filter(perc\\_old > 0))\\$mean\\_old\\_secs/60/60/24, c(0.01, 0.05, 0.1, 0.25, 0.5, 0.75, 0.9, 0.95, 0.99))\\\\\n",
       "  & <dbl>\\\\\n",
       "\\hline\n",
       "\t1\\% &   1.789896\\\\\n",
       "\t5\\% &  23.744911\\\\\n",
       "\t10\\% &  49.305795\\\\\n",
       "\t25\\% & 103.189465\\\\\n",
       "\t50\\% & 173.866415\\\\\n",
       "\t75\\% & 274.277324\\\\\n",
       "\t90\\% & 415.138948\\\\\n",
       "\t95\\% & 527.382242\\\\\n",
       "\t99\\% & 835.332552\\\\\n",
       "\\end{tabular}\n"
      ],
      "text/markdown": [
       "\n",
       "A data.frame: 9 × 1\n",
       "\n",
       "| <!--/--> | quantile((downstream_oldness_stats %&gt;% filter(perc_old &gt; 0))$mean_old_secs/60/60/24, c(0.01, 0.05, 0.1, 0.25, 0.5, 0.75, 0.9, 0.95, 0.99)) &lt;dbl&gt; |\n",
       "|---|---|\n",
       "| 1% |   1.789896 |\n",
       "| 5% |  23.744911 |\n",
       "| 10% |  49.305795 |\n",
       "| 25% | 103.189465 |\n",
       "| 50% | 173.866415 |\n",
       "| 75% | 274.277324 |\n",
       "| 90% | 415.138948 |\n",
       "| 95% | 527.382242 |\n",
       "| 99% | 835.332552 |\n",
       "\n"
      ],
      "text/plain": [
       "    quantile((downstream_oldness_stats %>% filter(perc_old > 0))$mean_old_secs/60/60/24, c(0.01, 0.05, 0.1, 0.25, 0.5, 0.75, 0.9, 0.95, 0.99))\n",
       "1%    1.789896                                                                                                                                \n",
       "5%   23.744911                                                                                                                                \n",
       "10%  49.305795                                                                                                                                \n",
       "25% 103.189465                                                                                                                                \n",
       "50% 173.866415                                                                                                                                \n",
       "75% 274.277324                                                                                                                                \n",
       "90% 415.138948                                                                                                                                \n",
       "95% 527.382242                                                                                                                                \n",
       "99% 835.332552                                                                                                                                "
      ]
     },
     "metadata": {},
     "output_type": "display_data"
    }
   ],
   "source": [
    "as.data.frame(quantile((downstream_oldness_stats %>% filter(perc_old > 0))$mean_old_secs / 60 / 60 / 24, c(0.01, 0.05, 0.1, 0.25, 0.5, 0.75, 0.9, 0.95, 0.99)))"
   ]
  },
  {
   "cell_type": "code",
   "execution_count": 19,
   "metadata": {
    "vscode": {
     "languageId": "r"
    }
   },
   "outputs": [
    {
     "data": {
      "image/png": "[encoded data removed]",
      "text/plain": [
       "plot without title"
      ]
     },
     "metadata": {
      "image/png": {
       "height": 420,
       "width": 420
      }
     },
     "output_type": "display_data"
    }
   ],
   "source": [
    "\n",
    "ggplot(data=downstream_oldness_stats %>% filter(perc_old > 0), aes(x=mean_old_secs / 60 / 60 / 24)) + \n",
    "    stat_ecdf() +\n",
    "    scale_y_continuous(labels = scales::percent) +\n",
    "    ylab(\"Cumulative percentage of out-of-date packages\") +\n",
    "    xlab(\"Average time dependencies are out-of-date (days)\") +\n",
    "    mytheme()\n",
    "    \n",
    "mysave(\"plots/rq3/out_of_date_ecdf.pdf\")"
   ]
  },
  {
   "cell_type": "code",
   "execution_count": 25,
   "metadata": {
    "vscode": {
     "languageId": "r"
    }
   },
   "outputs": [
    {
     "name": "stderr",
     "output_type": "stream",
     "text": [
      "\u001b[1m\u001b[22m`stat_bin()` using `bins = 30`. Pick better value with `binwidth`.\n",
      "\u001b[1m\u001b[22m`stat_bin()` using `bins = 30`. Pick better value with `binwidth`.\n"
     ]
    },
    {
     "data": {
      "image/png": "[encoded data removed]",
      "text/plain": [
       "plot without title"
      ]
     },
     "metadata": {
      "image/png": {
       "height": 420,
       "width": 420
      }
     },
     "output_type": "display_data"
    }
   ],
   "source": [
    "ggplot(data=downstream_oldness_stats, aes(x=n)) + \n",
    "    geom_histogram() +\n",
    "    # scale_x_continuous(labels = scales::percent) +\n",
    "    xlab(\"Number of installed dependencies\") +\n",
    "    ylab(\"Number of packages\") +\n",
    "    mytheme()\n",
    "\n",
    "mysave(\"plots/general/num_installed_deps_hist.pdf\")"
   ]
  },
  {
   "cell_type": "code",
   "execution_count": 26,
   "metadata": {
    "vscode": {
     "languageId": "r"
    }
   },
   "outputs": [
    {
     "data": {
      "image/png": "[encoded data removed]",
      "text/plain": [
       "plot without title"
      ]
     },
     "metadata": {
      "image/png": {
       "height": 420,
       "width": 420
      }
     },
     "output_type": "display_data"
    }
   ],
   "source": [
    "ggplot(data=downstream_oldness_stats, aes(x=n)) + \n",
    "    stat_ecdf() +\n",
    "    scale_y_continuous(labels = scales::percent) +\n",
    "    ylab(\"Cumulative percentage of packages\") +\n",
    "    xlab(\"Number of installed dependencies\") +\n",
    "    mytheme()\n",
    "    \n",
    "mysave(\"plots/general/num_installed_deps_ecdf.pdf\")"
   ]
  },
  {
   "cell_type": "code",
   "execution_count": 27,
   "metadata": {
    "vscode": {
     "languageId": "r"
    }
   },
   "outputs": [
    {
     "data": {
      "text/html": [
       "<table class=\"dataframe\">\n",
       "<caption>A data.frame: 9 × 1</caption>\n",
       "<thead>\n",
       "\t<tr><th></th><th scope=col>quantile(downstream_oldness_stats$n, c(0.01, 0.05, 0.1, 0.25, 0.5, 0.75, 0.9, 0.95, 0.99))</th></tr>\n",
       "\t<tr><th></th><th scope=col>&lt;dbl&gt;</th></tr>\n",
       "</thead>\n",
       "<tbody>\n",
       "\t<tr><th scope=row>1%</th><td>  1</td></tr>\n",
       "\t<tr><th scope=row>5%</th><td>  1</td></tr>\n",
       "\t<tr><th scope=row>10%</th><td>  1</td></tr>\n",
       "\t<tr><th scope=row>25%</th><td>  9</td></tr>\n",
       "\t<tr><th scope=row>50%</th><td> 69</td></tr>\n",
       "\t<tr><th scope=row>75%</th><td>246</td></tr>\n",
       "\t<tr><th scope=row>90%</th><td>488</td></tr>\n",
       "\t<tr><th scope=row>95%</th><td>636</td></tr>\n",
       "\t<tr><th scope=row>99%</th><td>931</td></tr>\n",
       "</tbody>\n",
       "</table>\n"
      ],
      "text/latex": [
       "A data.frame: 9 × 1\n",
       "\\begin{tabular}{r|l}\n",
       "  & quantile(downstream\\_oldness\\_stats\\$n, c(0.01, 0.05, 0.1, 0.25, 0.5, 0.75, 0.9, 0.95, 0.99))\\\\\n",
       "  & <dbl>\\\\\n",
       "\\hline\n",
       "\t1\\% &   1\\\\\n",
       "\t5\\% &   1\\\\\n",
       "\t10\\% &   1\\\\\n",
       "\t25\\% &   9\\\\\n",
       "\t50\\% &  69\\\\\n",
       "\t75\\% & 246\\\\\n",
       "\t90\\% & 488\\\\\n",
       "\t95\\% & 636\\\\\n",
       "\t99\\% & 931\\\\\n",
       "\\end{tabular}\n"
      ],
      "text/markdown": [
       "\n",
       "A data.frame: 9 × 1\n",
       "\n",
       "| <!--/--> | quantile(downstream_oldness_stats$n, c(0.01, 0.05, 0.1, 0.25, 0.5, 0.75, 0.9, 0.95, 0.99)) &lt;dbl&gt; |\n",
       "|---|---|\n",
       "| 1% |   1 |\n",
       "| 5% |   1 |\n",
       "| 10% |   1 |\n",
       "| 25% |   9 |\n",
       "| 50% |  69 |\n",
       "| 75% | 246 |\n",
       "| 90% | 488 |\n",
       "| 95% | 636 |\n",
       "| 99% | 931 |\n",
       "\n"
      ],
      "text/plain": [
       "    quantile(downstream_oldness_stats$n, c(0.01, 0.05, 0.1, 0.25, 0.5, 0.75, 0.9, 0.95, 0.99))\n",
       "1%    1                                                                                       \n",
       "5%    1                                                                                       \n",
       "10%   1                                                                                       \n",
       "25%   9                                                                                       \n",
       "50%  69                                                                                       \n",
       "75% 246                                                                                       \n",
       "90% 488                                                                                       \n",
       "95% 636                                                                                       \n",
       "99% 931                                                                                       "
      ]
     },
     "metadata": {},
     "output_type": "display_data"
    }
   ],
   "source": [
    "as.data.frame(quantile(downstream_oldness_stats$n, c(0.01, 0.05, 0.1, 0.25, 0.5, 0.75, 0.9, 0.95, 0.99)))"
   ]
  },
  {
   "cell_type": "code",
   "execution_count": 31,
   "metadata": {
    "vscode": {
     "languageId": "r"
    }
   },
   "outputs": [],
   "source": [
    "rev_dep_counts <- df %>% \n",
    "    group_by(dep_pkg_id) %>% \n",
    "    summarise(\n",
    "        n = n()\n",
    "    )# %>% arrange(desc(n))"
   ]
  },
  {
   "cell_type": "code",
   "execution_count": 34,
   "metadata": {
    "vscode": {
     "languageId": "r"
    }
   },
   "outputs": [
    {
     "data": {
      "text/html": [
       "<table class=\"dataframe\">\n",
       "<caption>A tibble: 216795 × 2</caption>\n",
       "<thead>\n",
       "\t<tr><th scope=col>dep_pkg_id</th><th scope=col>n</th></tr>\n",
       "\t<tr><th scope=col>&lt;int64&gt;</th><th scope=col>&lt;int&gt;</th></tr>\n",
       "</thead>\n",
       "<tbody>\n",
       "\t<tr><td>1801301</td><td>624883</td></tr>\n",
       "\t<tr><td>2035209</td><td>571547</td></tr>\n",
       "\t<tr><td>2455819</td><td>515684</td></tr>\n",
       "\t<tr><td>2209998</td><td>480281</td></tr>\n",
       "\t<tr><td>1794405</td><td>478717</td></tr>\n",
       "\t<tr><td>2278370</td><td>477819</td></tr>\n",
       "\t<tr><td>2164781</td><td>473370</td></tr>\n",
       "\t<tr><td>1660010</td><td>472965</td></tr>\n",
       "\t<tr><td>1660021</td><td>457686</td></tr>\n",
       "\t<tr><td>1709017</td><td>454042</td></tr>\n",
       "\t<tr><td>2236815</td><td>439116</td></tr>\n",
       "\t<tr><td>2278356</td><td>418616</td></tr>\n",
       "\t<tr><td>2471698</td><td>402528</td></tr>\n",
       "\t<tr><td>2426622</td><td>393669</td></tr>\n",
       "\t<tr><td>2457459</td><td>382646</td></tr>\n",
       "\t<tr><td>2188570</td><td>371488</td></tr>\n",
       "\t<tr><td>1794148</td><td>369448</td></tr>\n",
       "\t<tr><td>2115407</td><td>354844</td></tr>\n",
       "\t<tr><td>2396142</td><td>342980</td></tr>\n",
       "\t<tr><td>2106189</td><td>335208</td></tr>\n",
       "\t<tr><td>2215006</td><td>333147</td></tr>\n",
       "\t<tr><td>2280006</td><td>331808</td></tr>\n",
       "\t<tr><td>1680723</td><td>331764</td></tr>\n",
       "\t<tr><td>2338460</td><td>330203</td></tr>\n",
       "\t<tr><td>2215885</td><td>328983</td></tr>\n",
       "\t<tr><td>1794215</td><td>324217</td></tr>\n",
       "\t<tr><td>1694816</td><td>322098</td></tr>\n",
       "\t<tr><td>1960716</td><td>315554</td></tr>\n",
       "\t<tr><td>2012040</td><td>314653</td></tr>\n",
       "\t<tr><td>2349551</td><td>305070</td></tr>\n",
       "\t<tr><td>⋮</td><td>⋮</td></tr>\n",
       "\t<tr><td>2714660</td><td>1</td></tr>\n",
       "\t<tr><td>2714661</td><td>1</td></tr>\n",
       "\t<tr><td>2714863</td><td>1</td></tr>\n",
       "\t<tr><td>2714865</td><td>1</td></tr>\n",
       "\t<tr><td>2714899</td><td>1</td></tr>\n",
       "\t<tr><td>2714957</td><td>1</td></tr>\n",
       "\t<tr><td>2715180</td><td>1</td></tr>\n",
       "\t<tr><td>2715414</td><td>1</td></tr>\n",
       "\t<tr><td>2715466</td><td>1</td></tr>\n",
       "\t<tr><td>2715515</td><td>1</td></tr>\n",
       "\t<tr><td>2715525</td><td>1</td></tr>\n",
       "\t<tr><td>2715853</td><td>1</td></tr>\n",
       "\t<tr><td>2715869</td><td>1</td></tr>\n",
       "\t<tr><td>2716260</td><td>1</td></tr>\n",
       "\t<tr><td>2716261</td><td>1</td></tr>\n",
       "\t<tr><td>2716265</td><td>1</td></tr>\n",
       "\t<tr><td>2716281</td><td>1</td></tr>\n",
       "\t<tr><td>2716355</td><td>1</td></tr>\n",
       "\t<tr><td>2716557</td><td>1</td></tr>\n",
       "\t<tr><td>2716564</td><td>1</td></tr>\n",
       "\t<tr><td>2716767</td><td>1</td></tr>\n",
       "\t<tr><td>2716967</td><td>1</td></tr>\n",
       "\t<tr><td>2717067</td><td>1</td></tr>\n",
       "\t<tr><td>2717199</td><td>1</td></tr>\n",
       "\t<tr><td>2717578</td><td>1</td></tr>\n",
       "\t<tr><td>2717587</td><td>1</td></tr>\n",
       "\t<tr><td>2717732</td><td>1</td></tr>\n",
       "\t<tr><td>2717737</td><td>1</td></tr>\n",
       "\t<tr><td>2717753</td><td>1</td></tr>\n",
       "\t<tr><td>2717922</td><td>1</td></tr>\n",
       "</tbody>\n",
       "</table>\n"
      ],
      "text/latex": [
       "A tibble: 216795 × 2\n",
       "\\begin{tabular}{ll}\n",
       " dep\\_pkg\\_id & n\\\\\n",
       " <int64> & <int>\\\\\n",
       "\\hline\n",
       "\t 1801301 & 624883\\\\\n",
       "\t 2035209 & 571547\\\\\n",
       "\t 2455819 & 515684\\\\\n",
       "\t 2209998 & 480281\\\\\n",
       "\t 1794405 & 478717\\\\\n",
       "\t 2278370 & 477819\\\\\n",
       "\t 2164781 & 473370\\\\\n",
       "\t 1660010 & 472965\\\\\n",
       "\t 1660021 & 457686\\\\\n",
       "\t 1709017 & 454042\\\\\n",
       "\t 2236815 & 439116\\\\\n",
       "\t 2278356 & 418616\\\\\n",
       "\t 2471698 & 402528\\\\\n",
       "\t 2426622 & 393669\\\\\n",
       "\t 2457459 & 382646\\\\\n",
       "\t 2188570 & 371488\\\\\n",
       "\t 1794148 & 369448\\\\\n",
       "\t 2115407 & 354844\\\\\n",
       "\t 2396142 & 342980\\\\\n",
       "\t 2106189 & 335208\\\\\n",
       "\t 2215006 & 333147\\\\\n",
       "\t 2280006 & 331808\\\\\n",
       "\t 1680723 & 331764\\\\\n",
       "\t 2338460 & 330203\\\\\n",
       "\t 2215885 & 328983\\\\\n",
       "\t 1794215 & 324217\\\\\n",
       "\t 1694816 & 322098\\\\\n",
       "\t 1960716 & 315554\\\\\n",
       "\t 2012040 & 314653\\\\\n",
       "\t 2349551 & 305070\\\\\n",
       "\t ⋮ & ⋮\\\\\n",
       "\t 2714660 & 1\\\\\n",
       "\t 2714661 & 1\\\\\n",
       "\t 2714863 & 1\\\\\n",
       "\t 2714865 & 1\\\\\n",
       "\t 2714899 & 1\\\\\n",
       "\t 2714957 & 1\\\\\n",
       "\t 2715180 & 1\\\\\n",
       "\t 2715414 & 1\\\\\n",
       "\t 2715466 & 1\\\\\n",
       "\t 2715515 & 1\\\\\n",
       "\t 2715525 & 1\\\\\n",
       "\t 2715853 & 1\\\\\n",
       "\t 2715869 & 1\\\\\n",
       "\t 2716260 & 1\\\\\n",
       "\t 2716261 & 1\\\\\n",
       "\t 2716265 & 1\\\\\n",
       "\t 2716281 & 1\\\\\n",
       "\t 2716355 & 1\\\\\n",
       "\t 2716557 & 1\\\\\n",
       "\t 2716564 & 1\\\\\n",
       "\t 2716767 & 1\\\\\n",
       "\t 2716967 & 1\\\\\n",
       "\t 2717067 & 1\\\\\n",
       "\t 2717199 & 1\\\\\n",
       "\t 2717578 & 1\\\\\n",
       "\t 2717587 & 1\\\\\n",
       "\t 2717732 & 1\\\\\n",
       "\t 2717737 & 1\\\\\n",
       "\t 2717753 & 1\\\\\n",
       "\t 2717922 & 1\\\\\n",
       "\\end{tabular}\n"
      ],
      "text/markdown": [
       "\n",
       "A tibble: 216795 × 2\n",
       "\n",
       "| dep_pkg_id &lt;int64&gt; | n &lt;int&gt; |\n",
       "|---|---|\n",
       "| 1801301 | 624883 |\n",
       "| 2035209 | 571547 |\n",
       "| 2455819 | 515684 |\n",
       "| 2209998 | 480281 |\n",
       "| 1794405 | 478717 |\n",
       "| 2278370 | 477819 |\n",
       "| 2164781 | 473370 |\n",
       "| 1660010 | 472965 |\n",
       "| 1660021 | 457686 |\n",
       "| 1709017 | 454042 |\n",
       "| 2236815 | 439116 |\n",
       "| 2278356 | 418616 |\n",
       "| 2471698 | 402528 |\n",
       "| 2426622 | 393669 |\n",
       "| 2457459 | 382646 |\n",
       "| 2188570 | 371488 |\n",
       "| 1794148 | 369448 |\n",
       "| 2115407 | 354844 |\n",
       "| 2396142 | 342980 |\n",
       "| 2106189 | 335208 |\n",
       "| 2215006 | 333147 |\n",
       "| 2280006 | 331808 |\n",
       "| 1680723 | 331764 |\n",
       "| 2338460 | 330203 |\n",
       "| 2215885 | 328983 |\n",
       "| 1794215 | 324217 |\n",
       "| 1694816 | 322098 |\n",
       "| 1960716 | 315554 |\n",
       "| 2012040 | 314653 |\n",
       "| 2349551 | 305070 |\n",
       "| ⋮ | ⋮ |\n",
       "| 2714660 | 1 |\n",
       "| 2714661 | 1 |\n",
       "| 2714863 | 1 |\n",
       "| 2714865 | 1 |\n",
       "| 2714899 | 1 |\n",
       "| 2714957 | 1 |\n",
       "| 2715180 | 1 |\n",
       "| 2715414 | 1 |\n",
       "| 2715466 | 1 |\n",
       "| 2715515 | 1 |\n",
       "| 2715525 | 1 |\n",
       "| 2715853 | 1 |\n",
       "| 2715869 | 1 |\n",
       "| 2716260 | 1 |\n",
       "| 2716261 | 1 |\n",
       "| 2716265 | 1 |\n",
       "| 2716281 | 1 |\n",
       "| 2716355 | 1 |\n",
       "| 2716557 | 1 |\n",
       "| 2716564 | 1 |\n",
       "| 2716767 | 1 |\n",
       "| 2716967 | 1 |\n",
       "| 2717067 | 1 |\n",
       "| 2717199 | 1 |\n",
       "| 2717578 | 1 |\n",
       "| 2717587 | 1 |\n",
       "| 2717732 | 1 |\n",
       "| 2717737 | 1 |\n",
       "| 2717753 | 1 |\n",
       "| 2717922 | 1 |\n",
       "\n"
      ],
      "text/plain": [
       "       dep_pkg_id n     \n",
       "1      1801301    624883\n",
       "2      2035209    571547\n",
       "3      2455819    515684\n",
       "4      2209998    480281\n",
       "5      1794405    478717\n",
       "6      2278370    477819\n",
       "7      2164781    473370\n",
       "8      1660010    472965\n",
       "9      1660021    457686\n",
       "10     1709017    454042\n",
       "11     2236815    439116\n",
       "12     2278356    418616\n",
       "13     2471698    402528\n",
       "14     2426622    393669\n",
       "15     2457459    382646\n",
       "16     2188570    371488\n",
       "17     1794148    369448\n",
       "18     2115407    354844\n",
       "19     2396142    342980\n",
       "20     2106189    335208\n",
       "21     2215006    333147\n",
       "22     2280006    331808\n",
       "23     1680723    331764\n",
       "24     2338460    330203\n",
       "25     2215885    328983\n",
       "26     1794215    324217\n",
       "27     1694816    322098\n",
       "28     1960716    315554\n",
       "29     2012040    314653\n",
       "30     2349551    305070\n",
       "⋮      ⋮          ⋮     \n",
       "216766 2714660    1     \n",
       "216767 2714661    1     \n",
       "216768 2714863    1     \n",
       "216769 2714865    1     \n",
       "216770 2714899    1     \n",
       "216771 2714957    1     \n",
       "216772 2715180    1     \n",
       "216773 2715414    1     \n",
       "216774 2715466    1     \n",
       "216775 2715515    1     \n",
       "216776 2715525    1     \n",
       "216777 2715853    1     \n",
       "216778 2715869    1     \n",
       "216779 2716260    1     \n",
       "216780 2716261    1     \n",
       "216781 2716265    1     \n",
       "216782 2716281    1     \n",
       "216783 2716355    1     \n",
       "216784 2716557    1     \n",
       "216785 2716564    1     \n",
       "216786 2716767    1     \n",
       "216787 2716967    1     \n",
       "216788 2717067    1     \n",
       "216789 2717199    1     \n",
       "216790 2717578    1     \n",
       "216791 2717587    1     \n",
       "216792 2717732    1     \n",
       "216793 2717737    1     \n",
       "216794 2717753    1     \n",
       "216795 2717922    1     "
      ]
     },
     "metadata": {},
     "output_type": "display_data"
    }
   ],
   "source": [
    "rev_dep_counts %>% arrange(desc(n))"
   ]
  },
  {
   "cell_type": "code",
   "execution_count": 41,
   "metadata": {
    "vscode": {
     "languageId": "r"
    }
   },
   "outputs": [
    {
     "data": {
      "image/png": "[encoded data removed]",
      "text/plain": [
       "plot without title"
      ]
     },
     "metadata": {
      "image/png": {
       "height": 420,
       "width": 420
      }
     },
     "output_type": "display_data"
    }
   ],
   "source": [
    "ggplot(data=rev_dep_counts, aes(x=n)) + \n",
    "    stat_ecdf() +\n",
    "    scale_y_continuous(labels = scales::percent) +\n",
    "    scale_x_continuous(trans = log2_trans(),\n",
    "    breaks = trans_breaks(\"log2\", function(x) 2^x),\n",
    "    labels = trans_format(\"log2\", math_format(2^.x))) +\n",
    "    # coord_trans(x=\"log2\") +\n",
    "    ylab(\"Cumulative percentage of packages\") +\n",
    "    xlab(\"Number of reverse dependencies (log scale)\") +\n",
    "    mytheme()\n",
    "    \n",
    "mysave(\"plots/general/num_rev_deps_ecdf.pdf\")"
   ]
  },
  {
   "cell_type": "code",
   "execution_count": 42,
   "metadata": {
    "vscode": {
     "languageId": "r"
    }
   },
   "outputs": [
    {
     "data": {
      "text/html": [
       "<table class=\"dataframe\">\n",
       "<caption>A data.frame: 9 × 1</caption>\n",
       "<thead>\n",
       "\t<tr><th></th><th scope=col>quantile(rev_dep_counts$n, c(0.01, 0.05, 0.1, 0.25, 0.5, 0.75, 0.9, 0.95, 0.99))</th></tr>\n",
       "\t<tr><th></th><th scope=col>&lt;dbl&gt;</th></tr>\n",
       "</thead>\n",
       "<tbody>\n",
       "\t<tr><th scope=row>1%</th><td>   1.00</td></tr>\n",
       "\t<tr><th scope=row>5%</th><td>   1.00</td></tr>\n",
       "\t<tr><th scope=row>10%</th><td>   1.00</td></tr>\n",
       "\t<tr><th scope=row>25%</th><td>   1.00</td></tr>\n",
       "\t<tr><th scope=row>50%</th><td>   2.00</td></tr>\n",
       "\t<tr><th scope=row>75%</th><td>   6.00</td></tr>\n",
       "\t<tr><th scope=row>90%</th><td>  30.00</td></tr>\n",
       "\t<tr><th scope=row>95%</th><td> 119.00</td></tr>\n",
       "\t<tr><th scope=row>99%</th><td>4960.06</td></tr>\n",
       "</tbody>\n",
       "</table>\n"
      ],
      "text/latex": [
       "A data.frame: 9 × 1\n",
       "\\begin{tabular}{r|l}\n",
       "  & quantile(rev\\_dep\\_counts\\$n, c(0.01, 0.05, 0.1, 0.25, 0.5, 0.75, 0.9, 0.95, 0.99))\\\\\n",
       "  & <dbl>\\\\\n",
       "\\hline\n",
       "\t1\\% &    1.00\\\\\n",
       "\t5\\% &    1.00\\\\\n",
       "\t10\\% &    1.00\\\\\n",
       "\t25\\% &    1.00\\\\\n",
       "\t50\\% &    2.00\\\\\n",
       "\t75\\% &    6.00\\\\\n",
       "\t90\\% &   30.00\\\\\n",
       "\t95\\% &  119.00\\\\\n",
       "\t99\\% & 4960.06\\\\\n",
       "\\end{tabular}\n"
      ],
      "text/markdown": [
       "\n",
       "A data.frame: 9 × 1\n",
       "\n",
       "| <!--/--> | quantile(rev_dep_counts$n, c(0.01, 0.05, 0.1, 0.25, 0.5, 0.75, 0.9, 0.95, 0.99)) &lt;dbl&gt; |\n",
       "|---|---|\n",
       "| 1% |    1.00 |\n",
       "| 5% |    1.00 |\n",
       "| 10% |    1.00 |\n",
       "| 25% |    1.00 |\n",
       "| 50% |    2.00 |\n",
       "| 75% |    6.00 |\n",
       "| 90% |   30.00 |\n",
       "| 95% |  119.00 |\n",
       "| 99% | 4960.06 |\n",
       "\n"
      ],
      "text/plain": [
       "    quantile(rev_dep_counts$n, c(0.01, 0.05, 0.1, 0.25, 0.5, 0.75, 0.9, 0.95, 0.99))\n",
       "1%     1.00                                                                         \n",
       "5%     1.00                                                                         \n",
       "10%    1.00                                                                         \n",
       "25%    1.00                                                                         \n",
       "50%    2.00                                                                         \n",
       "75%    6.00                                                                         \n",
       "90%   30.00                                                                         \n",
       "95%  119.00                                                                         \n",
       "99% 4960.06                                                                         "
      ]
     },
     "metadata": {},
     "output_type": "display_data"
    }
   ],
   "source": [
    "as.data.frame(quantile(rev_dep_counts$n, c(0.01, 0.05, 0.1, 0.25, 0.5, 0.75, 0.9, 0.95, 0.99)))"
   ]
  },
  {
   "cell_type": "code",
   "execution_count": null,
   "metadata": {
    "vscode": {
     "languageId": "r"
    }
   },
   "outputs": [],
   "source": []
  }
 ],
 "metadata": {
  "kernelspec": {
   "display_name": "R",
   "language": "R",
   "name": "ir"
  },
  "language_info": {
   "codemirror_mode": "r",
   "file_extension": ".r",
   "mimetype": "text/x-r-source",
   "name": "R",
   "pygments_lexer": "r",
   "version": "3.6.3"
  },
  "orig_nbformat": 4,
  "vscode": {
   "interpreter": {
    "hash": "31f2aee4e71d21fbe5cf8b01ff0e069b9275f58929596ceb00d14d90e3e16cd6"
   }
  }
 },
 "nbformat": 4,
 "nbformat_minor": 2
}
