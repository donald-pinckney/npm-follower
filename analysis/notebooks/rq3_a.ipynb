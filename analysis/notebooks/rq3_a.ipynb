{
 "cells": [
  {
   "cell_type": "code",
   "execution_count": 1,
   "metadata": {
    "vscode": {
     "languageId": "r"
    }
   },
   "outputs": [
    {
     "name": "stderr",
     "output_type": "stream",
     "text": [
      "── \u001b[1mAttaching packages\u001b[22m ─────────────────────────────────────── tidyverse 1.3.2 ──\n",
      "\u001b[32m✔\u001b[39m \u001b[34mtibble \u001b[39m 3.1.8      \u001b[32m✔\u001b[39m \u001b[34mdplyr  \u001b[39m 1.0.10\n",
      "\u001b[32m✔\u001b[39m \u001b[34mtidyr  \u001b[39m 1.2.1      \u001b[32m✔\u001b[39m \u001b[34mstringr\u001b[39m 1.5.0 \n",
      "\u001b[32m✔\u001b[39m \u001b[34mreadr  \u001b[39m 2.1.3      \u001b[32m✔\u001b[39m \u001b[34mforcats\u001b[39m 0.5.2 \n",
      "\u001b[32m✔\u001b[39m \u001b[34mpurrr  \u001b[39m 1.0.0      \n",
      "── \u001b[1mConflicts\u001b[22m ────────────────────────────────────────── tidyverse_conflicts() ──\n",
      "\u001b[31m✖\u001b[39m \u001b[34mdplyr\u001b[39m::\u001b[32mfilter()\u001b[39m masks \u001b[34mstats\u001b[39m::filter()\n",
      "\u001b[31m✖\u001b[39m \u001b[34mdplyr\u001b[39m::\u001b[32mlag()\u001b[39m    masks \u001b[34mstats\u001b[39m::lag()\n",
      "Loading required package: lattice\n",
      "\n",
      "\n",
      "Attaching package: ‘caret’\n",
      "\n",
      "\n",
      "The following object is masked from ‘package:purrr’:\n",
      "\n",
      "    lift\n",
      "\n",
      "\n",
      "\n",
      "Attaching package: ‘scales’\n",
      "\n",
      "\n",
      "The following object is masked from ‘package:purrr’:\n",
      "\n",
      "    discard\n",
      "\n",
      "\n",
      "The following object is masked from ‘package:readr’:\n",
      "\n",
      "    col_factor\n",
      "\n",
      "\n"
     ]
    }
   ],
   "source": [
    "library(DBI)\n",
    "library(ggplot2)\n",
    "library(tidyverse)\n",
    "library(caret)\n",
    "library(scales)"
   ]
  },
  {
   "cell_type": "code",
   "execution_count": 14,
   "metadata": {
    "vscode": {
     "languageId": "r"
    }
   },
   "outputs": [],
   "source": [
    "mytheme <- function() {\n",
    "  return(theme_bw() +\n",
    "           theme(\n",
    "             # NOTE: UNCOMMENT WHEN RENDING PLOTS FOR THE PAPER\n",
    "             # (can't get the CM fonts to work in artifact VM...)\n",
    "             text = element_text(family = \"Times\", size=10),\n",
    "              panel.grid.major = element_blank(),\n",
    "             # panel.grid.minor = element_blank(),\n",
    "             # panel.grid.major = element_line(colour=\"gray\", size=0.1),\n",
    "             # panel.grid.minor =\n",
    "             #  element_line(colour=\"gray\", size=0.1, linetype='dotted'),\n",
    "             axis.ticks = element_line(size=0.05),\n",
    "             axis.ticks.length=unit(\"-0.05\", \"in\"),\n",
    "             axis.text.y = element_text(margin = margin(r = 5)),\n",
    "             axis.text.x = element_text(hjust=1),\n",
    "             legend.key = element_rect(colour=NA),\n",
    "             legend.spacing = unit(0.001, \"in\"),\n",
    "             legend.key.size = unit(0.2, \"in\"),\n",
    "             legend.title = element_blank(),\n",
    "             legend.position = c(0.75, .7),\n",
    "             legend.background = element_blank()))\n",
    "}\n",
    "\n",
    "mysave <- function(filename) {\n",
    "  ggsave(filename, width=4, height=3, units=c(\"in\"))\n",
    "  # embed_font(path)\n",
    "}"
   ]
  },
  {
   "cell_type": "code",
   "execution_count": 2,
   "metadata": {
    "vscode": {
     "languageId": "r"
    }
   },
   "outputs": [],
   "source": [
    "con <- dbConnect(\n",
    "    RPostgres::Postgres(),\n",
    "    dbname = 'npm_data', \n",
    "    user = 'data_analyzer',\n",
    ")"
   ]
  },
  {
   "cell_type": "code",
   "execution_count": 3,
   "metadata": {
    "vscode": {
     "languageId": "r"
    }
   },
   "outputs": [],
   "source": [
    "# This takes about 40 seconds to load (when running on the VM!), and takes about 4GB of memory\n",
    "df_full <- dbGetQuery(con, \"\n",
    "    select update_from_id, update_to_id, downstream_package_id, (unnest(oldnesses)).* from historic_solver_job_results_oldnesses\n",
    "    where array_length(oldnesses, 1) is not null\n",
    "\")"
   ]
  },
  {
   "cell_type": "code",
   "execution_count": 4,
   "metadata": {
    "vscode": {
     "languageId": "r"
    }
   },
   "outputs": [],
   "source": [
    "df_sub <- df_full[sample(nrow(df_full), 10000),] "
   ]
  },
  {
   "cell_type": "code",
   "execution_count": 5,
   "metadata": {
    "vscode": {
     "languageId": "r"
    }
   },
   "outputs": [],
   "source": [
    "df <- df_full"
   ]
  },
  {
   "cell_type": "code",
   "execution_count": 6,
   "metadata": {
    "vscode": {
     "languageId": "r"
    }
   },
   "outputs": [],
   "source": [
    "downstream_oldness_stats <- df %>% \n",
    "    group_by(downstream_package_id) %>% \n",
    "    summarise(\n",
    "        n = n(),\n",
    "        mean_old_secs = mean(as.numeric(old_secs)),\n",
    "        num_old = sum(old_secs > 10),\n",
    "        perc_old = num_old / n\n",
    "    ) %>% arrange(desc(n))"
   ]
  },
  {
   "cell_type": "code",
   "execution_count": 7,
   "metadata": {
    "vscode": {
     "languageId": "r"
    }
   },
   "outputs": [
    {
     "data": {
      "text/html": [
       "<table class=\"dataframe\">\n",
       "<caption>A tibble: 6 × 5</caption>\n",
       "<thead>\n",
       "\t<tr><th scope=col>downstream_package_id</th><th scope=col>n</th><th scope=col>mean_old_secs</th><th scope=col>num_old</th><th scope=col>perc_old</th></tr>\n",
       "\t<tr><th scope=col>&lt;int64&gt;</th><th scope=col>&lt;int&gt;</th><th scope=col>&lt;dbl&gt;</th><th scope=col>&lt;int&gt;</th><th scope=col>&lt;dbl&gt;</th></tr>\n",
       "</thead>\n",
       "<tbody>\n",
       "\t<tr><td>2004852</td><td>1641</td><td>63550273</td><td>869</td><td>0.5295551</td></tr>\n",
       "\t<tr><td> 665858</td><td>1630</td><td>29832839</td><td>731</td><td>0.4484663</td></tr>\n",
       "\t<tr><td>1636980</td><td>1627</td><td>15750136</td><td>507</td><td>0.3116165</td></tr>\n",
       "\t<tr><td>1225879</td><td>1612</td><td>15663530</td><td>529</td><td>0.3281638</td></tr>\n",
       "\t<tr><td>1774393</td><td>1595</td><td>28624429</td><td>656</td><td>0.4112853</td></tr>\n",
       "\t<tr><td>2213981</td><td>1587</td><td>18806160</td><td>565</td><td>0.3560176</td></tr>\n",
       "</tbody>\n",
       "</table>\n"
      ],
      "text/latex": [
       "A tibble: 6 × 5\n",
       "\\begin{tabular}{lllll}\n",
       " downstream\\_package\\_id & n & mean\\_old\\_secs & num\\_old & perc\\_old\\\\\n",
       " <int64> & <int> & <dbl> & <int> & <dbl>\\\\\n",
       "\\hline\n",
       "\t 2004852 & 1641 & 63550273 & 869 & 0.5295551\\\\\n",
       "\t  665858 & 1630 & 29832839 & 731 & 0.4484663\\\\\n",
       "\t 1636980 & 1627 & 15750136 & 507 & 0.3116165\\\\\n",
       "\t 1225879 & 1612 & 15663530 & 529 & 0.3281638\\\\\n",
       "\t 1774393 & 1595 & 28624429 & 656 & 0.4112853\\\\\n",
       "\t 2213981 & 1587 & 18806160 & 565 & 0.3560176\\\\\n",
       "\\end{tabular}\n"
      ],
      "text/markdown": [
       "\n",
       "A tibble: 6 × 5\n",
       "\n",
       "| downstream_package_id &lt;int64&gt; | n &lt;int&gt; | mean_old_secs &lt;dbl&gt; | num_old &lt;int&gt; | perc_old &lt;dbl&gt; |\n",
       "|---|---|---|---|---|\n",
       "| 2004852 | 1641 | 63550273 | 869 | 0.5295551 |\n",
       "|  665858 | 1630 | 29832839 | 731 | 0.4484663 |\n",
       "| 1636980 | 1627 | 15750136 | 507 | 0.3116165 |\n",
       "| 1225879 | 1612 | 15663530 | 529 | 0.3281638 |\n",
       "| 1774393 | 1595 | 28624429 | 656 | 0.4112853 |\n",
       "| 2213981 | 1587 | 18806160 | 565 | 0.3560176 |\n",
       "\n"
      ],
      "text/plain": [
       "  downstream_package_id n    mean_old_secs num_old perc_old \n",
       "1 2004852               1641 63550273      869     0.5295551\n",
       "2  665858               1630 29832839      731     0.4484663\n",
       "3 1636980               1627 15750136      507     0.3116165\n",
       "4 1225879               1612 15663530      529     0.3281638\n",
       "5 1774393               1595 28624429      656     0.4112853\n",
       "6 2213981               1587 18806160      565     0.3560176"
      ]
     },
     "metadata": {},
     "output_type": "display_data"
    }
   ],
   "source": [
    "head(downstream_oldness_stats)"
   ]
  },
  {
   "cell_type": "code",
   "execution_count": 30,
   "metadata": {
    "vscode": {
     "languageId": "r"
    }
   },
   "outputs": [
    {
     "name": "stderr",
     "output_type": "stream",
     "text": [
      "\u001b[1m\u001b[22m`stat_bin()` using `bins = 30`. Pick better value with `binwidth`.\n",
      "\u001b[1m\u001b[22m`stat_bin()` using `bins = 30`. Pick better value with `binwidth`.\n"
     ]
    },
    {
     "data": {
      "image/png": "[encoded data removed]",
      "text/plain": [
       "plot without title"
      ]
     },
     "metadata": {
      "image/png": {
       "height": 420,
       "width": 420
      }
     },
     "output_type": "display_data"
    }
   ],
   "source": [
    "\n",
    "ggplot(data=downstream_oldness_stats, aes(x=perc_old)) + \n",
    "    geom_histogram() +\n",
    "    scale_x_continuous(labels = scales::percent) +\n",
    "    xlab(\"Percent of out-of-date installed dependencies\") +\n",
    "    ylab(\"Number of packages\") +\n",
    "    mytheme()\n",
    "\n",
    "mysave(\"plots/rq3/perc_old_hist.pdf\")"
   ]
  },
  {
   "cell_type": "code",
   "execution_count": 31,
   "metadata": {
    "vscode": {
     "languageId": "r"
    }
   },
   "outputs": [
    {
     "data": {
      "image/png": "[encoded data removed]",
      "text/plain": [
       "plot without title"
      ]
     },
     "metadata": {
      "image/png": {
       "height": 420,
       "width": 420
      }
     },
     "output_type": "display_data"
    }
   ],
   "source": [
    "ggplot(data=downstream_oldness_stats, aes(x=perc_old)) + \n",
    "    stat_ecdf() +\n",
    "    scale_x_continuous(labels = scales::percent) +\n",
    "    scale_y_continuous(labels = scales::percent) +\n",
    "    xlab(\"Percent of out-of-date installed dependencies\") +\n",
    "    ylab(\"Cumulative percent of packages\") +\n",
    "    mytheme()\n",
    "\n",
    "mysave(\"plots/rq3/perc_old_ecdf.pdf\")"
   ]
  },
  {
   "cell_type": "code",
   "execution_count": 22,
   "metadata": {
    "vscode": {
     "languageId": "r"
    }
   },
   "outputs": [
    {
     "data": {
      "text/html": [
       "64.8100013349772"
      ],
      "text/latex": [
       "64.8100013349772"
      ],
      "text/markdown": [
       "64.8100013349772"
      ],
      "text/plain": [
       "[1] 64.81"
      ]
     },
     "metadata": {},
     "output_type": "display_data"
    }
   ],
   "source": [
    "100 * (downstream_oldness_stats %>% filter(perc_old >= 0.25) %>% nrow()) / nrow(downstream_oldness_stats)"
   ]
  },
  {
   "cell_type": "code",
   "execution_count": 23,
   "metadata": {
    "vscode": {
     "languageId": "r"
    }
   },
   "outputs": [
    {
     "data": {
      "text/html": [
       "16.4087543092278"
      ],
      "text/latex": [
       "16.4087543092278"
      ],
      "text/markdown": [
       "16.4087543092278"
      ],
      "text/plain": [
       "[1] 16.40875"
      ]
     },
     "metadata": {},
     "output_type": "display_data"
    }
   ],
   "source": [
    "100 * (downstream_oldness_stats %>% filter(perc_old <= 0) %>% nrow()) / nrow(downstream_oldness_stats)"
   ]
  },
  {
   "cell_type": "code",
   "execution_count": 24,
   "metadata": {
    "vscode": {
     "languageId": "r"
    }
   },
   "outputs": [
    {
     "data": {
      "text/html": [
       "<table class=\"dataframe\">\n",
       "<caption>A tibble: 1 × 1</caption>\n",
       "<thead>\n",
       "\t<tr><th scope=col>mean(n)</th></tr>\n",
       "\t<tr><th scope=col>&lt;dbl&gt;</th></tr>\n",
       "</thead>\n",
       "<tbody>\n",
       "\t<tr><td>167.8649</td></tr>\n",
       "</tbody>\n",
       "</table>\n"
      ],
      "text/latex": [
       "A tibble: 1 × 1\n",
       "\\begin{tabular}{l}\n",
       " mean(n)\\\\\n",
       " <dbl>\\\\\n",
       "\\hline\n",
       "\t 167.8649\\\\\n",
       "\\end{tabular}\n"
      ],
      "text/markdown": [
       "\n",
       "A tibble: 1 × 1\n",
       "\n",
       "| mean(n) &lt;dbl&gt; |\n",
       "|---|\n",
       "| 167.8649 |\n",
       "\n"
      ],
      "text/plain": [
       "  mean(n) \n",
       "1 167.8649"
      ]
     },
     "metadata": {},
     "output_type": "display_data"
    }
   ],
   "source": [
    "downstream_oldness_stats %>% summarise(mean(n))"
   ]
  },
  {
   "cell_type": "code",
   "execution_count": 25,
   "metadata": {
    "vscode": {
     "languageId": "r"
    }
   },
   "outputs": [
    {
     "data": {
      "text/html": [
       "<table class=\"dataframe\">\n",
       "<caption>A tibble: 1 × 1</caption>\n",
       "<thead>\n",
       "\t<tr><th scope=col>mean(n)</th></tr>\n",
       "\t<tr><th scope=col>&lt;dbl&gt;</th></tr>\n",
       "</thead>\n",
       "<tbody>\n",
       "\t<tr><td>2.986801</td></tr>\n",
       "</tbody>\n",
       "</table>\n"
      ],
      "text/latex": [
       "A tibble: 1 × 1\n",
       "\\begin{tabular}{l}\n",
       " mean(n)\\\\\n",
       " <dbl>\\\\\n",
       "\\hline\n",
       "\t 2.986801\\\\\n",
       "\\end{tabular}\n"
      ],
      "text/markdown": [
       "\n",
       "A tibble: 1 × 1\n",
       "\n",
       "| mean(n) &lt;dbl&gt; |\n",
       "|---|\n",
       "| 2.986801 |\n",
       "\n"
      ],
      "text/plain": [
       "  mean(n) \n",
       "1 2.986801"
      ]
     },
     "metadata": {},
     "output_type": "display_data"
    }
   ],
   "source": [
    "downstream_oldness_stats %>% filter(perc_old <= 0) %>% summarise(mean(n))"
   ]
  },
  {
   "cell_type": "code",
   "execution_count": 27,
   "metadata": {
    "vscode": {
     "languageId": "r"
    }
   },
   "outputs": [
    {
     "data": {
      "text/html": [
       "<table class=\"dataframe\">\n",
       "<caption>A tibble: 1 × 1</caption>\n",
       "<thead>\n",
       "\t<tr><th scope=col>mean(n)</th></tr>\n",
       "\t<tr><th scope=col>&lt;dbl&gt;</th></tr>\n",
       "</thead>\n",
       "<tbody>\n",
       "\t<tr><td>200.2301</td></tr>\n",
       "</tbody>\n",
       "</table>\n"
      ],
      "text/latex": [
       "A tibble: 1 × 1\n",
       "\\begin{tabular}{l}\n",
       " mean(n)\\\\\n",
       " <dbl>\\\\\n",
       "\\hline\n",
       "\t 200.2301\\\\\n",
       "\\end{tabular}\n"
      ],
      "text/markdown": [
       "\n",
       "A tibble: 1 × 1\n",
       "\n",
       "| mean(n) &lt;dbl&gt; |\n",
       "|---|\n",
       "| 200.2301 |\n",
       "\n"
      ],
      "text/plain": [
       "  mean(n) \n",
       "1 200.2301"
      ]
     },
     "metadata": {},
     "output_type": "display_data"
    }
   ],
   "source": [
    "downstream_oldness_stats %>% filter(perc_old > 0) %>% summarise(mean(n))"
   ]
  },
  {
   "cell_type": "code",
   "execution_count": 28,
   "metadata": {
    "vscode": {
     "languageId": "r"
    }
   },
   "outputs": [
    {
     "data": {
      "text/html": [
       "<table class=\"dataframe\">\n",
       "<caption>A data.frame: 1 × 1</caption>\n",
       "<thead>\n",
       "\t<tr><th scope=col>mean(as.numeric(mean_old_secs))</th></tr>\n",
       "\t<tr><th scope=col>&lt;dbl&gt;</th></tr>\n",
       "</thead>\n",
       "<tbody>\n",
       "\t<tr><td>179.8937</td></tr>\n",
       "</tbody>\n",
       "</table>\n"
      ],
      "text/latex": [
       "A data.frame: 1 × 1\n",
       "\\begin{tabular}{l}\n",
       " mean(as.numeric(mean\\_old\\_secs))\\\\\n",
       " <dbl>\\\\\n",
       "\\hline\n",
       "\t 179.8937\\\\\n",
       "\\end{tabular}\n"
      ],
      "text/markdown": [
       "\n",
       "A data.frame: 1 × 1\n",
       "\n",
       "| mean(as.numeric(mean_old_secs)) &lt;dbl&gt; |\n",
       "|---|\n",
       "| 179.8937 |\n",
       "\n"
      ],
      "text/plain": [
       "  mean(as.numeric(mean_old_secs))\n",
       "1 179.8937                       "
      ]
     },
     "metadata": {},
     "output_type": "display_data"
    }
   ],
   "source": [
    "downstream_oldness_stats %>% \n",
    "summarise(mean(as.numeric(mean_old_secs))) / (60 * 60 * 24)"
   ]
  },
  {
   "cell_type": "code",
   "execution_count": 29,
   "metadata": {
    "vscode": {
     "languageId": "r"
    }
   },
   "outputs": [
    {
     "data": {
      "text/html": [
       "<table class=\"dataframe\">\n",
       "<caption>A data.frame: 1 × 1</caption>\n",
       "<thead>\n",
       "\t<tr><th scope=col>mean(as.numeric(mean_old_secs))</th></tr>\n",
       "\t<tr><th scope=col>&lt;dbl&gt;</th></tr>\n",
       "</thead>\n",
       "<tbody>\n",
       "\t<tr><td>215.2478</td></tr>\n",
       "</tbody>\n",
       "</table>\n"
      ],
      "text/latex": [
       "A data.frame: 1 × 1\n",
       "\\begin{tabular}{l}\n",
       " mean(as.numeric(mean\\_old\\_secs))\\\\\n",
       " <dbl>\\\\\n",
       "\\hline\n",
       "\t 215.2478\\\\\n",
       "\\end{tabular}\n"
      ],
      "text/markdown": [
       "\n",
       "A data.frame: 1 × 1\n",
       "\n",
       "| mean(as.numeric(mean_old_secs)) &lt;dbl&gt; |\n",
       "|---|\n",
       "| 215.2478 |\n",
       "\n"
      ],
      "text/plain": [
       "  mean(as.numeric(mean_old_secs))\n",
       "1 215.2478                       "
      ]
     },
     "metadata": {},
     "output_type": "display_data"
    }
   ],
   "source": [
    "downstream_oldness_stats %>% \n",
    "filter(perc_old > 0) %>% \n",
    "summarise(mean(as.numeric(mean_old_secs))) / (60 * 60 * 24)"
   ]
  },
  {
   "cell_type": "code",
   "execution_count": null,
   "metadata": {
    "vscode": {
     "languageId": "r"
    }
   },
   "outputs": [],
   "source": []
  }
 ],
 "metadata": {
  "kernelspec": {
   "display_name": "R",
   "language": "R",
   "name": "ir"
  },
  "language_info": {
   "codemirror_mode": "r",
   "file_extension": ".r",
   "mimetype": "text/x-r-source",
   "name": "R",
   "pygments_lexer": "r",
   "version": "3.6.3"
  },
  "orig_nbformat": 4,
  "vscode": {
   "interpreter": {
    "hash": "31f2aee4e71d21fbe5cf8b01ff0e069b9275f58929596ceb00d14d90e3e16cd6"
   }
  }
 },
 "nbformat": 4,
 "nbformat_minor": 2
}
