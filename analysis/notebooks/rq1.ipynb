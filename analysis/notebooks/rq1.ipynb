{
 "cells": [
  {
   "attachments": {},
   "cell_type": "markdown",
   "metadata": {},
   "source": [
    "# Load Libraries"
   ]
  },
  {
   "cell_type": "code",
   "execution_count": 26,
   "metadata": {
    "vscode": {
     "languageId": "r"
    }
   },
   "outputs": [],
   "source": [
    "# Install RPostgres if needed:\n",
    "#install.packages(\"RPostgres\")\n",
    "#install.packages(\"tidyverse\")"
   ]
  },
  {
   "cell_type": "code",
   "execution_count": 1,
   "metadata": {
    "vscode": {
     "languageId": "r"
    }
   },
   "outputs": [
    {
     "name": "stderr",
     "output_type": "stream",
     "text": [
      "── \u001b[1mAttaching packages\u001b[22m ─────────────────────────────────────── tidyverse 1.3.2 ──\n",
      "\u001b[32m✔\u001b[39m \u001b[34mtibble \u001b[39m 3.1.8      \u001b[32m✔\u001b[39m \u001b[34mdplyr  \u001b[39m 1.0.10\n",
      "\u001b[32m✔\u001b[39m \u001b[34mtidyr  \u001b[39m 1.2.1      \u001b[32m✔\u001b[39m \u001b[34mstringr\u001b[39m 1.5.0 \n",
      "\u001b[32m✔\u001b[39m \u001b[34mreadr  \u001b[39m 2.1.3      \u001b[32m✔\u001b[39m \u001b[34mforcats\u001b[39m 0.5.2 \n",
      "\u001b[32m✔\u001b[39m \u001b[34mpurrr  \u001b[39m 1.0.0      \n",
      "── \u001b[1mConflicts\u001b[22m ────────────────────────────────────────── tidyverse_conflicts() ──\n",
      "\u001b[31m✖\u001b[39m \u001b[34mdplyr\u001b[39m::\u001b[32mfilter()\u001b[39m masks \u001b[34mstats\u001b[39m::filter()\n",
      "\u001b[31m✖\u001b[39m \u001b[34mdplyr\u001b[39m::\u001b[32mlag()\u001b[39m    masks \u001b[34mstats\u001b[39m::lag()\n"
     ]
    }
   ],
   "source": [
    "library(DBI)\n",
    "library(ggplot2)\n",
    "library(tidyverse)"
   ]
  },
  {
   "cell_type": "code",
   "execution_count": 51,
   "metadata": {
    "vscode": {
     "languageId": "r"
    }
   },
   "outputs": [],
   "source": [
    "mytheme <- function() {\n",
    "  return(theme_minimal() +\n",
    "           theme(\n",
    "             # NOTE: UNCOMMENT WHEN RENDING PLOTS FOR THE PAPER\n",
    "             # (can't get the CM fonts to work in artifact VM...)\n",
    "             text = element_text(family = \"Times\", size=10),\n",
    "              # panel.grid.major = element_blank(),\n",
    "             # panel.grid.minor = element_blank(),\n",
    "             # panel.grid.major = element_line(colour=\"gray\", size=0.1),\n",
    "             # panel.grid.minor =\n",
    "             #  element_line(colour=\"gray\", size=0.1, linetype='dotted'),\n",
    "            #  axis.ticks = element_line(size=0.05),\n",
    "            #  axis.ticks.length=unit(\"-0.05\", \"in\"),\n",
    "            #  axis.text.y = element_text(margin = margin(r = 5)),\n",
    "             axis.text.x = element_text(family = \"Times\", size=5),\n",
    "             legend.key = element_rect(colour=NA),\n",
    "             legend.spacing = unit(0.001, \"in\"),\n",
    "             legend.key.size = unit(0.2, \"in\"),\n",
    "            #  legend.title = element_blank(),\n",
    "            #  legend.position = c(0.75, .7),\n",
    "             legend.background = element_blank()))\n",
    "}\n",
    "\n",
    "mysave <- function(filename) {\n",
    "  ggsave(filename, width=4, height=3, units=c(\"in\"))\n",
    "}\n"
   ]
  },
  {
   "attachments": {},
   "cell_type": "markdown",
   "metadata": {},
   "source": [
    "# Connect to DB, load data, clean data"
   ]
  },
  {
   "cell_type": "code",
   "execution_count": 3,
   "metadata": {
    "vscode": {
     "languageId": "r"
    }
   },
   "outputs": [],
   "source": [
    "con <- dbConnect(\n",
    "    RPostgres::Postgres(),\n",
    "    dbname = 'npm_data', \n",
    "    user = 'data_analyzer',\n",
    ")"
   ]
  },
  {
   "cell_type": "code",
   "execution_count": 4,
   "metadata": {
    "vscode": {
     "languageId": "r"
    }
   },
   "outputs": [],
   "source": [
    "# This takes about 40 seconds to load (when running on the VM!), and takes about 4GB of memory\n",
    "unique_deps_across_versions <- dbGetQuery(con, \"\n",
    "    SELECT *\n",
    "    FROM analysis.unique_deps_yearly_latest --unique_deps_yearly_latest_depended_on_only, unique_deps_yearly_latest\n",
    "\")"
   ]
  },
  {
   "cell_type": "code",
   "execution_count": 5,
   "metadata": {
    "vscode": {
     "languageId": "r"
    }
   },
   "outputs": [],
   "source": [
    "unique_deps_across_versions$dep_type <- sapply(unique_deps_across_versions$dep_type, as.character)\n",
    "unique_deps_across_versions$dep_typeFact <- as.factor(unique_deps_across_versions$dep_type)\n",
    "unique_deps_across_versions$composite_constraint_type <- sapply(unique_deps_across_versions$composite_constraint_type, as.character)\n",
    "unique_deps_across_versions$composite_constraint_typeFact <- as.factor(unique_deps_across_versions$composite_constraint_type)"
   ]
  },
  {
   "cell_type": "code",
   "execution_count": 6,
   "metadata": {
    "vscode": {
     "languageId": "r"
    }
   },
   "outputs": [],
   "source": [
    "unique_deps_across_versions$composite_constraint_typeFact <- fct_collapse(unique_deps_across_versions$composite_constraint_typeFact,\n",
    "    \"Minor (^1.2.3)\"=\"range-minor\",\n",
    "    \"Exact (=1.2.3)\"=\"range-=\",\n",
    "    \"Bug (~1.2.3)\"=\"range-patch\",\n",
    "    \"Any (*)\"=\"range-major\",\n",
    "    \"Geq (>=1.2.3)\"=\"range->=\",\n",
    "    # Tag=\"tag\",\n",
    "    other_level=\"Other\"\n",
    ")"
   ]
  },
  {
   "cell_type": "code",
   "execution_count": 7,
   "metadata": {
    "vscode": {
     "languageId": "r"
    }
   },
   "outputs": [],
   "source": [
    "unique_deps_across_versions$composite_constraint_typeFact <- factor(\n",
    "    unique_deps_across_versions$composite_constraint_typeFact, levels=c(\"Exact (=1.2.3)\", \"Bug (~1.2.3)\", \"Minor (^1.2.3)\", \"Geq (>=1.2.3)\", \"Any (*)\", \"Other\"))"
   ]
  },
  {
   "cell_type": "code",
   "execution_count": 8,
   "metadata": {
    "vscode": {
     "languageId": "r"
    }
   },
   "outputs": [
    {
     "data": {
      "text/html": [
       "<table class=\"dataframe\">\n",
       "<caption>A data.frame: 6 × 7</caption>\n",
       "<thead>\n",
       "\t<tr><th></th><th scope=col>package_id</th><th scope=col>year</th><th scope=col>dependency_id</th><th scope=col>dep_type</th><th scope=col>composite_constraint_type</th><th scope=col>dep_typeFact</th><th scope=col>composite_constraint_typeFact</th></tr>\n",
       "\t<tr><th></th><th scope=col>&lt;int64&gt;</th><th scope=col>&lt;dbl&gt;</th><th scope=col>&lt;int64&gt;</th><th scope=col>&lt;chr&gt;</th><th scope=col>&lt;chr&gt;</th><th scope=col>&lt;fct&gt;</th><th scope=col>&lt;fct&gt;</th></tr>\n",
       "</thead>\n",
       "<tbody>\n",
       "\t<tr><th scope=row>1</th><td> 623262</td><td>2020</td><td>  774867</td><td>prod</td><td>range-minor</td><td>prod</td><td>Minor (^1.2.3)</td></tr>\n",
       "\t<tr><th scope=row>2</th><td> 695422</td><td>2020</td><td>  106147</td><td>prod</td><td>range-minor</td><td>prod</td><td>Minor (^1.2.3)</td></tr>\n",
       "\t<tr><th scope=row>3</th><td>2437459</td><td>2021</td><td>  479634</td><td>prod</td><td>range-minor</td><td>prod</td><td>Minor (^1.2.3)</td></tr>\n",
       "\t<tr><th scope=row>4</th><td>2096802</td><td>2016</td><td>    3486</td><td>prod</td><td>range-minor</td><td>prod</td><td>Minor (^1.2.3)</td></tr>\n",
       "\t<tr><th scope=row>5</th><td>  50806</td><td>2017</td><td>   39411</td><td>prod</td><td>range-minor</td><td>prod</td><td>Minor (^1.2.3)</td></tr>\n",
       "\t<tr><th scope=row>6</th><td>2532533</td><td>2022</td><td>22027238</td><td>prod</td><td>range-minor</td><td>prod</td><td>Minor (^1.2.3)</td></tr>\n",
       "</tbody>\n",
       "</table>\n"
      ],
      "text/latex": [
       "A data.frame: 6 × 7\n",
       "\\begin{tabular}{r|lllllll}\n",
       "  & package\\_id & year & dependency\\_id & dep\\_type & composite\\_constraint\\_type & dep\\_typeFact & composite\\_constraint\\_typeFact\\\\\n",
       "  & <int64> & <dbl> & <int64> & <chr> & <chr> & <fct> & <fct>\\\\\n",
       "\\hline\n",
       "\t1 &  623262 & 2020 &   774867 & prod & range-minor & prod & Minor (\\textasciicircum{}1.2.3)\\\\\n",
       "\t2 &  695422 & 2020 &   106147 & prod & range-minor & prod & Minor (\\textasciicircum{}1.2.3)\\\\\n",
       "\t3 & 2437459 & 2021 &   479634 & prod & range-minor & prod & Minor (\\textasciicircum{}1.2.3)\\\\\n",
       "\t4 & 2096802 & 2016 &     3486 & prod & range-minor & prod & Minor (\\textasciicircum{}1.2.3)\\\\\n",
       "\t5 &   50806 & 2017 &    39411 & prod & range-minor & prod & Minor (\\textasciicircum{}1.2.3)\\\\\n",
       "\t6 & 2532533 & 2022 & 22027238 & prod & range-minor & prod & Minor (\\textasciicircum{}1.2.3)\\\\\n",
       "\\end{tabular}\n"
      ],
      "text/markdown": [
       "\n",
       "A data.frame: 6 × 7\n",
       "\n",
       "| <!--/--> | package_id &lt;int64&gt; | year &lt;dbl&gt; | dependency_id &lt;int64&gt; | dep_type &lt;chr&gt; | composite_constraint_type &lt;chr&gt; | dep_typeFact &lt;fct&gt; | composite_constraint_typeFact &lt;fct&gt; |\n",
       "|---|---|---|---|---|---|---|---|\n",
       "| 1 |  623262 | 2020 |   774867 | prod | range-minor | prod | Minor (^1.2.3) |\n",
       "| 2 |  695422 | 2020 |   106147 | prod | range-minor | prod | Minor (^1.2.3) |\n",
       "| 3 | 2437459 | 2021 |   479634 | prod | range-minor | prod | Minor (^1.2.3) |\n",
       "| 4 | 2096802 | 2016 |     3486 | prod | range-minor | prod | Minor (^1.2.3) |\n",
       "| 5 |   50806 | 2017 |    39411 | prod | range-minor | prod | Minor (^1.2.3) |\n",
       "| 6 | 2532533 | 2022 | 22027238 | prod | range-minor | prod | Minor (^1.2.3) |\n",
       "\n"
      ],
      "text/plain": [
       "  package_id year dependency_id dep_type composite_constraint_type dep_typeFact\n",
       "1  623262    2020   774867      prod     range-minor               prod        \n",
       "2  695422    2020   106147      prod     range-minor               prod        \n",
       "3 2437459    2021   479634      prod     range-minor               prod        \n",
       "4 2096802    2016     3486      prod     range-minor               prod        \n",
       "5   50806    2017    39411      prod     range-minor               prod        \n",
       "6 2532533    2022 22027238      prod     range-minor               prod        \n",
       "  composite_constraint_typeFact\n",
       "1 Minor (^1.2.3)               \n",
       "2 Minor (^1.2.3)               \n",
       "3 Minor (^1.2.3)               \n",
       "4 Minor (^1.2.3)               \n",
       "5 Minor (^1.2.3)               \n",
       "6 Minor (^1.2.3)               "
      ]
     },
     "metadata": {},
     "output_type": "display_data"
    }
   ],
   "source": [
    "head(unique_deps_across_versions)"
   ]
  },
  {
   "cell_type": "code",
   "execution_count": 9,
   "metadata": {
    "vscode": {
     "languageId": "r"
    }
   },
   "outputs": [],
   "source": [
    "year_sums <- unique_deps_across_versions %>% \n",
    "    group_by(year) %>% \n",
    "    summarise(year_total=n())"
   ]
  },
  {
   "cell_type": "code",
   "execution_count": 10,
   "metadata": {
    "vscode": {
     "languageId": "r"
    }
   },
   "outputs": [
    {
     "name": "stderr",
     "output_type": "stream",
     "text": [
      "\u001b[1m\u001b[22m`summarise()` has grouped output by 'year'. You can override using the\n",
      "`.groups` argument.\n"
     ]
    }
   ],
   "source": [
    "# Get the percentage of each composite_constraint_typeFact within each year\n",
    "\n",
    "\n",
    "\n",
    "dep_by_year_percs <- unique_deps_across_versions %>% \n",
    "    group_by(year, composite_constraint_typeFact) %>% \n",
    "    summarise(count=n()) %>% \n",
    "    inner_join(year_sums, by=\"year\") %>%\n",
    "    mutate(percentage = count / year_total)\n",
    "    # mutate(percentage = count / sum(count)) \n",
    "    # %>% \n",
    "    # ggplot(aes(x=yearFact, y=percentage, fill=composite_constraint_typeFact)) +\n",
    "    #     geom_bar(stat=\"identity\") +\n",
    "    #     theme(axis.text.x = element_text(angle = 90, hjust = 1)) +\n",
    "    #     labs(x=\"Year\", y=\"Percentage of Dependencies\", fill=\"Constraint Type\") +\n",
    "    #     scale_fill_brewer(palette=\"Set1\") +\n",
    "    #     theme(legend.position=\"bottom\")"
   ]
  },
  {
   "cell_type": "code",
   "execution_count": 11,
   "metadata": {
    "vscode": {
     "languageId": "r"
    }
   },
   "outputs": [
    {
     "data": {
      "text/html": [
       "<table class=\"dataframe\">\n",
       "<caption>A grouped_df: 6 × 5</caption>\n",
       "<thead>\n",
       "\t<tr><th scope=col>year</th><th scope=col>composite_constraint_typeFact</th><th scope=col>count</th><th scope=col>year_total</th><th scope=col>percentage</th></tr>\n",
       "\t<tr><th scope=col>&lt;dbl&gt;</th><th scope=col>&lt;fct&gt;</th><th scope=col>&lt;int&gt;</th><th scope=col>&lt;int&gt;</th><th scope=col>&lt;dbl&gt;</th></tr>\n",
       "</thead>\n",
       "<tbody>\n",
       "\t<tr><td>2010</td><td>Exact (=1.2.3)</td><td>  19</td><td> 134</td><td>0.14179104</td></tr>\n",
       "\t<tr><td>2010</td><td>Geq (&gt;=1.2.3) </td><td> 105</td><td> 134</td><td>0.78358209</td></tr>\n",
       "\t<tr><td>2010</td><td>Any (*)       </td><td>   4</td><td> 134</td><td>0.02985075</td></tr>\n",
       "\t<tr><td>2010</td><td>Other         </td><td>   6</td><td> 134</td><td>0.04477612</td></tr>\n",
       "\t<tr><td>2011</td><td>Exact (=1.2.3)</td><td>1999</td><td>9615</td><td>0.20790432</td></tr>\n",
       "\t<tr><td>2011</td><td>Bug (~1.2.3)  </td><td>2115</td><td>9615</td><td>0.21996880</td></tr>\n",
       "</tbody>\n",
       "</table>\n"
      ],
      "text/latex": [
       "A grouped\\_df: 6 × 5\n",
       "\\begin{tabular}{lllll}\n",
       " year & composite\\_constraint\\_typeFact & count & year\\_total & percentage\\\\\n",
       " <dbl> & <fct> & <int> & <int> & <dbl>\\\\\n",
       "\\hline\n",
       "\t 2010 & Exact (=1.2.3) &   19 &  134 & 0.14179104\\\\\n",
       "\t 2010 & Geq (>=1.2.3)  &  105 &  134 & 0.78358209\\\\\n",
       "\t 2010 & Any (*)        &    4 &  134 & 0.02985075\\\\\n",
       "\t 2010 & Other          &    6 &  134 & 0.04477612\\\\\n",
       "\t 2011 & Exact (=1.2.3) & 1999 & 9615 & 0.20790432\\\\\n",
       "\t 2011 & Bug (\\textasciitilde{}1.2.3)   & 2115 & 9615 & 0.21996880\\\\\n",
       "\\end{tabular}\n"
      ],
      "text/markdown": [
       "\n",
       "A grouped_df: 6 × 5\n",
       "\n",
       "| year &lt;dbl&gt; | composite_constraint_typeFact &lt;fct&gt; | count &lt;int&gt; | year_total &lt;int&gt; | percentage &lt;dbl&gt; |\n",
       "|---|---|---|---|---|\n",
       "| 2010 | Exact (=1.2.3) |   19 |  134 | 0.14179104 |\n",
       "| 2010 | Geq (&gt;=1.2.3)  |  105 |  134 | 0.78358209 |\n",
       "| 2010 | Any (*)        |    4 |  134 | 0.02985075 |\n",
       "| 2010 | Other          |    6 |  134 | 0.04477612 |\n",
       "| 2011 | Exact (=1.2.3) | 1999 | 9615 | 0.20790432 |\n",
       "| 2011 | Bug (~1.2.3)   | 2115 | 9615 | 0.21996880 |\n",
       "\n"
      ],
      "text/plain": [
       "  year composite_constraint_typeFact count year_total percentage\n",
       "1 2010 Exact (=1.2.3)                  19   134       0.14179104\n",
       "2 2010 Geq (>=1.2.3)                  105   134       0.78358209\n",
       "3 2010 Any (*)                          4   134       0.02985075\n",
       "4 2010 Other                            6   134       0.04477612\n",
       "5 2011 Exact (=1.2.3)                1999  9615       0.20790432\n",
       "6 2011 Bug (~1.2.3)                  2115  9615       0.21996880"
      ]
     },
     "metadata": {},
     "output_type": "display_data"
    }
   ],
   "source": [
    "head(dep_by_year_percs)"
   ]
  },
  {
   "cell_type": "code",
   "execution_count": 12,
   "metadata": {
    "vscode": {
     "languageId": "r"
    }
   },
   "outputs": [],
   "source": [
    "dep_by_year_percs$yearFact <- factor(dep_by_year_percs$year)"
   ]
  },
  {
   "cell_type": "code",
   "execution_count": 52,
   "metadata": {
    "vscode": {
     "languageId": "r"
    }
   },
   "outputs": [
    {
     "data": {
      "image/png": "[encoded data removed]",
      "text/plain": [
       "plot without title"
      ]
     },
     "metadata": {
      "image/png": {
       "height": 420,
       "width": 420
      }
     },
     "output_type": "display_data"
    }
   ],
   "source": [
    "# plot a stacked area plot of composite_constraint_typeFact over year\n",
    "ggplot(dep_by_year_percs, aes(x=yearFact, y=percentage, fill=composite_constraint_typeFact)) +\n",
    "    geom_col() +\n",
    "    scale_x_discrete() +\n",
    "    scale_fill_brewer(palette=\"Set1\") +\n",
    "    scale_y_continuous(labels = scales::percent) + \n",
    "    # theme_minimal() +\n",
    "    # theme(legend.position=\"bottom\") +\n",
    "    labs(x=\"Year\", y=\"Percentage of dependencies\", fill=\"Constraint type\") +\n",
    "    mytheme()\n",
    "\n",
    "mysave(\"plots/rq1/constraint_usage_over_time.pdf\")"
   ]
  },
  {
   "cell_type": "code",
   "execution_count": null,
   "metadata": {
    "vscode": {
     "languageId": "r"
    }
   },
   "outputs": [],
   "source": []
  }
 ],
 "metadata": {
  "kernelspec": {
   "display_name": "R",
   "language": "R",
   "name": "ir"
  },
  "language_info": {
   "codemirror_mode": "r",
   "file_extension": ".r",
   "mimetype": "text/x-r-source",
   "name": "R",
   "pygments_lexer": "r",
   "version": "3.6.3"
  },
  "orig_nbformat": 4
 },
 "nbformat": 4,
 "nbformat_minor": 2
}
