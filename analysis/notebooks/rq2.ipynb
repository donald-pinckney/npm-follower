{
 "cells": [
  {
   "attachments": {},
   "cell_type": "markdown",
   "metadata": {},
   "source": [
    "# Load Libraries"
   ]
  },
  {
   "cell_type": "code",
   "execution_count": 26,
   "metadata": {
    "vscode": {
     "languageId": "r"
    }
   },
   "outputs": [],
   "source": [
    "# Install RPostgres if needed:\n",
    "#install.packages(\"RPostgres\")\n",
    "#install.packages(\"tidyverse\")"
   ]
  },
  {
   "cell_type": "code",
   "execution_count": 1,
   "metadata": {
    "vscode": {
     "languageId": "r"
    }
   },
   "outputs": [
    {
     "name": "stderr",
     "output_type": "stream",
     "text": [
      "── \u001b[1mAttaching packages\u001b[22m ─────────────────────────────────────── tidyverse 1.3.2 ──\n",
      "\u001b[32m✔\u001b[39m \u001b[34mtibble \u001b[39m 3.1.8      \u001b[32m✔\u001b[39m \u001b[34mdplyr  \u001b[39m 1.0.10\n",
      "\u001b[32m✔\u001b[39m \u001b[34mtidyr  \u001b[39m 1.2.1      \u001b[32m✔\u001b[39m \u001b[34mstringr\u001b[39m 1.5.0 \n",
      "\u001b[32m✔\u001b[39m \u001b[34mreadr  \u001b[39m 2.1.3      \u001b[32m✔\u001b[39m \u001b[34mforcats\u001b[39m 0.5.2 \n",
      "\u001b[32m✔\u001b[39m \u001b[34mpurrr  \u001b[39m 1.0.0      \n",
      "── \u001b[1mConflicts\u001b[22m ────────────────────────────────────────── tidyverse_conflicts() ──\n",
      "\u001b[31m✖\u001b[39m \u001b[34mdplyr\u001b[39m::\u001b[32mfilter()\u001b[39m masks \u001b[34mstats\u001b[39m::filter()\n",
      "\u001b[31m✖\u001b[39m \u001b[34mdplyr\u001b[39m::\u001b[32mlag()\u001b[39m    masks \u001b[34mstats\u001b[39m::lag()\n"
     ]
    }
   ],
   "source": [
    "library(DBI)\n",
    "library(ggplot2)\n",
    "library(tidyverse)"
   ]
  },
  {
   "cell_type": "code",
   "execution_count": 2,
   "metadata": {
    "vscode": {
     "languageId": "r"
    }
   },
   "outputs": [],
   "source": [
    "mytheme <- function() {\n",
    "  return(theme_bw() +\n",
    "           theme(\n",
    "             # NOTE: UNCOMMENT WHEN RENDING PLOTS FOR THE PAPER\n",
    "             # (can't get the CM fonts to work in artifact VM...)\n",
    "             text = element_text(family = \"Times\", size=10),\n",
    "              panel.grid.major = element_blank(),\n",
    "             # panel.grid.minor = element_blank(),\n",
    "             # panel.grid.major = element_line(colour=\"gray\", size=0.1),\n",
    "             # panel.grid.minor =\n",
    "             #  element_line(colour=\"gray\", size=0.1, linetype='dotted'),\n",
    "             axis.ticks = element_line(size=0.05),\n",
    "             axis.ticks.length=unit(\"-0.05\", \"in\"),\n",
    "             axis.text.y = element_text(margin = margin(r = 5)),\n",
    "             axis.text.x = element_text(hjust=1),\n",
    "             legend.key = element_rect(colour=NA),\n",
    "             legend.spacing = unit(0.001, \"in\"),\n",
    "             legend.key.size = unit(0.2, \"in\"),\n",
    "             legend.title = element_blank(),\n",
    "             legend.position = c(0.75, .7),\n",
    "             legend.background = element_blank()))\n",
    "}\n",
    "\n",
    "mythemeboxplot <- function() {\n",
    "  return(theme_bw() +\n",
    "           theme(\n",
    "             # NOTE: UNCOMMENT WHEN RENDING PLOTS FOR THE PAPER\n",
    "             # (can't get the CM fonts to work in artifact VM...)\n",
    "             text = element_text(family = \"Times\", size=10),\n",
    "              panel.grid.major = element_blank(),\n",
    "             # panel.grid.minor = element_blank(),\n",
    "             # panel.grid.major = element_line(colour=\"gray\", size=0.1),\n",
    "             # panel.grid.minor =\n",
    "             #  element_line(colour=\"gray\", size=0.1, linetype='dotted'),\n",
    "             axis.ticks = element_line(size=0.05),\n",
    "             axis.ticks.length=unit(\"-0.05\", \"in\"),\n",
    "             axis.text.y = element_text(margin = margin(r = 5)),\n",
    "            #  axis.text.x = element_text(hjust=1),\n",
    "             legend.key = element_rect(colour=NA),\n",
    "             legend.spacing = unit(0.001, \"in\"),\n",
    "             legend.key.size = unit(0.2, \"in\"),\n",
    "            #  legend.title = element_blank(),\n",
    "            #  legend.position = c(0.75, .7),\n",
    "             legend.background = element_blank()))\n",
    "}\n",
    "\n",
    "mysave <- function(filename) {\n",
    "  ggsave(filename, width=6, height=4.5, units=c(\"in\"))\n",
    "  # embed_font(path)\n",
    "}"
   ]
  },
  {
   "attachments": {},
   "cell_type": "markdown",
   "metadata": {},
   "source": [
    "# Connect to DB, load data, clean data"
   ]
  },
  {
   "cell_type": "code",
   "execution_count": 3,
   "metadata": {
    "vscode": {
     "languageId": "r"
    }
   },
   "outputs": [],
   "source": [
    "con <- dbConnect(\n",
    "    RPostgres::Postgres(),\n",
    "    dbname = 'npm_data', \n",
    "    user = 'data_analyzer',\n",
    ")"
   ]
  },
  {
   "cell_type": "code",
   "execution_count": 4,
   "metadata": {
    "vscode": {
     "languageId": "r"
    }
   },
   "outputs": [],
   "source": [
    "# This takes about 40 seconds to load (when running on the VM!), and takes about 4GB of memory\n",
    "all_updates <- dbGetQuery(con, \"\n",
    "    SELECT \n",
    "        package_id, \n",
    "        from_id, \n",
    "        to_id, \n",
    "        (from_semver).major AS from_semver_major, \n",
    "        (from_semver).minor AS from_semver_minor, \n",
    "        (from_semver).bug AS from_semver_bug,\n",
    "        (to_semver).major AS to_semver_major, \n",
    "        (to_semver).minor AS to_semver_minor, \n",
    "        (to_semver).bug AS to_semver_bug,\n",
    "        from_created,\n",
    "        to_created,\n",
    "        ty,\n",
    "        ROW(from_id, to_id) IN (SELECT from_id, to_id FROM analysis.vuln_intro_updates) as did_intro_vuln,\n",
    "        ROW(from_id, to_id) IN (SELECT from_id, to_id FROM analysis.vuln_patch_updates) as did_patch_vuln\n",
    "    FROM analysis.all_updates\n",
    "\")"
   ]
  },
  {
   "cell_type": "code",
   "execution_count": 5,
   "metadata": {
    "vscode": {
     "languageId": "r"
    }
   },
   "outputs": [],
   "source": [
    "all_updates_sub <- all_updates[sample(nrow(all_updates), 100000),] "
   ]
  },
  {
   "cell_type": "code",
   "execution_count": 6,
   "metadata": {
    "vscode": {
     "languageId": "r"
    }
   },
   "outputs": [],
   "source": [
    "all_updates <- all_updates %>% filter(ty != \"zero_to_something\")"
   ]
  },
  {
   "cell_type": "code",
   "execution_count": 7,
   "metadata": {
    "vscode": {
     "languageId": "r"
    }
   },
   "outputs": [],
   "source": [
    "all_updates$ty <- sapply(all_updates$ty, as.character)\n",
    "all_updates$tyFact <- factor(all_updates$ty, levels=c(\"bug\", \"minor\", \"major\"))"
   ]
  },
  {
   "cell_type": "code",
   "execution_count": 8,
   "metadata": {
    "vscode": {
     "languageId": "r"
    }
   },
   "outputs": [
    {
     "data": {
      "text/html": [
       "<table class=\"dataframe\">\n",
       "<caption>A data.frame: 6 × 15</caption>\n",
       "<thead>\n",
       "\t<tr><th></th><th scope=col>package_id</th><th scope=col>from_id</th><th scope=col>to_id</th><th scope=col>from_semver_major</th><th scope=col>from_semver_minor</th><th scope=col>from_semver_bug</th><th scope=col>to_semver_major</th><th scope=col>to_semver_minor</th><th scope=col>to_semver_bug</th><th scope=col>from_created</th><th scope=col>to_created</th><th scope=col>ty</th><th scope=col>did_intro_vuln</th><th scope=col>did_patch_vuln</th><th scope=col>tyFact</th></tr>\n",
       "\t<tr><th></th><th scope=col>&lt;int64&gt;</th><th scope=col>&lt;int64&gt;</th><th scope=col>&lt;int64&gt;</th><th scope=col>&lt;int64&gt;</th><th scope=col>&lt;int64&gt;</th><th scope=col>&lt;int64&gt;</th><th scope=col>&lt;int64&gt;</th><th scope=col>&lt;int64&gt;</th><th scope=col>&lt;int64&gt;</th><th scope=col>&lt;dttm&gt;</th><th scope=col>&lt;dttm&gt;</th><th scope=col>&lt;chr&gt;</th><th scope=col>&lt;lgl&gt;</th><th scope=col>&lt;lgl&gt;</th><th scope=col>&lt;fct&gt;</th></tr>\n",
       "</thead>\n",
       "<tbody>\n",
       "\t<tr><th scope=row>1</th><td>843897</td><td>4216901</td><td>4216902</td><td>1</td><td>1</td><td>11</td><td>1</td><td>1</td><td>12</td><td>2020-07-14 11:29:08</td><td>2020-07-14 15:08:05</td><td>bug  </td><td>FALSE</td><td>FALSE</td><td>bug  </td></tr>\n",
       "\t<tr><th scope=row>2</th><td>843897</td><td>4216902</td><td>4216903</td><td>1</td><td>1</td><td>12</td><td>1</td><td>2</td><td> 0</td><td>2020-07-14 15:08:05</td><td>2020-07-14 16:56:02</td><td>minor</td><td>FALSE</td><td>FALSE</td><td>minor</td></tr>\n",
       "\t<tr><th scope=row>3</th><td>843897</td><td>4216903</td><td>4216904</td><td>1</td><td>2</td><td> 0</td><td>1</td><td>2</td><td> 1</td><td>2020-07-14 16:56:02</td><td>2020-07-14 17:45:54</td><td>bug  </td><td>FALSE</td><td>FALSE</td><td>bug  </td></tr>\n",
       "\t<tr><th scope=row>4</th><td>843897</td><td>4216904</td><td>4216905</td><td>1</td><td>2</td><td> 1</td><td>1</td><td>2</td><td> 2</td><td>2020-07-14 17:45:54</td><td>2020-07-14 17:49:45</td><td>bug  </td><td>FALSE</td><td>FALSE</td><td>bug  </td></tr>\n",
       "\t<tr><th scope=row>5</th><td>843897</td><td>4216905</td><td>4216906</td><td>1</td><td>2</td><td> 2</td><td>1</td><td>2</td><td> 3</td><td>2020-07-14 17:49:45</td><td>2020-07-14 20:36:30</td><td>bug  </td><td>FALSE</td><td>FALSE</td><td>bug  </td></tr>\n",
       "\t<tr><th scope=row>6</th><td>843897</td><td>4216906</td><td>4216907</td><td>1</td><td>2</td><td> 3</td><td>1</td><td>2</td><td> 4</td><td>2020-07-14 20:36:30</td><td>2020-07-15 08:26:36</td><td>bug  </td><td>FALSE</td><td>FALSE</td><td>bug  </td></tr>\n",
       "</tbody>\n",
       "</table>\n"
      ],
      "text/latex": [
       "A data.frame: 6 × 15\n",
       "\\begin{tabular}{r|lllllllllllllll}\n",
       "  & package\\_id & from\\_id & to\\_id & from\\_semver\\_major & from\\_semver\\_minor & from\\_semver\\_bug & to\\_semver\\_major & to\\_semver\\_minor & to\\_semver\\_bug & from\\_created & to\\_created & ty & did\\_intro\\_vuln & did\\_patch\\_vuln & tyFact\\\\\n",
       "  & <int64> & <int64> & <int64> & <int64> & <int64> & <int64> & <int64> & <int64> & <int64> & <dttm> & <dttm> & <chr> & <lgl> & <lgl> & <fct>\\\\\n",
       "\\hline\n",
       "\t1 & 843897 & 4216901 & 4216902 & 1 & 1 & 11 & 1 & 1 & 12 & 2020-07-14 11:29:08 & 2020-07-14 15:08:05 & bug   & FALSE & FALSE & bug  \\\\\n",
       "\t2 & 843897 & 4216902 & 4216903 & 1 & 1 & 12 & 1 & 2 &  0 & 2020-07-14 15:08:05 & 2020-07-14 16:56:02 & minor & FALSE & FALSE & minor\\\\\n",
       "\t3 & 843897 & 4216903 & 4216904 & 1 & 2 &  0 & 1 & 2 &  1 & 2020-07-14 16:56:02 & 2020-07-14 17:45:54 & bug   & FALSE & FALSE & bug  \\\\\n",
       "\t4 & 843897 & 4216904 & 4216905 & 1 & 2 &  1 & 1 & 2 &  2 & 2020-07-14 17:45:54 & 2020-07-14 17:49:45 & bug   & FALSE & FALSE & bug  \\\\\n",
       "\t5 & 843897 & 4216905 & 4216906 & 1 & 2 &  2 & 1 & 2 &  3 & 2020-07-14 17:49:45 & 2020-07-14 20:36:30 & bug   & FALSE & FALSE & bug  \\\\\n",
       "\t6 & 843897 & 4216906 & 4216907 & 1 & 2 &  3 & 1 & 2 &  4 & 2020-07-14 20:36:30 & 2020-07-15 08:26:36 & bug   & FALSE & FALSE & bug  \\\\\n",
       "\\end{tabular}\n"
      ],
      "text/markdown": [
       "\n",
       "A data.frame: 6 × 15\n",
       "\n",
       "| <!--/--> | package_id &lt;int64&gt; | from_id &lt;int64&gt; | to_id &lt;int64&gt; | from_semver_major &lt;int64&gt; | from_semver_minor &lt;int64&gt; | from_semver_bug &lt;int64&gt; | to_semver_major &lt;int64&gt; | to_semver_minor &lt;int64&gt; | to_semver_bug &lt;int64&gt; | from_created &lt;dttm&gt; | to_created &lt;dttm&gt; | ty &lt;chr&gt; | did_intro_vuln &lt;lgl&gt; | did_patch_vuln &lt;lgl&gt; | tyFact &lt;fct&gt; |\n",
       "|---|---|---|---|---|---|---|---|---|---|---|---|---|---|---|---|\n",
       "| 1 | 843897 | 4216901 | 4216902 | 1 | 1 | 11 | 1 | 1 | 12 | 2020-07-14 11:29:08 | 2020-07-14 15:08:05 | bug   | FALSE | FALSE | bug   |\n",
       "| 2 | 843897 | 4216902 | 4216903 | 1 | 1 | 12 | 1 | 2 |  0 | 2020-07-14 15:08:05 | 2020-07-14 16:56:02 | minor | FALSE | FALSE | minor |\n",
       "| 3 | 843897 | 4216903 | 4216904 | 1 | 2 |  0 | 1 | 2 |  1 | 2020-07-14 16:56:02 | 2020-07-14 17:45:54 | bug   | FALSE | FALSE | bug   |\n",
       "| 4 | 843897 | 4216904 | 4216905 | 1 | 2 |  1 | 1 | 2 |  2 | 2020-07-14 17:45:54 | 2020-07-14 17:49:45 | bug   | FALSE | FALSE | bug   |\n",
       "| 5 | 843897 | 4216905 | 4216906 | 1 | 2 |  2 | 1 | 2 |  3 | 2020-07-14 17:49:45 | 2020-07-14 20:36:30 | bug   | FALSE | FALSE | bug   |\n",
       "| 6 | 843897 | 4216906 | 4216907 | 1 | 2 |  3 | 1 | 2 |  4 | 2020-07-14 20:36:30 | 2020-07-15 08:26:36 | bug   | FALSE | FALSE | bug   |\n",
       "\n"
      ],
      "text/plain": [
       "  package_id from_id to_id   from_semver_major from_semver_minor\n",
       "1 843897     4216901 4216902 1                 1                \n",
       "2 843897     4216902 4216903 1                 1                \n",
       "3 843897     4216903 4216904 1                 2                \n",
       "4 843897     4216904 4216905 1                 2                \n",
       "5 843897     4216905 4216906 1                 2                \n",
       "6 843897     4216906 4216907 1                 2                \n",
       "  from_semver_bug to_semver_major to_semver_minor to_semver_bug\n",
       "1 11              1               1               12           \n",
       "2 12              1               2                0           \n",
       "3  0              1               2                1           \n",
       "4  1              1               2                2           \n",
       "5  2              1               2                3           \n",
       "6  3              1               2                4           \n",
       "  from_created        to_created          ty    did_intro_vuln did_patch_vuln\n",
       "1 2020-07-14 11:29:08 2020-07-14 15:08:05 bug   FALSE          FALSE         \n",
       "2 2020-07-14 15:08:05 2020-07-14 16:56:02 minor FALSE          FALSE         \n",
       "3 2020-07-14 16:56:02 2020-07-14 17:45:54 bug   FALSE          FALSE         \n",
       "4 2020-07-14 17:45:54 2020-07-14 17:49:45 bug   FALSE          FALSE         \n",
       "5 2020-07-14 17:49:45 2020-07-14 20:36:30 bug   FALSE          FALSE         \n",
       "6 2020-07-14 20:36:30 2020-07-15 08:26:36 bug   FALSE          FALSE         \n",
       "  tyFact\n",
       "1 bug   \n",
       "2 minor \n",
       "3 bug   \n",
       "4 bug   \n",
       "5 bug   \n",
       "6 bug   "
      ]
     },
     "metadata": {},
     "output_type": "display_data"
    }
   ],
   "source": [
    "head(all_updates)"
   ]
  },
  {
   "cell_type": "code",
   "execution_count": 9,
   "metadata": {
    "vscode": {
     "languageId": "r"
    }
   },
   "outputs": [],
   "source": [
    "patches_only <- all_updates %>% filter(did_patch_vuln == TRUE & did_intro_vuln == FALSE)\n",
    "others <- all_updates %>% filter(did_patch_vuln == FALSE | did_intro_vuln == TRUE)\n",
    "\n",
    "# select the row with ty ordered bug,minor,major for each from_id\n",
    "patches_lowest_type <- patches_only %>% group_by(from_id) %>% top_n(-1, tyFact)\n",
    "patches_first_created <- patches_only %>% group_by(from_id) %>% top_n(-1, to_created)"
   ]
  },
  {
   "cell_type": "code",
   "execution_count": 10,
   "metadata": {
    "vscode": {
     "languageId": "r"
    }
   },
   "outputs": [
    {
     "data": {
      "text/html": [
       "<table class=\"dataframe\">\n",
       "<caption>A data.frame: 1391 × 15</caption>\n",
       "<thead>\n",
       "\t<tr><th scope=col>package_id</th><th scope=col>from_id</th><th scope=col>to_id</th><th scope=col>from_semver_major</th><th scope=col>from_semver_minor</th><th scope=col>from_semver_bug</th><th scope=col>to_semver_major</th><th scope=col>to_semver_minor</th><th scope=col>to_semver_bug</th><th scope=col>from_created</th><th scope=col>to_created</th><th scope=col>ty</th><th scope=col>did_intro_vuln</th><th scope=col>did_patch_vuln</th><th scope=col>tyFact</th></tr>\n",
       "\t<tr><th scope=col>&lt;int64&gt;</th><th scope=col>&lt;int64&gt;</th><th scope=col>&lt;int64&gt;</th><th scope=col>&lt;int64&gt;</th><th scope=col>&lt;int64&gt;</th><th scope=col>&lt;int64&gt;</th><th scope=col>&lt;int64&gt;</th><th scope=col>&lt;int64&gt;</th><th scope=col>&lt;int64&gt;</th><th scope=col>&lt;dttm&gt;</th><th scope=col>&lt;dttm&gt;</th><th scope=col>&lt;chr&gt;</th><th scope=col>&lt;lgl&gt;</th><th scope=col>&lt;lgl&gt;</th><th scope=col>&lt;fct&gt;</th></tr>\n",
       "</thead>\n",
       "<tbody>\n",
       "\t<tr><td> 849985</td><td> 4278123</td><td> 4278124</td><td> 1</td><td> 0</td><td>0</td><td> 1</td><td> 0</td><td> 1</td><td>2018-03-18 18:34:22</td><td>2020-10-29 12:53:17</td><td>bug  </td><td>FALSE</td><td>TRUE</td><td>bug  </td></tr>\n",
       "\t<tr><td> 849985</td><td> 4278124</td><td> 4278125</td><td> 1</td><td> 0</td><td>1</td><td> 1</td><td> 0</td><td> 2</td><td>2020-10-29 12:53:17</td><td>2022-01-27 17:26:29</td><td>bug  </td><td>FALSE</td><td>TRUE</td><td>bug  </td></tr>\n",
       "\t<tr><td> 887283</td><td> 4747046</td><td> 4747047</td><td> 1</td><td> 0</td><td>1</td><td> 1</td><td> 0</td><td> 2</td><td>2021-09-08 08:17:50</td><td>2021-09-08 13:35:35</td><td>bug  </td><td>FALSE</td><td>TRUE</td><td>bug  </td></tr>\n",
       "\t<tr><td> 906777</td><td> 4952934</td><td> 4952937</td><td>10</td><td> 4</td><td>0</td><td>10</td><td> 4</td><td> 1</td><td>2020-11-18 19:10:38</td><td>2020-12-03 17:22:31</td><td>bug  </td><td>FALSE</td><td>TRUE</td><td>bug  </td></tr>\n",
       "\t<tr><td> 909109</td><td> 4987053</td><td> 4987054</td><td> 1</td><td> 1</td><td>3</td><td> 1</td><td> 1</td><td> 4</td><td>2021-03-09 06:45:58</td><td>2021-05-24 02:45:44</td><td>bug  </td><td>FALSE</td><td>TRUE</td><td>bug  </td></tr>\n",
       "\t<tr><td> 930471</td><td> 5212550</td><td> 5212551</td><td> 1</td><td> 0</td><td>6</td><td> 1</td><td> 1</td><td> 0</td><td>2018-02-07 18:14:18</td><td>2019-07-17 09:58:11</td><td>minor</td><td>FALSE</td><td>TRUE</td><td>minor</td></tr>\n",
       "\t<tr><td> 938244</td><td> 5262635</td><td> 5262636</td><td> 1</td><td> 1</td><td>1</td><td> 1</td><td> 1</td><td> 2</td><td>2019-05-17 22:02:08</td><td>2019-05-17 22:09:15</td><td>bug  </td><td>FALSE</td><td>TRUE</td><td>bug  </td></tr>\n",
       "\t<tr><td> 958651</td><td> 5404838</td><td> 5404839</td><td> 1</td><td>13</td><td>1</td><td> 1</td><td>13</td><td> 2</td><td>2021-01-20 15:53:53</td><td>2021-01-24 18:52:33</td><td>bug  </td><td>FALSE</td><td>TRUE</td><td>bug  </td></tr>\n",
       "\t<tr><td> 960509</td><td> 5417258</td><td> 5417259</td><td> 0</td><td> 8</td><td>0</td><td> 0</td><td> 8</td><td> 2</td><td>2018-06-22 01:01:40</td><td>2019-07-18 08:02:24</td><td>bug  </td><td>FALSE</td><td>TRUE</td><td>bug  </td></tr>\n",
       "\t<tr><td> 964638</td><td> 5448333</td><td> 5448334</td><td> 0</td><td> 1</td><td>1</td><td> 0</td><td> 1</td><td> 2</td><td>2018-02-10 11:28:13</td><td>2018-03-04 06:27:05</td><td>bug  </td><td>FALSE</td><td>TRUE</td><td>bug  </td></tr>\n",
       "\t<tr><td> 980291</td><td> 5556176</td><td> 5556177</td><td> 0</td><td> 6</td><td>1</td><td> 0</td><td> 6</td><td> 2</td><td>2019-02-25 16:54:15</td><td>2019-02-27 21:01:29</td><td>bug  </td><td>FALSE</td><td>TRUE</td><td>bug  </td></tr>\n",
       "\t<tr><td> 980772</td><td> 5559435</td><td> 5559436</td><td> 1</td><td> 1</td><td>4</td><td> 1</td><td> 1</td><td> 5</td><td>2019-12-09 23:08:57</td><td>2019-12-10 00:29:26</td><td>bug  </td><td>FALSE</td><td>TRUE</td><td>bug  </td></tr>\n",
       "\t<tr><td> 980772</td><td> 5559436</td><td> 5559437</td><td> 1</td><td> 1</td><td>5</td><td> 1</td><td> 1</td><td> 6</td><td>2019-12-10 00:29:26</td><td>2019-12-11 18:49:05</td><td>bug  </td><td>FALSE</td><td>TRUE</td><td>bug  </td></tr>\n",
       "\t<tr><td>1008346</td><td> 5768085</td><td> 5768086</td><td> 2</td><td> 3</td><td>0</td><td> 2</td><td> 4</td><td> 0</td><td>2019-06-02 20:33:40</td><td>2019-08-20 01:34:28</td><td>minor</td><td>FALSE</td><td>TRUE</td><td>minor</td></tr>\n",
       "\t<tr><td>1038088</td><td>28545637</td><td>28545638</td><td> 1</td><td> 2</td><td>2</td><td> 1</td><td> 2</td><td> 3</td><td>2022-08-17 13:21:35</td><td>2022-08-25 02:34:28</td><td>bug  </td><td>FALSE</td><td>TRUE</td><td>bug  </td></tr>\n",
       "\t<tr><td>1043731</td><td>26986665</td><td>28894698</td><td> 3</td><td> 0</td><td>1</td><td> 3</td><td> 0</td><td> 2</td><td>2022-07-21 14:27:53</td><td>2022-09-25 08:20:34</td><td>bug  </td><td>FALSE</td><td>TRUE</td><td>bug  </td></tr>\n",
       "\t<tr><td>1044135</td><td> 6144107</td><td> 6144108</td><td> 1</td><td> 1</td><td>7</td><td> 1</td><td> 1</td><td> 8</td><td>2020-09-17 21:39:23</td><td>2020-10-28 20:33:09</td><td>bug  </td><td>FALSE</td><td>TRUE</td><td>bug  </td></tr>\n",
       "\t<tr><td>1056343</td><td> 6276968</td><td> 6276969</td><td> 1</td><td> 8</td><td>0</td><td> 1</td><td> 9</td><td> 0</td><td>2021-02-20 23:31:29</td><td>2021-03-23 00:30:45</td><td>minor</td><td>FALSE</td><td>TRUE</td><td>minor</td></tr>\n",
       "\t<tr><td>1065341</td><td> 6356985</td><td> 6356986</td><td> 1</td><td> 0</td><td>4</td><td> 1</td><td> 0</td><td> 5</td><td>2020-02-16 13:12:32</td><td>2020-02-21 12:51:40</td><td>bug  </td><td>FALSE</td><td>TRUE</td><td>bug  </td></tr>\n",
       "\t<tr><td>1072643</td><td> 6410953</td><td> 6410954</td><td> 2</td><td> 1</td><td>4</td><td> 2</td><td> 2</td><td> 0</td><td>2018-09-13 13:37:11</td><td>2018-10-04 22:40:20</td><td>minor</td><td>FALSE</td><td>TRUE</td><td>minor</td></tr>\n",
       "\t<tr><td>1104262</td><td> 6648037</td><td> 6648038</td><td> 1</td><td> 0</td><td>1</td><td> 1</td><td> 0</td><td> 2</td><td>2020-09-03 14:40:14</td><td>2021-04-13 13:32:40</td><td>bug  </td><td>FALSE</td><td>TRUE</td><td>bug  </td></tr>\n",
       "\t<tr><td>1104518</td><td> 6651622</td><td> 6651623</td><td> 4</td><td> 0</td><td>1</td><td> 4</td><td> 0</td><td> 2</td><td>2022-03-14 11:56:18</td><td>2022-03-31 08:03:17</td><td>bug  </td><td>FALSE</td><td>TRUE</td><td>bug  </td></tr>\n",
       "\t<tr><td>1109560</td><td> 6680890</td><td> 6680891</td><td> 0</td><td> 4</td><td>6</td><td> 0</td><td> 4</td><td> 7</td><td>2019-12-12 03:58:11</td><td>2020-01-08 01:37:05</td><td>bug  </td><td>FALSE</td><td>TRUE</td><td>bug  </td></tr>\n",
       "\t<tr><td>1109880</td><td> 6685192</td><td> 6685193</td><td> 1</td><td> 0</td><td>9</td><td> 1</td><td> 0</td><td>10</td><td>2018-02-24 12:34:09</td><td>2018-04-17 12:55:03</td><td>bug  </td><td>FALSE</td><td>TRUE</td><td>bug  </td></tr>\n",
       "\t<tr><td>1130234</td><td> 6843318</td><td>27523269</td><td> 0</td><td> 2</td><td>0</td><td> 0</td><td> 2</td><td> 1</td><td>2022-04-29 16:14:47</td><td>2022-07-28 17:42:17</td><td>bug  </td><td>FALSE</td><td>TRUE</td><td>bug  </td></tr>\n",
       "\t<tr><td>1152708</td><td> 6998142</td><td> 6998143</td><td> 1</td><td> 0</td><td>6</td><td> 1</td><td> 0</td><td> 7</td><td>2018-03-05 21:44:49</td><td>2018-03-05 21:53:25</td><td>bug  </td><td>FALSE</td><td>TRUE</td><td>bug  </td></tr>\n",
       "\t<tr><td>1159224</td><td> 7048688</td><td> 7048689</td><td> 3</td><td> 1</td><td>2</td><td> 3</td><td> 1</td><td> 3</td><td>2020-06-22 14:09:44</td><td>2021-03-19 19:10:11</td><td>bug  </td><td>FALSE</td><td>TRUE</td><td>bug  </td></tr>\n",
       "\t<tr><td>1166781</td><td> 7107834</td><td> 7107835</td><td> 1</td><td> 4</td><td>0</td><td> 1</td><td> 4</td><td> 1</td><td>2019-07-14 09:08:39</td><td>2019-08-20 10:23:20</td><td>bug  </td><td>FALSE</td><td>TRUE</td><td>bug  </td></tr>\n",
       "\t<tr><td>1167884</td><td> 7115888</td><td> 7115889</td><td> 0</td><td> 2</td><td>0</td><td> 0</td><td> 2</td><td> 1</td><td>2019-04-03 17:30:58</td><td>2020-03-04 18:29:49</td><td>bug  </td><td>FALSE</td><td>TRUE</td><td>bug  </td></tr>\n",
       "\t<tr><td>1168278</td><td> 7118328</td><td> 7118329</td><td> 8</td><td> 5</td><td>0</td><td> 8</td><td> 5</td><td> 1</td><td>2019-10-31 00:37:10</td><td>2020-02-08 06:45:41</td><td>bug  </td><td>FALSE</td><td>TRUE</td><td>bug  </td></tr>\n",
       "\t<tr><td>⋮</td><td>⋮</td><td>⋮</td><td>⋮</td><td>⋮</td><td>⋮</td><td>⋮</td><td>⋮</td><td>⋮</td><td>⋮</td><td>⋮</td><td>⋮</td><td>⋮</td><td>⋮</td><td>⋮</td></tr>\n",
       "\t<tr><td>204549</td><td>  431114</td><td>  431115</td><td>0</td><td>9</td><td> 0</td><td>0</td><td>9</td><td> 1</td><td>2017-10-14 04:55:27</td><td>2017-10-14 14:14:28</td><td>bug  </td><td>FALSE</td><td>TRUE</td><td>bug  </td></tr>\n",
       "\t<tr><td>518556</td><td>  531487</td><td>  531488</td><td>3</td><td>2</td><td> 9</td><td>3</td><td>2</td><td>10</td><td>2019-12-09 19:17:44</td><td>2020-11-05 00:33:05</td><td>bug  </td><td>FALSE</td><td>TRUE</td><td>bug  </td></tr>\n",
       "\t<tr><td>521460</td><td>  569672</td><td>  569673</td><td>0</td><td>1</td><td> 9</td><td>0</td><td>1</td><td>10</td><td>2021-12-16 21:17:29</td><td>2022-03-02 22:40:24</td><td>bug  </td><td>FALSE</td><td>TRUE</td><td>bug  </td></tr>\n",
       "\t<tr><td>551229</td><td>  854318</td><td>  854319</td><td>1</td><td>7</td><td> 0</td><td>1</td><td>9</td><td> 0</td><td>2020-09-24 21:56:05</td><td>2021-05-27 18:26:23</td><td>minor</td><td>FALSE</td><td>TRUE</td><td>minor</td></tr>\n",
       "\t<tr><td>551229</td><td>  854321</td><td>  854322</td><td>2</td><td>1</td><td> 0</td><td>2</td><td>2</td><td> 0</td><td>2021-02-04 00:56:01</td><td>2021-05-27 20:39:22</td><td>minor</td><td>FALSE</td><td>TRUE</td><td>minor</td></tr>\n",
       "\t<tr><td>551230</td><td>  854342</td><td>  854343</td><td>1</td><td>7</td><td> 0</td><td>1</td><td>9</td><td> 0</td><td>2020-09-24 21:56:02</td><td>2021-05-27 18:26:25</td><td>minor</td><td>FALSE</td><td>TRUE</td><td>minor</td></tr>\n",
       "\t<tr><td>551230</td><td>  854345</td><td>  854346</td><td>2</td><td>1</td><td> 0</td><td>2</td><td>2</td><td> 0</td><td>2021-02-04 00:56:01</td><td>2021-05-27 20:39:22</td><td>minor</td><td>FALSE</td><td>TRUE</td><td>minor</td></tr>\n",
       "\t<tr><td>552721</td><td>  868612</td><td>  868613</td><td>3</td><td>0</td><td> 7</td><td>3</td><td>0</td><td> 8</td><td>2021-02-23 21:34:37</td><td>2021-03-23 22:01:45</td><td>bug  </td><td>FALSE</td><td>TRUE</td><td>bug  </td></tr>\n",
       "\t<tr><td>559035</td><td>  994044</td><td>  994045</td><td>1</td><td>0</td><td> 1</td><td>1</td><td>0</td><td> 2</td><td>2019-02-09 16:47:03</td><td>2019-02-10 16:51:36</td><td>bug  </td><td>FALSE</td><td>TRUE</td><td>bug  </td></tr>\n",
       "\t<tr><td>586724</td><td> 1334489</td><td> 1334490</td><td>2</td><td>1</td><td> 0</td><td>2</td><td>1</td><td> 1</td><td>2019-03-22 05:51:45</td><td>2020-02-13 05:35:30</td><td>bug  </td><td>FALSE</td><td>TRUE</td><td>bug  </td></tr>\n",
       "\t<tr><td>586752</td><td> 1334598</td><td> 1334599</td><td>5</td><td>1</td><td> 1</td><td>5</td><td>1</td><td> 2</td><td>2019-09-13 19:42:25</td><td>2020-02-13 17:12:00</td><td>bug  </td><td>FALSE</td><td>TRUE</td><td>bug  </td></tr>\n",
       "\t<tr><td>594550</td><td> 1429389</td><td> 1429390</td><td>1</td><td>1</td><td> 2</td><td>1</td><td>1</td><td> 3</td><td>2021-01-01 14:42:45</td><td>2021-11-08 16:01:31</td><td>bug  </td><td>FALSE</td><td>TRUE</td><td>bug  </td></tr>\n",
       "\t<tr><td>619000</td><td> 1636673</td><td> 1636674</td><td>4</td><td>5</td><td> 1</td><td>4</td><td>5</td><td> 2</td><td>2020-07-14 09:37:32</td><td>2020-07-14 09:50:21</td><td>bug  </td><td>FALSE</td><td>TRUE</td><td>bug  </td></tr>\n",
       "\t<tr><td>622181</td><td> 1680583</td><td> 1680584</td><td>1</td><td>0</td><td> 2</td><td>1</td><td>0</td><td> 3</td><td>2019-10-21 00:05:52</td><td>2020-02-22 18:36:32</td><td>bug  </td><td>FALSE</td><td>TRUE</td><td>bug  </td></tr>\n",
       "\t<tr><td>637368</td><td> 2007425</td><td> 2007426</td><td>4</td><td>3</td><td> 3</td><td>4</td><td>3</td><td> 6</td><td>2020-10-30 03:51:52</td><td>2020-12-04 05:57:45</td><td>bug  </td><td>FALSE</td><td>TRUE</td><td>bug  </td></tr>\n",
       "\t<tr><td>641084</td><td> 2036884</td><td> 2036885</td><td>0</td><td>1</td><td> 3</td><td>0</td><td>1</td><td> 4</td><td>2021-09-17 14:17:08</td><td>2022-02-25 15:05:23</td><td>bug  </td><td>FALSE</td><td>TRUE</td><td>bug  </td></tr>\n",
       "\t<tr><td>641084</td><td> 2036885</td><td> 2036886</td><td>0</td><td>1</td><td> 4</td><td>0</td><td>1</td><td> 5</td><td>2022-02-25 15:05:23</td><td>2022-02-27 18:47:14</td><td>bug  </td><td>FALSE</td><td>TRUE</td><td>bug  </td></tr>\n",
       "\t<tr><td>665278</td><td> 2335815</td><td> 2335816</td><td>6</td><td>1</td><td> 1</td><td>6</td><td>1</td><td> 2</td><td>2019-06-26 06:18:23</td><td>2019-09-13 19:24:19</td><td>bug  </td><td>FALSE</td><td>TRUE</td><td>bug  </td></tr>\n",
       "\t<tr><td>665278</td><td> 2335816</td><td> 2335817</td><td>6</td><td>1</td><td> 2</td><td>6</td><td>1</td><td> 3</td><td>2019-09-13 19:24:19</td><td>2020-02-13 18:19:22</td><td>bug  </td><td>FALSE</td><td>TRUE</td><td>bug  </td></tr>\n",
       "\t<tr><td>665278</td><td> 2335820</td><td> 2335821</td><td>7</td><td>0</td><td> 2</td><td>7</td><td>0</td><td> 3</td><td>2020-02-13 16:51:21</td><td>2020-02-13 19:11:57</td><td>bug  </td><td>FALSE</td><td>TRUE</td><td>bug  </td></tr>\n",
       "\t<tr><td>684555</td><td> 2527431</td><td> 2527432</td><td>4</td><td>6</td><td> 8</td><td>4</td><td>7</td><td> 0</td><td>2020-06-30 15:59:52</td><td>2020-08-18 14:10:57</td><td>minor</td><td>FALSE</td><td>TRUE</td><td>minor</td></tr>\n",
       "\t<tr><td>685428</td><td> 2540904</td><td> 2540905</td><td>2</td><td>7</td><td> 0</td><td>2</td><td>7</td><td> 1</td><td>2020-06-28 04:23:02</td><td>2022-01-07 02:31:21</td><td>bug  </td><td>FALSE</td><td>TRUE</td><td>bug  </td></tr>\n",
       "\t<tr><td>718529</td><td>28889311</td><td>28889312</td><td>1</td><td>0</td><td> 1</td><td>1</td><td>1</td><td> 0</td><td>2022-09-24 04:08:19</td><td>2022-09-24 04:10:52</td><td>minor</td><td>FALSE</td><td>TRUE</td><td>minor</td></tr>\n",
       "\t<tr><td>765190</td><td> 3256063</td><td> 3256064</td><td>2</td><td>0</td><td> 7</td><td>2</td><td>0</td><td> 8</td><td>2021-04-13 16:47:39</td><td>2021-04-15 17:13:19</td><td>bug  </td><td>FALSE</td><td>TRUE</td><td>bug  </td></tr>\n",
       "\t<tr><td>766704</td><td> 3278948</td><td> 3278949</td><td>1</td><td>2</td><td> 2</td><td>1</td><td>2</td><td> 3</td><td>2019-03-14 12:45:08</td><td>2019-04-14 20:44:52</td><td>bug  </td><td>FALSE</td><td>TRUE</td><td>bug  </td></tr>\n",
       "\t<tr><td>795318</td><td> 3672429</td><td> 3672430</td><td>6</td><td>0</td><td> 2</td><td>6</td><td>0</td><td> 3</td><td>2021-02-13 14:33:35</td><td>2021-02-18 16:06:23</td><td>bug  </td><td>FALSE</td><td>TRUE</td><td>bug  </td></tr>\n",
       "\t<tr><td>795318</td><td> 3672432</td><td> 3672433</td><td>7</td><td>0</td><td> 1</td><td>7</td><td>0</td><td> 2</td><td>2021-02-13 14:43:38</td><td>2021-02-18 16:09:39</td><td>bug  </td><td>FALSE</td><td>TRUE</td><td>bug  </td></tr>\n",
       "\t<tr><td>812962</td><td> 3874219</td><td> 3874220</td><td>0</td><td>1</td><td> 0</td><td>0</td><td>1</td><td> 1</td><td>2021-03-23 01:00:19</td><td>2021-03-23 01:07:58</td><td>bug  </td><td>FALSE</td><td>TRUE</td><td>bug  </td></tr>\n",
       "\t<tr><td>831218</td><td> 4070514</td><td> 4070515</td><td>3</td><td>1</td><td>62</td><td>3</td><td>1</td><td>63</td><td>2020-05-21 17:04:23</td><td>2020-05-25 12:31:59</td><td>bug  </td><td>FALSE</td><td>TRUE</td><td>bug  </td></tr>\n",
       "\t<tr><td>839166</td><td> 4160445</td><td> 4160446</td><td>0</td><td>5</td><td> 1</td><td>0</td><td>5</td><td> 2</td><td>2021-01-15 13:36:23</td><td>2021-02-26 09:46:55</td><td>bug  </td><td>FALSE</td><td>TRUE</td><td>bug  </td></tr>\n",
       "</tbody>\n",
       "</table>\n"
      ],
      "text/latex": [
       "A data.frame: 1391 × 15\n",
       "\\begin{tabular}{lllllllllllllll}\n",
       " package\\_id & from\\_id & to\\_id & from\\_semver\\_major & from\\_semver\\_minor & from\\_semver\\_bug & to\\_semver\\_major & to\\_semver\\_minor & to\\_semver\\_bug & from\\_created & to\\_created & ty & did\\_intro\\_vuln & did\\_patch\\_vuln & tyFact\\\\\n",
       " <int64> & <int64> & <int64> & <int64> & <int64> & <int64> & <int64> & <int64> & <int64> & <dttm> & <dttm> & <chr> & <lgl> & <lgl> & <fct>\\\\\n",
       "\\hline\n",
       "\t  849985 &  4278123 &  4278124 &  1 &  0 & 0 &  1 &  0 &  1 & 2018-03-18 18:34:22 & 2020-10-29 12:53:17 & bug   & FALSE & TRUE & bug  \\\\\n",
       "\t  849985 &  4278124 &  4278125 &  1 &  0 & 1 &  1 &  0 &  2 & 2020-10-29 12:53:17 & 2022-01-27 17:26:29 & bug   & FALSE & TRUE & bug  \\\\\n",
       "\t  887283 &  4747046 &  4747047 &  1 &  0 & 1 &  1 &  0 &  2 & 2021-09-08 08:17:50 & 2021-09-08 13:35:35 & bug   & FALSE & TRUE & bug  \\\\\n",
       "\t  906777 &  4952934 &  4952937 & 10 &  4 & 0 & 10 &  4 &  1 & 2020-11-18 19:10:38 & 2020-12-03 17:22:31 & bug   & FALSE & TRUE & bug  \\\\\n",
       "\t  909109 &  4987053 &  4987054 &  1 &  1 & 3 &  1 &  1 &  4 & 2021-03-09 06:45:58 & 2021-05-24 02:45:44 & bug   & FALSE & TRUE & bug  \\\\\n",
       "\t  930471 &  5212550 &  5212551 &  1 &  0 & 6 &  1 &  1 &  0 & 2018-02-07 18:14:18 & 2019-07-17 09:58:11 & minor & FALSE & TRUE & minor\\\\\n",
       "\t  938244 &  5262635 &  5262636 &  1 &  1 & 1 &  1 &  1 &  2 & 2019-05-17 22:02:08 & 2019-05-17 22:09:15 & bug   & FALSE & TRUE & bug  \\\\\n",
       "\t  958651 &  5404838 &  5404839 &  1 & 13 & 1 &  1 & 13 &  2 & 2021-01-20 15:53:53 & 2021-01-24 18:52:33 & bug   & FALSE & TRUE & bug  \\\\\n",
       "\t  960509 &  5417258 &  5417259 &  0 &  8 & 0 &  0 &  8 &  2 & 2018-06-22 01:01:40 & 2019-07-18 08:02:24 & bug   & FALSE & TRUE & bug  \\\\\n",
       "\t  964638 &  5448333 &  5448334 &  0 &  1 & 1 &  0 &  1 &  2 & 2018-02-10 11:28:13 & 2018-03-04 06:27:05 & bug   & FALSE & TRUE & bug  \\\\\n",
       "\t  980291 &  5556176 &  5556177 &  0 &  6 & 1 &  0 &  6 &  2 & 2019-02-25 16:54:15 & 2019-02-27 21:01:29 & bug   & FALSE & TRUE & bug  \\\\\n",
       "\t  980772 &  5559435 &  5559436 &  1 &  1 & 4 &  1 &  1 &  5 & 2019-12-09 23:08:57 & 2019-12-10 00:29:26 & bug   & FALSE & TRUE & bug  \\\\\n",
       "\t  980772 &  5559436 &  5559437 &  1 &  1 & 5 &  1 &  1 &  6 & 2019-12-10 00:29:26 & 2019-12-11 18:49:05 & bug   & FALSE & TRUE & bug  \\\\\n",
       "\t 1008346 &  5768085 &  5768086 &  2 &  3 & 0 &  2 &  4 &  0 & 2019-06-02 20:33:40 & 2019-08-20 01:34:28 & minor & FALSE & TRUE & minor\\\\\n",
       "\t 1038088 & 28545637 & 28545638 &  1 &  2 & 2 &  1 &  2 &  3 & 2022-08-17 13:21:35 & 2022-08-25 02:34:28 & bug   & FALSE & TRUE & bug  \\\\\n",
       "\t 1043731 & 26986665 & 28894698 &  3 &  0 & 1 &  3 &  0 &  2 & 2022-07-21 14:27:53 & 2022-09-25 08:20:34 & bug   & FALSE & TRUE & bug  \\\\\n",
       "\t 1044135 &  6144107 &  6144108 &  1 &  1 & 7 &  1 &  1 &  8 & 2020-09-17 21:39:23 & 2020-10-28 20:33:09 & bug   & FALSE & TRUE & bug  \\\\\n",
       "\t 1056343 &  6276968 &  6276969 &  1 &  8 & 0 &  1 &  9 &  0 & 2021-02-20 23:31:29 & 2021-03-23 00:30:45 & minor & FALSE & TRUE & minor\\\\\n",
       "\t 1065341 &  6356985 &  6356986 &  1 &  0 & 4 &  1 &  0 &  5 & 2020-02-16 13:12:32 & 2020-02-21 12:51:40 & bug   & FALSE & TRUE & bug  \\\\\n",
       "\t 1072643 &  6410953 &  6410954 &  2 &  1 & 4 &  2 &  2 &  0 & 2018-09-13 13:37:11 & 2018-10-04 22:40:20 & minor & FALSE & TRUE & minor\\\\\n",
       "\t 1104262 &  6648037 &  6648038 &  1 &  0 & 1 &  1 &  0 &  2 & 2020-09-03 14:40:14 & 2021-04-13 13:32:40 & bug   & FALSE & TRUE & bug  \\\\\n",
       "\t 1104518 &  6651622 &  6651623 &  4 &  0 & 1 &  4 &  0 &  2 & 2022-03-14 11:56:18 & 2022-03-31 08:03:17 & bug   & FALSE & TRUE & bug  \\\\\n",
       "\t 1109560 &  6680890 &  6680891 &  0 &  4 & 6 &  0 &  4 &  7 & 2019-12-12 03:58:11 & 2020-01-08 01:37:05 & bug   & FALSE & TRUE & bug  \\\\\n",
       "\t 1109880 &  6685192 &  6685193 &  1 &  0 & 9 &  1 &  0 & 10 & 2018-02-24 12:34:09 & 2018-04-17 12:55:03 & bug   & FALSE & TRUE & bug  \\\\\n",
       "\t 1130234 &  6843318 & 27523269 &  0 &  2 & 0 &  0 &  2 &  1 & 2022-04-29 16:14:47 & 2022-07-28 17:42:17 & bug   & FALSE & TRUE & bug  \\\\\n",
       "\t 1152708 &  6998142 &  6998143 &  1 &  0 & 6 &  1 &  0 &  7 & 2018-03-05 21:44:49 & 2018-03-05 21:53:25 & bug   & FALSE & TRUE & bug  \\\\\n",
       "\t 1159224 &  7048688 &  7048689 &  3 &  1 & 2 &  3 &  1 &  3 & 2020-06-22 14:09:44 & 2021-03-19 19:10:11 & bug   & FALSE & TRUE & bug  \\\\\n",
       "\t 1166781 &  7107834 &  7107835 &  1 &  4 & 0 &  1 &  4 &  1 & 2019-07-14 09:08:39 & 2019-08-20 10:23:20 & bug   & FALSE & TRUE & bug  \\\\\n",
       "\t 1167884 &  7115888 &  7115889 &  0 &  2 & 0 &  0 &  2 &  1 & 2019-04-03 17:30:58 & 2020-03-04 18:29:49 & bug   & FALSE & TRUE & bug  \\\\\n",
       "\t 1168278 &  7118328 &  7118329 &  8 &  5 & 0 &  8 &  5 &  1 & 2019-10-31 00:37:10 & 2020-02-08 06:45:41 & bug   & FALSE & TRUE & bug  \\\\\n",
       "\t ⋮ & ⋮ & ⋮ & ⋮ & ⋮ & ⋮ & ⋮ & ⋮ & ⋮ & ⋮ & ⋮ & ⋮ & ⋮ & ⋮ & ⋮\\\\\n",
       "\t 204549 &   431114 &   431115 & 0 & 9 &  0 & 0 & 9 &  1 & 2017-10-14 04:55:27 & 2017-10-14 14:14:28 & bug   & FALSE & TRUE & bug  \\\\\n",
       "\t 518556 &   531487 &   531488 & 3 & 2 &  9 & 3 & 2 & 10 & 2019-12-09 19:17:44 & 2020-11-05 00:33:05 & bug   & FALSE & TRUE & bug  \\\\\n",
       "\t 521460 &   569672 &   569673 & 0 & 1 &  9 & 0 & 1 & 10 & 2021-12-16 21:17:29 & 2022-03-02 22:40:24 & bug   & FALSE & TRUE & bug  \\\\\n",
       "\t 551229 &   854318 &   854319 & 1 & 7 &  0 & 1 & 9 &  0 & 2020-09-24 21:56:05 & 2021-05-27 18:26:23 & minor & FALSE & TRUE & minor\\\\\n",
       "\t 551229 &   854321 &   854322 & 2 & 1 &  0 & 2 & 2 &  0 & 2021-02-04 00:56:01 & 2021-05-27 20:39:22 & minor & FALSE & TRUE & minor\\\\\n",
       "\t 551230 &   854342 &   854343 & 1 & 7 &  0 & 1 & 9 &  0 & 2020-09-24 21:56:02 & 2021-05-27 18:26:25 & minor & FALSE & TRUE & minor\\\\\n",
       "\t 551230 &   854345 &   854346 & 2 & 1 &  0 & 2 & 2 &  0 & 2021-02-04 00:56:01 & 2021-05-27 20:39:22 & minor & FALSE & TRUE & minor\\\\\n",
       "\t 552721 &   868612 &   868613 & 3 & 0 &  7 & 3 & 0 &  8 & 2021-02-23 21:34:37 & 2021-03-23 22:01:45 & bug   & FALSE & TRUE & bug  \\\\\n",
       "\t 559035 &   994044 &   994045 & 1 & 0 &  1 & 1 & 0 &  2 & 2019-02-09 16:47:03 & 2019-02-10 16:51:36 & bug   & FALSE & TRUE & bug  \\\\\n",
       "\t 586724 &  1334489 &  1334490 & 2 & 1 &  0 & 2 & 1 &  1 & 2019-03-22 05:51:45 & 2020-02-13 05:35:30 & bug   & FALSE & TRUE & bug  \\\\\n",
       "\t 586752 &  1334598 &  1334599 & 5 & 1 &  1 & 5 & 1 &  2 & 2019-09-13 19:42:25 & 2020-02-13 17:12:00 & bug   & FALSE & TRUE & bug  \\\\\n",
       "\t 594550 &  1429389 &  1429390 & 1 & 1 &  2 & 1 & 1 &  3 & 2021-01-01 14:42:45 & 2021-11-08 16:01:31 & bug   & FALSE & TRUE & bug  \\\\\n",
       "\t 619000 &  1636673 &  1636674 & 4 & 5 &  1 & 4 & 5 &  2 & 2020-07-14 09:37:32 & 2020-07-14 09:50:21 & bug   & FALSE & TRUE & bug  \\\\\n",
       "\t 622181 &  1680583 &  1680584 & 1 & 0 &  2 & 1 & 0 &  3 & 2019-10-21 00:05:52 & 2020-02-22 18:36:32 & bug   & FALSE & TRUE & bug  \\\\\n",
       "\t 637368 &  2007425 &  2007426 & 4 & 3 &  3 & 4 & 3 &  6 & 2020-10-30 03:51:52 & 2020-12-04 05:57:45 & bug   & FALSE & TRUE & bug  \\\\\n",
       "\t 641084 &  2036884 &  2036885 & 0 & 1 &  3 & 0 & 1 &  4 & 2021-09-17 14:17:08 & 2022-02-25 15:05:23 & bug   & FALSE & TRUE & bug  \\\\\n",
       "\t 641084 &  2036885 &  2036886 & 0 & 1 &  4 & 0 & 1 &  5 & 2022-02-25 15:05:23 & 2022-02-27 18:47:14 & bug   & FALSE & TRUE & bug  \\\\\n",
       "\t 665278 &  2335815 &  2335816 & 6 & 1 &  1 & 6 & 1 &  2 & 2019-06-26 06:18:23 & 2019-09-13 19:24:19 & bug   & FALSE & TRUE & bug  \\\\\n",
       "\t 665278 &  2335816 &  2335817 & 6 & 1 &  2 & 6 & 1 &  3 & 2019-09-13 19:24:19 & 2020-02-13 18:19:22 & bug   & FALSE & TRUE & bug  \\\\\n",
       "\t 665278 &  2335820 &  2335821 & 7 & 0 &  2 & 7 & 0 &  3 & 2020-02-13 16:51:21 & 2020-02-13 19:11:57 & bug   & FALSE & TRUE & bug  \\\\\n",
       "\t 684555 &  2527431 &  2527432 & 4 & 6 &  8 & 4 & 7 &  0 & 2020-06-30 15:59:52 & 2020-08-18 14:10:57 & minor & FALSE & TRUE & minor\\\\\n",
       "\t 685428 &  2540904 &  2540905 & 2 & 7 &  0 & 2 & 7 &  1 & 2020-06-28 04:23:02 & 2022-01-07 02:31:21 & bug   & FALSE & TRUE & bug  \\\\\n",
       "\t 718529 & 28889311 & 28889312 & 1 & 0 &  1 & 1 & 1 &  0 & 2022-09-24 04:08:19 & 2022-09-24 04:10:52 & minor & FALSE & TRUE & minor\\\\\n",
       "\t 765190 &  3256063 &  3256064 & 2 & 0 &  7 & 2 & 0 &  8 & 2021-04-13 16:47:39 & 2021-04-15 17:13:19 & bug   & FALSE & TRUE & bug  \\\\\n",
       "\t 766704 &  3278948 &  3278949 & 1 & 2 &  2 & 1 & 2 &  3 & 2019-03-14 12:45:08 & 2019-04-14 20:44:52 & bug   & FALSE & TRUE & bug  \\\\\n",
       "\t 795318 &  3672429 &  3672430 & 6 & 0 &  2 & 6 & 0 &  3 & 2021-02-13 14:33:35 & 2021-02-18 16:06:23 & bug   & FALSE & TRUE & bug  \\\\\n",
       "\t 795318 &  3672432 &  3672433 & 7 & 0 &  1 & 7 & 0 &  2 & 2021-02-13 14:43:38 & 2021-02-18 16:09:39 & bug   & FALSE & TRUE & bug  \\\\\n",
       "\t 812962 &  3874219 &  3874220 & 0 & 1 &  0 & 0 & 1 &  1 & 2021-03-23 01:00:19 & 2021-03-23 01:07:58 & bug   & FALSE & TRUE & bug  \\\\\n",
       "\t 831218 &  4070514 &  4070515 & 3 & 1 & 62 & 3 & 1 & 63 & 2020-05-21 17:04:23 & 2020-05-25 12:31:59 & bug   & FALSE & TRUE & bug  \\\\\n",
       "\t 839166 &  4160445 &  4160446 & 0 & 5 &  1 & 0 & 5 &  2 & 2021-01-15 13:36:23 & 2021-02-26 09:46:55 & bug   & FALSE & TRUE & bug  \\\\\n",
       "\\end{tabular}\n"
      ],
      "text/markdown": [
       "\n",
       "A data.frame: 1391 × 15\n",
       "\n",
       "| package_id &lt;int64&gt; | from_id &lt;int64&gt; | to_id &lt;int64&gt; | from_semver_major &lt;int64&gt; | from_semver_minor &lt;int64&gt; | from_semver_bug &lt;int64&gt; | to_semver_major &lt;int64&gt; | to_semver_minor &lt;int64&gt; | to_semver_bug &lt;int64&gt; | from_created &lt;dttm&gt; | to_created &lt;dttm&gt; | ty &lt;chr&gt; | did_intro_vuln &lt;lgl&gt; | did_patch_vuln &lt;lgl&gt; | tyFact &lt;fct&gt; |\n",
       "|---|---|---|---|---|---|---|---|---|---|---|---|---|---|---|\n",
       "|  849985 |  4278123 |  4278124 |  1 |  0 | 0 |  1 |  0 |  1 | 2018-03-18 18:34:22 | 2020-10-29 12:53:17 | bug   | FALSE | TRUE | bug   |\n",
       "|  849985 |  4278124 |  4278125 |  1 |  0 | 1 |  1 |  0 |  2 | 2020-10-29 12:53:17 | 2022-01-27 17:26:29 | bug   | FALSE | TRUE | bug   |\n",
       "|  887283 |  4747046 |  4747047 |  1 |  0 | 1 |  1 |  0 |  2 | 2021-09-08 08:17:50 | 2021-09-08 13:35:35 | bug   | FALSE | TRUE | bug   |\n",
       "|  906777 |  4952934 |  4952937 | 10 |  4 | 0 | 10 |  4 |  1 | 2020-11-18 19:10:38 | 2020-12-03 17:22:31 | bug   | FALSE | TRUE | bug   |\n",
       "|  909109 |  4987053 |  4987054 |  1 |  1 | 3 |  1 |  1 |  4 | 2021-03-09 06:45:58 | 2021-05-24 02:45:44 | bug   | FALSE | TRUE | bug   |\n",
       "|  930471 |  5212550 |  5212551 |  1 |  0 | 6 |  1 |  1 |  0 | 2018-02-07 18:14:18 | 2019-07-17 09:58:11 | minor | FALSE | TRUE | minor |\n",
       "|  938244 |  5262635 |  5262636 |  1 |  1 | 1 |  1 |  1 |  2 | 2019-05-17 22:02:08 | 2019-05-17 22:09:15 | bug   | FALSE | TRUE | bug   |\n",
       "|  958651 |  5404838 |  5404839 |  1 | 13 | 1 |  1 | 13 |  2 | 2021-01-20 15:53:53 | 2021-01-24 18:52:33 | bug   | FALSE | TRUE | bug   |\n",
       "|  960509 |  5417258 |  5417259 |  0 |  8 | 0 |  0 |  8 |  2 | 2018-06-22 01:01:40 | 2019-07-18 08:02:24 | bug   | FALSE | TRUE | bug   |\n",
       "|  964638 |  5448333 |  5448334 |  0 |  1 | 1 |  0 |  1 |  2 | 2018-02-10 11:28:13 | 2018-03-04 06:27:05 | bug   | FALSE | TRUE | bug   |\n",
       "|  980291 |  5556176 |  5556177 |  0 |  6 | 1 |  0 |  6 |  2 | 2019-02-25 16:54:15 | 2019-02-27 21:01:29 | bug   | FALSE | TRUE | bug   |\n",
       "|  980772 |  5559435 |  5559436 |  1 |  1 | 4 |  1 |  1 |  5 | 2019-12-09 23:08:57 | 2019-12-10 00:29:26 | bug   | FALSE | TRUE | bug   |\n",
       "|  980772 |  5559436 |  5559437 |  1 |  1 | 5 |  1 |  1 |  6 | 2019-12-10 00:29:26 | 2019-12-11 18:49:05 | bug   | FALSE | TRUE | bug   |\n",
       "| 1008346 |  5768085 |  5768086 |  2 |  3 | 0 |  2 |  4 |  0 | 2019-06-02 20:33:40 | 2019-08-20 01:34:28 | minor | FALSE | TRUE | minor |\n",
       "| 1038088 | 28545637 | 28545638 |  1 |  2 | 2 |  1 |  2 |  3 | 2022-08-17 13:21:35 | 2022-08-25 02:34:28 | bug   | FALSE | TRUE | bug   |\n",
       "| 1043731 | 26986665 | 28894698 |  3 |  0 | 1 |  3 |  0 |  2 | 2022-07-21 14:27:53 | 2022-09-25 08:20:34 | bug   | FALSE | TRUE | bug   |\n",
       "| 1044135 |  6144107 |  6144108 |  1 |  1 | 7 |  1 |  1 |  8 | 2020-09-17 21:39:23 | 2020-10-28 20:33:09 | bug   | FALSE | TRUE | bug   |\n",
       "| 1056343 |  6276968 |  6276969 |  1 |  8 | 0 |  1 |  9 |  0 | 2021-02-20 23:31:29 | 2021-03-23 00:30:45 | minor | FALSE | TRUE | minor |\n",
       "| 1065341 |  6356985 |  6356986 |  1 |  0 | 4 |  1 |  0 |  5 | 2020-02-16 13:12:32 | 2020-02-21 12:51:40 | bug   | FALSE | TRUE | bug   |\n",
       "| 1072643 |  6410953 |  6410954 |  2 |  1 | 4 |  2 |  2 |  0 | 2018-09-13 13:37:11 | 2018-10-04 22:40:20 | minor | FALSE | TRUE | minor |\n",
       "| 1104262 |  6648037 |  6648038 |  1 |  0 | 1 |  1 |  0 |  2 | 2020-09-03 14:40:14 | 2021-04-13 13:32:40 | bug   | FALSE | TRUE | bug   |\n",
       "| 1104518 |  6651622 |  6651623 |  4 |  0 | 1 |  4 |  0 |  2 | 2022-03-14 11:56:18 | 2022-03-31 08:03:17 | bug   | FALSE | TRUE | bug   |\n",
       "| 1109560 |  6680890 |  6680891 |  0 |  4 | 6 |  0 |  4 |  7 | 2019-12-12 03:58:11 | 2020-01-08 01:37:05 | bug   | FALSE | TRUE | bug   |\n",
       "| 1109880 |  6685192 |  6685193 |  1 |  0 | 9 |  1 |  0 | 10 | 2018-02-24 12:34:09 | 2018-04-17 12:55:03 | bug   | FALSE | TRUE | bug   |\n",
       "| 1130234 |  6843318 | 27523269 |  0 |  2 | 0 |  0 |  2 |  1 | 2022-04-29 16:14:47 | 2022-07-28 17:42:17 | bug   | FALSE | TRUE | bug   |\n",
       "| 1152708 |  6998142 |  6998143 |  1 |  0 | 6 |  1 |  0 |  7 | 2018-03-05 21:44:49 | 2018-03-05 21:53:25 | bug   | FALSE | TRUE | bug   |\n",
       "| 1159224 |  7048688 |  7048689 |  3 |  1 | 2 |  3 |  1 |  3 | 2020-06-22 14:09:44 | 2021-03-19 19:10:11 | bug   | FALSE | TRUE | bug   |\n",
       "| 1166781 |  7107834 |  7107835 |  1 |  4 | 0 |  1 |  4 |  1 | 2019-07-14 09:08:39 | 2019-08-20 10:23:20 | bug   | FALSE | TRUE | bug   |\n",
       "| 1167884 |  7115888 |  7115889 |  0 |  2 | 0 |  0 |  2 |  1 | 2019-04-03 17:30:58 | 2020-03-04 18:29:49 | bug   | FALSE | TRUE | bug   |\n",
       "| 1168278 |  7118328 |  7118329 |  8 |  5 | 0 |  8 |  5 |  1 | 2019-10-31 00:37:10 | 2020-02-08 06:45:41 | bug   | FALSE | TRUE | bug   |\n",
       "| ⋮ | ⋮ | ⋮ | ⋮ | ⋮ | ⋮ | ⋮ | ⋮ | ⋮ | ⋮ | ⋮ | ⋮ | ⋮ | ⋮ | ⋮ |\n",
       "| 204549 |   431114 |   431115 | 0 | 9 |  0 | 0 | 9 |  1 | 2017-10-14 04:55:27 | 2017-10-14 14:14:28 | bug   | FALSE | TRUE | bug   |\n",
       "| 518556 |   531487 |   531488 | 3 | 2 |  9 | 3 | 2 | 10 | 2019-12-09 19:17:44 | 2020-11-05 00:33:05 | bug   | FALSE | TRUE | bug   |\n",
       "| 521460 |   569672 |   569673 | 0 | 1 |  9 | 0 | 1 | 10 | 2021-12-16 21:17:29 | 2022-03-02 22:40:24 | bug   | FALSE | TRUE | bug   |\n",
       "| 551229 |   854318 |   854319 | 1 | 7 |  0 | 1 | 9 |  0 | 2020-09-24 21:56:05 | 2021-05-27 18:26:23 | minor | FALSE | TRUE | minor |\n",
       "| 551229 |   854321 |   854322 | 2 | 1 |  0 | 2 | 2 |  0 | 2021-02-04 00:56:01 | 2021-05-27 20:39:22 | minor | FALSE | TRUE | minor |\n",
       "| 551230 |   854342 |   854343 | 1 | 7 |  0 | 1 | 9 |  0 | 2020-09-24 21:56:02 | 2021-05-27 18:26:25 | minor | FALSE | TRUE | minor |\n",
       "| 551230 |   854345 |   854346 | 2 | 1 |  0 | 2 | 2 |  0 | 2021-02-04 00:56:01 | 2021-05-27 20:39:22 | minor | FALSE | TRUE | minor |\n",
       "| 552721 |   868612 |   868613 | 3 | 0 |  7 | 3 | 0 |  8 | 2021-02-23 21:34:37 | 2021-03-23 22:01:45 | bug   | FALSE | TRUE | bug   |\n",
       "| 559035 |   994044 |   994045 | 1 | 0 |  1 | 1 | 0 |  2 | 2019-02-09 16:47:03 | 2019-02-10 16:51:36 | bug   | FALSE | TRUE | bug   |\n",
       "| 586724 |  1334489 |  1334490 | 2 | 1 |  0 | 2 | 1 |  1 | 2019-03-22 05:51:45 | 2020-02-13 05:35:30 | bug   | FALSE | TRUE | bug   |\n",
       "| 586752 |  1334598 |  1334599 | 5 | 1 |  1 | 5 | 1 |  2 | 2019-09-13 19:42:25 | 2020-02-13 17:12:00 | bug   | FALSE | TRUE | bug   |\n",
       "| 594550 |  1429389 |  1429390 | 1 | 1 |  2 | 1 | 1 |  3 | 2021-01-01 14:42:45 | 2021-11-08 16:01:31 | bug   | FALSE | TRUE | bug   |\n",
       "| 619000 |  1636673 |  1636674 | 4 | 5 |  1 | 4 | 5 |  2 | 2020-07-14 09:37:32 | 2020-07-14 09:50:21 | bug   | FALSE | TRUE | bug   |\n",
       "| 622181 |  1680583 |  1680584 | 1 | 0 |  2 | 1 | 0 |  3 | 2019-10-21 00:05:52 | 2020-02-22 18:36:32 | bug   | FALSE | TRUE | bug   |\n",
       "| 637368 |  2007425 |  2007426 | 4 | 3 |  3 | 4 | 3 |  6 | 2020-10-30 03:51:52 | 2020-12-04 05:57:45 | bug   | FALSE | TRUE | bug   |\n",
       "| 641084 |  2036884 |  2036885 | 0 | 1 |  3 | 0 | 1 |  4 | 2021-09-17 14:17:08 | 2022-02-25 15:05:23 | bug   | FALSE | TRUE | bug   |\n",
       "| 641084 |  2036885 |  2036886 | 0 | 1 |  4 | 0 | 1 |  5 | 2022-02-25 15:05:23 | 2022-02-27 18:47:14 | bug   | FALSE | TRUE | bug   |\n",
       "| 665278 |  2335815 |  2335816 | 6 | 1 |  1 | 6 | 1 |  2 | 2019-06-26 06:18:23 | 2019-09-13 19:24:19 | bug   | FALSE | TRUE | bug   |\n",
       "| 665278 |  2335816 |  2335817 | 6 | 1 |  2 | 6 | 1 |  3 | 2019-09-13 19:24:19 | 2020-02-13 18:19:22 | bug   | FALSE | TRUE | bug   |\n",
       "| 665278 |  2335820 |  2335821 | 7 | 0 |  2 | 7 | 0 |  3 | 2020-02-13 16:51:21 | 2020-02-13 19:11:57 | bug   | FALSE | TRUE | bug   |\n",
       "| 684555 |  2527431 |  2527432 | 4 | 6 |  8 | 4 | 7 |  0 | 2020-06-30 15:59:52 | 2020-08-18 14:10:57 | minor | FALSE | TRUE | minor |\n",
       "| 685428 |  2540904 |  2540905 | 2 | 7 |  0 | 2 | 7 |  1 | 2020-06-28 04:23:02 | 2022-01-07 02:31:21 | bug   | FALSE | TRUE | bug   |\n",
       "| 718529 | 28889311 | 28889312 | 1 | 0 |  1 | 1 | 1 |  0 | 2022-09-24 04:08:19 | 2022-09-24 04:10:52 | minor | FALSE | TRUE | minor |\n",
       "| 765190 |  3256063 |  3256064 | 2 | 0 |  7 | 2 | 0 |  8 | 2021-04-13 16:47:39 | 2021-04-15 17:13:19 | bug   | FALSE | TRUE | bug   |\n",
       "| 766704 |  3278948 |  3278949 | 1 | 2 |  2 | 1 | 2 |  3 | 2019-03-14 12:45:08 | 2019-04-14 20:44:52 | bug   | FALSE | TRUE | bug   |\n",
       "| 795318 |  3672429 |  3672430 | 6 | 0 |  2 | 6 | 0 |  3 | 2021-02-13 14:33:35 | 2021-02-18 16:06:23 | bug   | FALSE | TRUE | bug   |\n",
       "| 795318 |  3672432 |  3672433 | 7 | 0 |  1 | 7 | 0 |  2 | 2021-02-13 14:43:38 | 2021-02-18 16:09:39 | bug   | FALSE | TRUE | bug   |\n",
       "| 812962 |  3874219 |  3874220 | 0 | 1 |  0 | 0 | 1 |  1 | 2021-03-23 01:00:19 | 2021-03-23 01:07:58 | bug   | FALSE | TRUE | bug   |\n",
       "| 831218 |  4070514 |  4070515 | 3 | 1 | 62 | 3 | 1 | 63 | 2020-05-21 17:04:23 | 2020-05-25 12:31:59 | bug   | FALSE | TRUE | bug   |\n",
       "| 839166 |  4160445 |  4160446 | 0 | 5 |  1 | 0 | 5 |  2 | 2021-01-15 13:36:23 | 2021-02-26 09:46:55 | bug   | FALSE | TRUE | bug   |\n",
       "\n"
      ],
      "text/plain": [
       "     package_id from_id  to_id    from_semver_major from_semver_minor\n",
       "1     849985     4278123  4278124  1                 0               \n",
       "2     849985     4278124  4278125  1                 0               \n",
       "3     887283     4747046  4747047  1                 0               \n",
       "4     906777     4952934  4952937 10                 4               \n",
       "5     909109     4987053  4987054  1                 1               \n",
       "6     930471     5212550  5212551  1                 0               \n",
       "7     938244     5262635  5262636  1                 1               \n",
       "8     958651     5404838  5404839  1                13               \n",
       "9     960509     5417258  5417259  0                 8               \n",
       "10    964638     5448333  5448334  0                 1               \n",
       "11    980291     5556176  5556177  0                 6               \n",
       "12    980772     5559435  5559436  1                 1               \n",
       "13    980772     5559436  5559437  1                 1               \n",
       "14   1008346     5768085  5768086  2                 3               \n",
       "15   1038088    28545637 28545638  1                 2               \n",
       "16   1043731    26986665 28894698  3                 0               \n",
       "17   1044135     6144107  6144108  1                 1               \n",
       "18   1056343     6276968  6276969  1                 8               \n",
       "19   1065341     6356985  6356986  1                 0               \n",
       "20   1072643     6410953  6410954  2                 1               \n",
       "21   1104262     6648037  6648038  1                 0               \n",
       "22   1104518     6651622  6651623  4                 0               \n",
       "23   1109560     6680890  6680891  0                 4               \n",
       "24   1109880     6685192  6685193  1                 0               \n",
       "25   1130234     6843318 27523269  0                 2               \n",
       "26   1152708     6998142  6998143  1                 0               \n",
       "27   1159224     7048688  7048689  3                 1               \n",
       "28   1166781     7107834  7107835  1                 4               \n",
       "29   1167884     7115888  7115889  0                 2               \n",
       "30   1168278     7118328  7118329  8                 5               \n",
       "⋮    ⋮          ⋮        ⋮        ⋮                 ⋮                \n",
       "1362 204549       431114   431115 0                 9                \n",
       "1363 518556       531487   531488 3                 2                \n",
       "1364 521460       569672   569673 0                 1                \n",
       "1365 551229       854318   854319 1                 7                \n",
       "1366 551229       854321   854322 2                 1                \n",
       "1367 551230       854342   854343 1                 7                \n",
       "1368 551230       854345   854346 2                 1                \n",
       "1369 552721       868612   868613 3                 0                \n",
       "1370 559035       994044   994045 1                 0                \n",
       "1371 586724      1334489  1334490 2                 1                \n",
       "1372 586752      1334598  1334599 5                 1                \n",
       "1373 594550      1429389  1429390 1                 1                \n",
       "1374 619000      1636673  1636674 4                 5                \n",
       "1375 622181      1680583  1680584 1                 0                \n",
       "1376 637368      2007425  2007426 4                 3                \n",
       "1377 641084      2036884  2036885 0                 1                \n",
       "1378 641084      2036885  2036886 0                 1                \n",
       "1379 665278      2335815  2335816 6                 1                \n",
       "1380 665278      2335816  2335817 6                 1                \n",
       "1381 665278      2335820  2335821 7                 0                \n",
       "1382 684555      2527431  2527432 4                 6                \n",
       "1383 685428      2540904  2540905 2                 7                \n",
       "1384 718529     28889311 28889312 1                 0                \n",
       "1385 765190      3256063  3256064 2                 0                \n",
       "1386 766704      3278948  3278949 1                 2                \n",
       "1387 795318      3672429  3672430 6                 0                \n",
       "1388 795318      3672432  3672433 7                 0                \n",
       "1389 812962      3874219  3874220 0                 1                \n",
       "1390 831218      4070514  4070515 3                 1                \n",
       "1391 839166      4160445  4160446 0                 5                \n",
       "     from_semver_bug to_semver_major to_semver_minor to_semver_bug\n",
       "1    0                1               0               1           \n",
       "2    1                1               0               2           \n",
       "3    1                1               0               2           \n",
       "4    0               10               4               1           \n",
       "5    3                1               1               4           \n",
       "6    6                1               1               0           \n",
       "7    1                1               1               2           \n",
       "8    1                1              13               2           \n",
       "9    0                0               8               2           \n",
       "10   1                0               1               2           \n",
       "11   1                0               6               2           \n",
       "12   4                1               1               5           \n",
       "13   5                1               1               6           \n",
       "14   0                2               4               0           \n",
       "15   2                1               2               3           \n",
       "16   1                3               0               2           \n",
       "17   7                1               1               8           \n",
       "18   0                1               9               0           \n",
       "19   4                1               0               5           \n",
       "20   4                2               2               0           \n",
       "21   1                1               0               2           \n",
       "22   1                4               0               2           \n",
       "23   6                0               4               7           \n",
       "24   9                1               0              10           \n",
       "25   0                0               2               1           \n",
       "26   6                1               0               7           \n",
       "27   2                3               1               3           \n",
       "28   0                1               4               1           \n",
       "29   0                0               2               1           \n",
       "30   0                8               5               1           \n",
       "⋮    ⋮               ⋮               ⋮               ⋮            \n",
       "1362  0              0               9                1           \n",
       "1363  9              3               2               10           \n",
       "1364  9              0               1               10           \n",
       "1365  0              1               9                0           \n",
       "1366  0              2               2                0           \n",
       "1367  0              1               9                0           \n",
       "1368  0              2               2                0           \n",
       "1369  7              3               0                8           \n",
       "1370  1              1               0                2           \n",
       "1371  0              2               1                1           \n",
       "1372  1              5               1                2           \n",
       "1373  2              1               1                3           \n",
       "1374  1              4               5                2           \n",
       "1375  2              1               0                3           \n",
       "1376  3              4               3                6           \n",
       "1377  3              0               1                4           \n",
       "1378  4              0               1                5           \n",
       "1379  1              6               1                2           \n",
       "1380  2              6               1                3           \n",
       "1381  2              7               0                3           \n",
       "1382  8              4               7                0           \n",
       "1383  0              2               7                1           \n",
       "1384  1              1               1                0           \n",
       "1385  7              2               0                8           \n",
       "1386  2              1               2                3           \n",
       "1387  2              6               0                3           \n",
       "1388  1              7               0                2           \n",
       "1389  0              0               1                1           \n",
       "1390 62              3               1               63           \n",
       "1391  1              0               5                2           \n",
       "     from_created        to_created          ty    did_intro_vuln\n",
       "1    2018-03-18 18:34:22 2020-10-29 12:53:17 bug   FALSE         \n",
       "2    2020-10-29 12:53:17 2022-01-27 17:26:29 bug   FALSE         \n",
       "3    2021-09-08 08:17:50 2021-09-08 13:35:35 bug   FALSE         \n",
       "4    2020-11-18 19:10:38 2020-12-03 17:22:31 bug   FALSE         \n",
       "5    2021-03-09 06:45:58 2021-05-24 02:45:44 bug   FALSE         \n",
       "6    2018-02-07 18:14:18 2019-07-17 09:58:11 minor FALSE         \n",
       "7    2019-05-17 22:02:08 2019-05-17 22:09:15 bug   FALSE         \n",
       "8    2021-01-20 15:53:53 2021-01-24 18:52:33 bug   FALSE         \n",
       "9    2018-06-22 01:01:40 2019-07-18 08:02:24 bug   FALSE         \n",
       "10   2018-02-10 11:28:13 2018-03-04 06:27:05 bug   FALSE         \n",
       "11   2019-02-25 16:54:15 2019-02-27 21:01:29 bug   FALSE         \n",
       "12   2019-12-09 23:08:57 2019-12-10 00:29:26 bug   FALSE         \n",
       "13   2019-12-10 00:29:26 2019-12-11 18:49:05 bug   FALSE         \n",
       "14   2019-06-02 20:33:40 2019-08-20 01:34:28 minor FALSE         \n",
       "15   2022-08-17 13:21:35 2022-08-25 02:34:28 bug   FALSE         \n",
       "16   2022-07-21 14:27:53 2022-09-25 08:20:34 bug   FALSE         \n",
       "17   2020-09-17 21:39:23 2020-10-28 20:33:09 bug   FALSE         \n",
       "18   2021-02-20 23:31:29 2021-03-23 00:30:45 minor FALSE         \n",
       "19   2020-02-16 13:12:32 2020-02-21 12:51:40 bug   FALSE         \n",
       "20   2018-09-13 13:37:11 2018-10-04 22:40:20 minor FALSE         \n",
       "21   2020-09-03 14:40:14 2021-04-13 13:32:40 bug   FALSE         \n",
       "22   2022-03-14 11:56:18 2022-03-31 08:03:17 bug   FALSE         \n",
       "23   2019-12-12 03:58:11 2020-01-08 01:37:05 bug   FALSE         \n",
       "24   2018-02-24 12:34:09 2018-04-17 12:55:03 bug   FALSE         \n",
       "25   2022-04-29 16:14:47 2022-07-28 17:42:17 bug   FALSE         \n",
       "26   2018-03-05 21:44:49 2018-03-05 21:53:25 bug   FALSE         \n",
       "27   2020-06-22 14:09:44 2021-03-19 19:10:11 bug   FALSE         \n",
       "28   2019-07-14 09:08:39 2019-08-20 10:23:20 bug   FALSE         \n",
       "29   2019-04-03 17:30:58 2020-03-04 18:29:49 bug   FALSE         \n",
       "30   2019-10-31 00:37:10 2020-02-08 06:45:41 bug   FALSE         \n",
       "⋮    ⋮                   ⋮                   ⋮     ⋮             \n",
       "1362 2017-10-14 04:55:27 2017-10-14 14:14:28 bug   FALSE         \n",
       "1363 2019-12-09 19:17:44 2020-11-05 00:33:05 bug   FALSE         \n",
       "1364 2021-12-16 21:17:29 2022-03-02 22:40:24 bug   FALSE         \n",
       "1365 2020-09-24 21:56:05 2021-05-27 18:26:23 minor FALSE         \n",
       "1366 2021-02-04 00:56:01 2021-05-27 20:39:22 minor FALSE         \n",
       "1367 2020-09-24 21:56:02 2021-05-27 18:26:25 minor FALSE         \n",
       "1368 2021-02-04 00:56:01 2021-05-27 20:39:22 minor FALSE         \n",
       "1369 2021-02-23 21:34:37 2021-03-23 22:01:45 bug   FALSE         \n",
       "1370 2019-02-09 16:47:03 2019-02-10 16:51:36 bug   FALSE         \n",
       "1371 2019-03-22 05:51:45 2020-02-13 05:35:30 bug   FALSE         \n",
       "1372 2019-09-13 19:42:25 2020-02-13 17:12:00 bug   FALSE         \n",
       "1373 2021-01-01 14:42:45 2021-11-08 16:01:31 bug   FALSE         \n",
       "1374 2020-07-14 09:37:32 2020-07-14 09:50:21 bug   FALSE         \n",
       "1375 2019-10-21 00:05:52 2020-02-22 18:36:32 bug   FALSE         \n",
       "1376 2020-10-30 03:51:52 2020-12-04 05:57:45 bug   FALSE         \n",
       "1377 2021-09-17 14:17:08 2022-02-25 15:05:23 bug   FALSE         \n",
       "1378 2022-02-25 15:05:23 2022-02-27 18:47:14 bug   FALSE         \n",
       "1379 2019-06-26 06:18:23 2019-09-13 19:24:19 bug   FALSE         \n",
       "1380 2019-09-13 19:24:19 2020-02-13 18:19:22 bug   FALSE         \n",
       "1381 2020-02-13 16:51:21 2020-02-13 19:11:57 bug   FALSE         \n",
       "1382 2020-06-30 15:59:52 2020-08-18 14:10:57 minor FALSE         \n",
       "1383 2020-06-28 04:23:02 2022-01-07 02:31:21 bug   FALSE         \n",
       "1384 2022-09-24 04:08:19 2022-09-24 04:10:52 minor FALSE         \n",
       "1385 2021-04-13 16:47:39 2021-04-15 17:13:19 bug   FALSE         \n",
       "1386 2019-03-14 12:45:08 2019-04-14 20:44:52 bug   FALSE         \n",
       "1387 2021-02-13 14:33:35 2021-02-18 16:06:23 bug   FALSE         \n",
       "1388 2021-02-13 14:43:38 2021-02-18 16:09:39 bug   FALSE         \n",
       "1389 2021-03-23 01:00:19 2021-03-23 01:07:58 bug   FALSE         \n",
       "1390 2020-05-21 17:04:23 2020-05-25 12:31:59 bug   FALSE         \n",
       "1391 2021-01-15 13:36:23 2021-02-26 09:46:55 bug   FALSE         \n",
       "     did_patch_vuln tyFact\n",
       "1    TRUE           bug   \n",
       "2    TRUE           bug   \n",
       "3    TRUE           bug   \n",
       "4    TRUE           bug   \n",
       "5    TRUE           bug   \n",
       "6    TRUE           minor \n",
       "7    TRUE           bug   \n",
       "8    TRUE           bug   \n",
       "9    TRUE           bug   \n",
       "10   TRUE           bug   \n",
       "11   TRUE           bug   \n",
       "12   TRUE           bug   \n",
       "13   TRUE           bug   \n",
       "14   TRUE           minor \n",
       "15   TRUE           bug   \n",
       "16   TRUE           bug   \n",
       "17   TRUE           bug   \n",
       "18   TRUE           minor \n",
       "19   TRUE           bug   \n",
       "20   TRUE           minor \n",
       "21   TRUE           bug   \n",
       "22   TRUE           bug   \n",
       "23   TRUE           bug   \n",
       "24   TRUE           bug   \n",
       "25   TRUE           bug   \n",
       "26   TRUE           bug   \n",
       "27   TRUE           bug   \n",
       "28   TRUE           bug   \n",
       "29   TRUE           bug   \n",
       "30   TRUE           bug   \n",
       "⋮    ⋮              ⋮     \n",
       "1362 TRUE           bug   \n",
       "1363 TRUE           bug   \n",
       "1364 TRUE           bug   \n",
       "1365 TRUE           minor \n",
       "1366 TRUE           minor \n",
       "1367 TRUE           minor \n",
       "1368 TRUE           minor \n",
       "1369 TRUE           bug   \n",
       "1370 TRUE           bug   \n",
       "1371 TRUE           bug   \n",
       "1372 TRUE           bug   \n",
       "1373 TRUE           bug   \n",
       "1374 TRUE           bug   \n",
       "1375 TRUE           bug   \n",
       "1376 TRUE           bug   \n",
       "1377 TRUE           bug   \n",
       "1378 TRUE           bug   \n",
       "1379 TRUE           bug   \n",
       "1380 TRUE           bug   \n",
       "1381 TRUE           bug   \n",
       "1382 TRUE           minor \n",
       "1383 TRUE           bug   \n",
       "1384 TRUE           minor \n",
       "1385 TRUE           bug   \n",
       "1386 TRUE           bug   \n",
       "1387 TRUE           bug   \n",
       "1388 TRUE           bug   \n",
       "1389 TRUE           bug   \n",
       "1390 TRUE           bug   \n",
       "1391 TRUE           bug   "
      ]
     },
     "metadata": {},
     "output_type": "display_data"
    }
   ],
   "source": [
    "patches_only"
   ]
  },
  {
   "attachments": {},
   "cell_type": "markdown",
   "metadata": {},
   "source": [
    "# Make plots!"
   ]
  },
  {
   "attachments": {},
   "cell_type": "markdown",
   "metadata": {},
   "source": [
    "### What proportion of each package's update are each type?"
   ]
  },
  {
   "cell_type": "code",
   "execution_count": 11,
   "metadata": {
    "vscode": {
     "languageId": "r"
    }
   },
   "outputs": [
    {
     "name": "stderr",
     "output_type": "stream",
     "text": [
      "\u001b[1m\u001b[22m`summarise()` has grouped output by 'package_id', 'did_intro_vuln',\n",
      "'did_patch_vuln'. You can override using the `.groups` argument.\n"
     ]
    }
   ],
   "source": [
    "# creates a data frame with one row per package, and columns for count of each update type\n",
    "updateCountsByPackage <- all_updates %>%\n",
    "    group_by(package_id,did_intro_vuln,did_patch_vuln,tyFact) %>%\n",
    "    summarise(\n",
    "        count = n()\n",
    "    ) %>% \n",
    "    pivot_wider(names_from = tyFact, values_from = count, values_fill=0) %>%\n",
    "    mutate(total = bug + minor + major,\n",
    "           bugPct = bug / total,\n",
    "           majorPct = major / total,\n",
    "           minorPct = minor / total,\n",
    "    ) %>%\n",
    "    mutate(update_action = ifelse(did_intro_vuln, 'Intro vuln', ifelse(did_patch_vuln, 'Patch vuln', 'No security effect')))"
   ]
  },
  {
   "cell_type": "code",
   "execution_count": 12,
   "metadata": {
    "vscode": {
     "languageId": "r"
    }
   },
   "outputs": [
    {
     "data": {
      "text/html": [
       "<table class=\"dataframe\">\n",
       "<caption>A grouped_df: 6 × 11</caption>\n",
       "<thead>\n",
       "\t<tr><th scope=col>package_id</th><th scope=col>did_intro_vuln</th><th scope=col>did_patch_vuln</th><th scope=col>bug</th><th scope=col>minor</th><th scope=col>major</th><th scope=col>total</th><th scope=col>bugPct</th><th scope=col>majorPct</th><th scope=col>minorPct</th><th scope=col>update_action</th></tr>\n",
       "\t<tr><th scope=col>&lt;int64&gt;</th><th scope=col>&lt;lgl&gt;</th><th scope=col>&lt;lgl&gt;</th><th scope=col>&lt;int&gt;</th><th scope=col>&lt;int&gt;</th><th scope=col>&lt;int&gt;</th><th scope=col>&lt;int&gt;</th><th scope=col>&lt;dbl&gt;</th><th scope=col>&lt;dbl&gt;</th><th scope=col>&lt;dbl&gt;</th><th scope=col>&lt;chr&gt;</th></tr>\n",
       "</thead>\n",
       "<tbody>\n",
       "\t<tr><td> 335</td><td>FALSE</td><td>FALSE</td><td>150</td><td>182</td><td>12</td><td>344</td><td>0.4360465</td><td>0.03488372</td><td>0.5290698</td><td>No security effect</td></tr>\n",
       "\t<tr><td> 336</td><td>FALSE</td><td>FALSE</td><td>  2</td><td>  0</td><td> 0</td><td>  2</td><td>1.0000000</td><td>0.00000000</td><td>0.0000000</td><td>No security effect</td></tr>\n",
       "\t<tr><td> 337</td><td>FALSE</td><td>FALSE</td><td>  1</td><td>  0</td><td> 0</td><td>  1</td><td>1.0000000</td><td>0.00000000</td><td>0.0000000</td><td>No security effect</td></tr>\n",
       "\t<tr><td> 341</td><td>FALSE</td><td>FALSE</td><td>384</td><td>233</td><td>18</td><td>635</td><td>0.6047244</td><td>0.02834646</td><td>0.3669291</td><td>No security effect</td></tr>\n",
       "\t<tr><td> 488</td><td>FALSE</td><td>FALSE</td><td>  1</td><td>  0</td><td> 1</td><td>  2</td><td>0.5000000</td><td>0.50000000</td><td>0.0000000</td><td>No security effect</td></tr>\n",
       "\t<tr><td>2580</td><td>FALSE</td><td>FALSE</td><td>  2</td><td>  1</td><td> 0</td><td>  3</td><td>0.6666667</td><td>0.00000000</td><td>0.3333333</td><td>No security effect</td></tr>\n",
       "</tbody>\n",
       "</table>\n"
      ],
      "text/latex": [
       "A grouped\\_df: 6 × 11\n",
       "\\begin{tabular}{lllllllllll}\n",
       " package\\_id & did\\_intro\\_vuln & did\\_patch\\_vuln & bug & minor & major & total & bugPct & majorPct & minorPct & update\\_action\\\\\n",
       " <int64> & <lgl> & <lgl> & <int> & <int> & <int> & <int> & <dbl> & <dbl> & <dbl> & <chr>\\\\\n",
       "\\hline\n",
       "\t  335 & FALSE & FALSE & 150 & 182 & 12 & 344 & 0.4360465 & 0.03488372 & 0.5290698 & No security effect\\\\\n",
       "\t  336 & FALSE & FALSE &   2 &   0 &  0 &   2 & 1.0000000 & 0.00000000 & 0.0000000 & No security effect\\\\\n",
       "\t  337 & FALSE & FALSE &   1 &   0 &  0 &   1 & 1.0000000 & 0.00000000 & 0.0000000 & No security effect\\\\\n",
       "\t  341 & FALSE & FALSE & 384 & 233 & 18 & 635 & 0.6047244 & 0.02834646 & 0.3669291 & No security effect\\\\\n",
       "\t  488 & FALSE & FALSE &   1 &   0 &  1 &   2 & 0.5000000 & 0.50000000 & 0.0000000 & No security effect\\\\\n",
       "\t 2580 & FALSE & FALSE &   2 &   1 &  0 &   3 & 0.6666667 & 0.00000000 & 0.3333333 & No security effect\\\\\n",
       "\\end{tabular}\n"
      ],
      "text/markdown": [
       "\n",
       "A grouped_df: 6 × 11\n",
       "\n",
       "| package_id &lt;int64&gt; | did_intro_vuln &lt;lgl&gt; | did_patch_vuln &lt;lgl&gt; | bug &lt;int&gt; | minor &lt;int&gt; | major &lt;int&gt; | total &lt;int&gt; | bugPct &lt;dbl&gt; | majorPct &lt;dbl&gt; | minorPct &lt;dbl&gt; | update_action &lt;chr&gt; |\n",
       "|---|---|---|---|---|---|---|---|---|---|---|\n",
       "|  335 | FALSE | FALSE | 150 | 182 | 12 | 344 | 0.4360465 | 0.03488372 | 0.5290698 | No security effect |\n",
       "|  336 | FALSE | FALSE |   2 |   0 |  0 |   2 | 1.0000000 | 0.00000000 | 0.0000000 | No security effect |\n",
       "|  337 | FALSE | FALSE |   1 |   0 |  0 |   1 | 1.0000000 | 0.00000000 | 0.0000000 | No security effect |\n",
       "|  341 | FALSE | FALSE | 384 | 233 | 18 | 635 | 0.6047244 | 0.02834646 | 0.3669291 | No security effect |\n",
       "|  488 | FALSE | FALSE |   1 |   0 |  1 |   2 | 0.5000000 | 0.50000000 | 0.0000000 | No security effect |\n",
       "| 2580 | FALSE | FALSE |   2 |   1 |  0 |   3 | 0.6666667 | 0.00000000 | 0.3333333 | No security effect |\n",
       "\n"
      ],
      "text/plain": [
       "  package_id did_intro_vuln did_patch_vuln bug minor major total bugPct   \n",
       "1  335       FALSE          FALSE          150 182   12    344   0.4360465\n",
       "2  336       FALSE          FALSE            2   0    0      2   1.0000000\n",
       "3  337       FALSE          FALSE            1   0    0      1   1.0000000\n",
       "4  341       FALSE          FALSE          384 233   18    635   0.6047244\n",
       "5  488       FALSE          FALSE            1   0    1      2   0.5000000\n",
       "6 2580       FALSE          FALSE            2   1    0      3   0.6666667\n",
       "  majorPct   minorPct  update_action     \n",
       "1 0.03488372 0.5290698 No security effect\n",
       "2 0.00000000 0.0000000 No security effect\n",
       "3 0.00000000 0.0000000 No security effect\n",
       "4 0.02834646 0.3669291 No security effect\n",
       "5 0.50000000 0.0000000 No security effect\n",
       "6 0.00000000 0.3333333 No security effect"
      ]
     },
     "metadata": {},
     "output_type": "display_data"
    }
   ],
   "source": [
    "head(updateCountsByPackage)"
   ]
  },
  {
   "cell_type": "code",
   "execution_count": 13,
   "metadata": {
    "vscode": {
     "languageId": "r"
    }
   },
   "outputs": [],
   "source": [
    "# make a long version of it for ggplot\n",
    "updateCountsByPackageLong <- updateCountsByPackage %>%\n",
    "    pivot_longer(cols=ends_with(\"Pct\"), names_to=\"ty\", values_to=\"pct\")"
   ]
  },
  {
   "cell_type": "code",
   "execution_count": 14,
   "metadata": {
    "vscode": {
     "languageId": "r"
    }
   },
   "outputs": [],
   "source": [
    "updateCountsByPackageLong$update_action <- factor(updateCountsByPackageLong$update_action, levels=c('No security effect', 'Intro vuln', 'Patch vuln'))\n",
    "updateCountsByPackageLong$ty <- recode(updateCountsByPackageLong$ty, bugPct='Bug', minorPct='Minor', majorPct='Major')\n",
    "updateCountsByPackageLong$ty <- factor(updateCountsByPackageLong$ty, levels=c('Bug', 'Minor', 'Major'))"
   ]
  },
  {
   "cell_type": "code",
   "execution_count": 15,
   "metadata": {
    "vscode": {
     "languageId": "r"
    }
   },
   "outputs": [
    {
     "data": {
      "text/html": [
       "<table class=\"dataframe\">\n",
       "<caption>A grouped_df: 6 × 10</caption>\n",
       "<thead>\n",
       "\t<tr><th scope=col>package_id</th><th scope=col>did_intro_vuln</th><th scope=col>did_patch_vuln</th><th scope=col>bug</th><th scope=col>minor</th><th scope=col>major</th><th scope=col>total</th><th scope=col>update_action</th><th scope=col>ty</th><th scope=col>pct</th></tr>\n",
       "\t<tr><th scope=col>&lt;int64&gt;</th><th scope=col>&lt;lgl&gt;</th><th scope=col>&lt;lgl&gt;</th><th scope=col>&lt;int&gt;</th><th scope=col>&lt;int&gt;</th><th scope=col>&lt;int&gt;</th><th scope=col>&lt;int&gt;</th><th scope=col>&lt;fct&gt;</th><th scope=col>&lt;fct&gt;</th><th scope=col>&lt;dbl&gt;</th></tr>\n",
       "</thead>\n",
       "<tbody>\n",
       "\t<tr><td>335</td><td>FALSE</td><td>FALSE</td><td>150</td><td>182</td><td>12</td><td>344</td><td>No security effect</td><td>Bug  </td><td>0.43604651</td></tr>\n",
       "\t<tr><td>335</td><td>FALSE</td><td>FALSE</td><td>150</td><td>182</td><td>12</td><td>344</td><td>No security effect</td><td>Major</td><td>0.03488372</td></tr>\n",
       "\t<tr><td>335</td><td>FALSE</td><td>FALSE</td><td>150</td><td>182</td><td>12</td><td>344</td><td>No security effect</td><td>Minor</td><td>0.52906977</td></tr>\n",
       "\t<tr><td>336</td><td>FALSE</td><td>FALSE</td><td>  2</td><td>  0</td><td> 0</td><td>  2</td><td>No security effect</td><td>Bug  </td><td>1.00000000</td></tr>\n",
       "\t<tr><td>336</td><td>FALSE</td><td>FALSE</td><td>  2</td><td>  0</td><td> 0</td><td>  2</td><td>No security effect</td><td>Major</td><td>0.00000000</td></tr>\n",
       "\t<tr><td>336</td><td>FALSE</td><td>FALSE</td><td>  2</td><td>  0</td><td> 0</td><td>  2</td><td>No security effect</td><td>Minor</td><td>0.00000000</td></tr>\n",
       "</tbody>\n",
       "</table>\n"
      ],
      "text/latex": [
       "A grouped\\_df: 6 × 10\n",
       "\\begin{tabular}{llllllllll}\n",
       " package\\_id & did\\_intro\\_vuln & did\\_patch\\_vuln & bug & minor & major & total & update\\_action & ty & pct\\\\\n",
       " <int64> & <lgl> & <lgl> & <int> & <int> & <int> & <int> & <fct> & <fct> & <dbl>\\\\\n",
       "\\hline\n",
       "\t 335 & FALSE & FALSE & 150 & 182 & 12 & 344 & No security effect & Bug   & 0.43604651\\\\\n",
       "\t 335 & FALSE & FALSE & 150 & 182 & 12 & 344 & No security effect & Major & 0.03488372\\\\\n",
       "\t 335 & FALSE & FALSE & 150 & 182 & 12 & 344 & No security effect & Minor & 0.52906977\\\\\n",
       "\t 336 & FALSE & FALSE &   2 &   0 &  0 &   2 & No security effect & Bug   & 1.00000000\\\\\n",
       "\t 336 & FALSE & FALSE &   2 &   0 &  0 &   2 & No security effect & Major & 0.00000000\\\\\n",
       "\t 336 & FALSE & FALSE &   2 &   0 &  0 &   2 & No security effect & Minor & 0.00000000\\\\\n",
       "\\end{tabular}\n"
      ],
      "text/markdown": [
       "\n",
       "A grouped_df: 6 × 10\n",
       "\n",
       "| package_id &lt;int64&gt; | did_intro_vuln &lt;lgl&gt; | did_patch_vuln &lt;lgl&gt; | bug &lt;int&gt; | minor &lt;int&gt; | major &lt;int&gt; | total &lt;int&gt; | update_action &lt;fct&gt; | ty &lt;fct&gt; | pct &lt;dbl&gt; |\n",
       "|---|---|---|---|---|---|---|---|---|---|\n",
       "| 335 | FALSE | FALSE | 150 | 182 | 12 | 344 | No security effect | Bug   | 0.43604651 |\n",
       "| 335 | FALSE | FALSE | 150 | 182 | 12 | 344 | No security effect | Major | 0.03488372 |\n",
       "| 335 | FALSE | FALSE | 150 | 182 | 12 | 344 | No security effect | Minor | 0.52906977 |\n",
       "| 336 | FALSE | FALSE |   2 |   0 |  0 |   2 | No security effect | Bug   | 1.00000000 |\n",
       "| 336 | FALSE | FALSE |   2 |   0 |  0 |   2 | No security effect | Major | 0.00000000 |\n",
       "| 336 | FALSE | FALSE |   2 |   0 |  0 |   2 | No security effect | Minor | 0.00000000 |\n",
       "\n"
      ],
      "text/plain": [
       "  package_id did_intro_vuln did_patch_vuln bug minor major total\n",
       "1 335        FALSE          FALSE          150 182   12    344  \n",
       "2 335        FALSE          FALSE          150 182   12    344  \n",
       "3 335        FALSE          FALSE          150 182   12    344  \n",
       "4 336        FALSE          FALSE            2   0    0      2  \n",
       "5 336        FALSE          FALSE            2   0    0      2  \n",
       "6 336        FALSE          FALSE            2   0    0      2  \n",
       "  update_action      ty    pct       \n",
       "1 No security effect Bug   0.43604651\n",
       "2 No security effect Major 0.03488372\n",
       "3 No security effect Minor 0.52906977\n",
       "4 No security effect Bug   1.00000000\n",
       "5 No security effect Major 0.00000000\n",
       "6 No security effect Minor 0.00000000"
      ]
     },
     "metadata": {},
     "output_type": "display_data"
    }
   ],
   "source": [
    "head(updateCountsByPackageLong)"
   ]
  },
  {
   "cell_type": "code",
   "execution_count": 21,
   "metadata": {
    "vscode": {
     "languageId": "r"
    }
   },
   "outputs": [
    {
     "data": {
      "image/png": "[encoded data removed]",
      "text/plain": [
       "plot without title"
      ]
     },
     "metadata": {
      "image/png": {
       "height": 420,
       "width": 420
      }
     },
     "output_type": "display_data"
    },
    {
     "ename": "",
     "evalue": "",
     "output_type": "error",
     "traceback": [
      "\u001b[1;31mThe Kernel crashed while executing code in the the current cell or a previous cell. Please review the code in the cell(s) to identify a possible cause of the failure. Click <a href='https://aka.ms/vscodeJupyterKernelCrash'>here</a> for more info. View Jupyter <a href='command:jupyter.viewOutput'>log</a> for further details."
     ]
    }
   ],
   "source": [
    "# box plots of the percentage of updates that are each type\n",
    "ggplot(data = updateCountsByPackageLong, aes(x = update_action, y = pct, fill=ty)) +\n",
    "    geom_boxplot() +\n",
    "    #sets the labels for the x-axis:\n",
    "    # scale_x_discrete(limits=c(\"normal\", \"introduce vuln\", \"patch vuln\")) +\n",
    "    scale_y_continuous(labels = scales::percent) + \n",
    "    #sets the title of the plot\n",
    "    labs(fill='Semver Increment Type', x='Update Security Effect', y = 'Percentage of each package\\'s updates') + \n",
    "    mythemeboxplot()\n",
    "\n",
    "mysave(\"plots/rq2/update_type_with_security.png\")"
   ]
  },
  {
   "cell_type": "code",
   "execution_count": 16,
   "metadata": {
    "vscode": {
     "languageId": "r"
    }
   },
   "outputs": [
    {
     "name": "stderr",
     "output_type": "stream",
     "text": [
      "Warning message:\n",
      "“\u001b[1m\u001b[22mThe `fun.y` argument of `stat_summary()` is deprecated as of ggplot2 3.3.0.\n",
      "\u001b[36mℹ\u001b[39m Please use the `fun` argument instead.”\n",
      "Warning message:\n",
      "“\u001b[1m\u001b[22mThe `size` argument of `element_line()` is deprecated as of ggplot2 3.4.0.\n",
      "\u001b[36mℹ\u001b[39m Please use the `linewidth` argument instead.”\n",
      "Warning message:\n",
      "“\u001b[1m\u001b[22mThe dot-dot notation (`..y..`) was deprecated in ggplot2 3.4.0.\n",
      "\u001b[36mℹ\u001b[39m Please use `after_stat(y)` instead.”\n"
     ]
    },
    {
     "data": {
      "image/png": "[encoded data removed]",
      "text/plain": [
       "plot without title"
      ]
     },
     "metadata": {
      "image/png": {
       "height": 420,
       "width": 420
      }
     },
     "output_type": "display_data"
    }
   ],
   "source": [
    "\n",
    "\n",
    "# box plots of the percentage of updates that are each type\n",
    "ggplot(data = updateCountsByPackageLong, aes(x = update_action, y = pct, fill=ty)) +\n",
    "    geom_boxplot() +\n",
    "    stat_summary(geom=\"text\", fun.y=quantile,\n",
    "               aes(label=sprintf(\"%1.4f\", ..y..), x=update_action, color=ty),\n",
    "               position=position_nudge(x=0.45), \n",
    "               size=3.5) +\n",
    "\n",
    "    #sets the labels for the x-axis:\n",
    "    # scale_x_discrete(limits=c(\"normal\", \"introduce vuln\", \"patch vuln\")) +\n",
    "    scale_y_continuous(labels = scales::percent) + \n",
    "    #sets the title of the plot\n",
    "    labs(fill='Semver Increment Type', x='Update Security Effect', y = 'Percentage of each package\\'s updates') + \n",
    "    mythemeboxplot()\n",
    "\n",
    "# mysave(\"plots/rq2/update_type_with_security.png\")"
   ]
  },
  {
   "cell_type": "code",
   "execution_count": null,
   "metadata": {
    "vscode": {
     "languageId": "r"
    }
   },
   "outputs": [],
   "source": []
  }
 ],
 "metadata": {
  "kernelspec": {
   "display_name": "R",
   "language": "R",
   "name": "ir"
  },
  "language_info": {
   "codemirror_mode": "r",
   "file_extension": ".r",
   "mimetype": "text/x-r-source",
   "name": "R",
   "pygments_lexer": "r",
   "version": "3.6.3"
  },
  "orig_nbformat": 4
 },
 "nbformat": 4,
 "nbformat_minor": 2
}
